{
 "cells": [
  {
   "cell_type": "code",
   "execution_count": 12,
   "id": "0cd41f1b-5f93-493d-9cc6-8bdcecef0f29",
   "metadata": {},
   "outputs": [],
   "source": [
    "import torch\n",
    "from torch import nn\n",
    "import numpy as np"
   ]
  },
  {
   "cell_type": "markdown",
   "id": "a069969b-4e08-4aef-8b51-c749b598ff15",
   "metadata": {},
   "source": [
    "# RNN"
   ]
  },
  {
   "cell_type": "code",
   "execution_count": 4,
   "id": "a1e68900-2121-4ef6-a0c2-2cb58b215c9f",
   "metadata": {},
   "outputs": [
    {
     "name": "stdout",
     "output_type": "stream",
     "text": [
      "RNN(100, 20)\n"
     ]
    }
   ],
   "source": [
    "rnn = nn.RNN(input_size = 100, hidden_size = 20, num_layers = 1)\n",
    "'''\n",
    "input_size表示每一个单词的特征维度大小\n",
    "hidden_size表示每一个隐藏层特征维度的大小\n",
    "num_layers表示有多少个RNN网络层相连\n",
    "'''\n",
    "print(rnn)"
   ]
  },
  {
   "cell_type": "code",
   "execution_count": 6,
   "id": "b8a6ae8c-f7f8-4166-8bb9-9d57ed135b8d",
   "metadata": {},
   "outputs": [
    {
     "name": "stdout",
     "output_type": "stream",
     "text": [
      "torch.Size([10, 3, 20]) torch.Size([1, 3, 20])\n"
     ]
    }
   ],
   "source": [
    "#准备数据\n",
    "x = torch.randn(10, 3, 100)#表示的是3句话，每句话有10个单词，每个单词的维度是100\n",
    "out, h = rnn(x, torch.zeros(1, 3, 20))#这里的torch.zeros(1, 3, 20)表示的0语义\n",
    "print(out.shape, h.shape)#out(存储着最后一层RNN每一个单词循环后的语义信息) h(存储着每一层RNN最后一个时间序列数据的语义信息)\n",
    "'''\n",
    "如果存在2层RNN out [10, 3, 20] h [2, 3, 20] \n",
    "'''"
   ]
  },
  {
   "cell_type": "markdown",
   "id": "1848212c-af10-4ef3-9967-206b70803f94",
   "metadata": {},
   "source": [
    "# RNNCELL"
   ]
  },
  {
   "cell_type": "code",
   "execution_count": 9,
   "id": "e02c0542-c451-4530-8f05-90934125e398",
   "metadata": {},
   "outputs": [
    {
     "name": "stdout",
     "output_type": "stream",
     "text": [
      "torch.Size([3, 20])\n"
     ]
    }
   ],
   "source": [
    "cell1 = nn.RNNCell(100, 20)#input_size hidden_size\n",
    "x = torch.randn(10, 3, 100)\n",
    "h1 = torch.zeros(3, 20)#句子数量 隐藏层数量， 而第几个时间序列的信息则不再需要\n",
    "for xt in x:\n",
    "    h1 = cell1(xt, h1)\n",
    "print(h1.shape)"
   ]
  },
  {
   "cell_type": "code",
   "execution_count": 11,
   "id": "74aebc9f-0c91-4e0b-9621-240cd99d6afa",
   "metadata": {},
   "outputs": [
    {
     "name": "stdout",
     "output_type": "stream",
     "text": [
      "torch.Size([3, 20])\n"
     ]
    }
   ],
   "source": [
    "#多层循环\n",
    "cell1 = nn.RNNCell(100, 30)\n",
    "cell2 = nn.RNNCell(30, 20)\n",
    "h1 = torch.zeros(3, 30)\n",
    "h2 = torch.zeros(3, 20)\n",
    "for xt in x:\n",
    "    h1 = cell1(xt, h1)\n",
    "    h2 = cell2(h1, h2)\n",
    "print(h2.shape)"
   ]
  },
  {
   "cell_type": "markdown",
   "id": "cf14ffa2-6192-4fcb-a1de-361f750812fc",
   "metadata": {},
   "source": [
    "# 正弦曲线预测"
   ]
  },
  {
   "cell_type": "code",
   "execution_count": 14,
   "id": "15a6d3db-51af-4170-83d1-f87bb3e0ba79",
   "metadata": {},
   "outputs": [
    {
     "data": {
      "text/plain": [
       "(50, 1)"
      ]
     },
     "execution_count": 14,
     "metadata": {},
     "output_type": "execute_result"
    }
   ],
   "source": [
    "num_time_steps = 50\n",
    "start = np.random.randint(3, size = 1)[0]\n",
    "time_steps = np.linspace(start, start + 10, num_time_steps)\n",
    "data = np.sin(time_steps)\n",
    "data = data.reshape(num_time_steps, 1)\n",
    "data.shape"
   ]
  },
  {
   "cell_type": "code",
   "execution_count": 21,
   "id": "47e794e5-7220-46d9-b2c7-d8cd0e19ac84",
   "metadata": {},
   "outputs": [
    {
     "data": {
      "text/plain": [
       "(torch.Size([1, 49, 1]), torch.Size([1, 49, 1]))"
      ]
     },
     "execution_count": 21,
     "metadata": {},
     "output_type": "execute_result"
    }
   ],
   "source": [
    "x = torch.tensor(data[: -1]).float().view(1, num_time_steps - 1, 1)#[b, sequence, f]\n",
    "y = torch.tensor(data[1:  ]).float().view(1, num_time_steps - 1, 1)\n",
    "'''\n",
    "x当前值 \n",
    "y预测值\n",
    "'''\n",
    "x.shape, y.shape"
   ]
  },
  {
   "cell_type": "code",
   "execution_count": 41,
   "id": "84114fb6-26e2-4447-b02f-22dce7cda20d",
   "metadata": {},
   "outputs": [],
   "source": [
    "#model\n",
    "class MyRNN(nn.Module):\n",
    "    def __init__(self):\n",
    "        super(MyRNN, self).__init__()\n",
    "        self.rnn = nn.RNN(\n",
    "        input_size = 1,\n",
    "        hidden_size = 20,\n",
    "        num_layers = 1,\n",
    "        batch_first = True,\n",
    "        )#[b, sequence, f]\n",
    "        self.linear = nn.Linear(20, 1)\n",
    "    def forward(self, x, hidden_prev):\n",
    "        out, hidden_prev = self.rnn(x, hidden_prev)\n",
    "        # [1, seq, f] => [seq, f]\n",
    "        out = out.view(-1, 20)\n",
    "        out = self.linear(out)# [seq, f] => []\n",
    "        out = out.unsqueeze(dim = 0) # => [1, seq, 1]\n",
    "        return out, hidden_prev"
   ]
  },
  {
   "cell_type": "code",
   "execution_count": 42,
   "id": "a1af1ad2-2d51-4f33-9f28-a1dce0c89441",
   "metadata": {},
   "outputs": [
    {
     "name": "stdout",
     "output_type": "stream",
     "text": [
      "epoch:0, loss:0.3875490427017212\n",
      "epoch:100, loss:0.07498583197593689\n",
      "epoch:200, loss:0.029834389686584473\n",
      "epoch:300, loss:0.017511781305074692\n",
      "epoch:400, loss:0.01840328983962536\n",
      "epoch:500, loss:0.0037924188654869795\n",
      "epoch:600, loss:0.002751982072368264\n",
      "epoch:700, loss:0.0005213288823142648\n",
      "epoch:800, loss:0.0008795661269687116\n",
      "epoch:900, loss:0.0011993558146059513\n",
      "epoch:1000, loss:0.0008037491934373975\n",
      "epoch:1100, loss:0.0017434986075386405\n",
      "epoch:1200, loss:0.001089709228836\n",
      "epoch:1300, loss:0.0007018729229457676\n",
      "epoch:1400, loss:0.002417745068669319\n",
      "epoch:1500, loss:0.0015255938051268458\n",
      "epoch:1600, loss:0.0036774417385458946\n",
      "epoch:1700, loss:0.00041435472667217255\n",
      "epoch:1800, loss:0.0022955434396862984\n",
      "epoch:1900, loss:0.0003856921102851629\n",
      "epoch:2000, loss:0.004294884856790304\n",
      "epoch:2100, loss:0.0003261013189330697\n",
      "epoch:2200, loss:0.0019149126019328833\n",
      "epoch:2300, loss:0.0043723550625145435\n",
      "epoch:2400, loss:0.0006131684640422463\n",
      "epoch:2500, loss:0.0004676757089328021\n",
      "epoch:2600, loss:0.0004046813992317766\n",
      "epoch:2700, loss:0.00038716374547220767\n",
      "epoch:2800, loss:0.0004714169481303543\n",
      "epoch:2900, loss:0.00047068126150406897\n",
      "epoch:3000, loss:0.0002572983503341675\n",
      "epoch:3100, loss:5.352614971343428e-05\n",
      "epoch:3200, loss:0.00038575587677769363\n",
      "epoch:3300, loss:0.0017452455358579755\n",
      "epoch:3400, loss:0.0001574115303810686\n",
      "epoch:3500, loss:0.000787439988926053\n",
      "epoch:3600, loss:0.002030452946200967\n",
      "epoch:3700, loss:0.0003553932183422148\n",
      "epoch:3800, loss:0.00020875470363534987\n",
      "epoch:3900, loss:0.000634817813988775\n",
      "epoch:4000, loss:0.0013753563398495317\n",
      "epoch:4100, loss:0.0002391667221672833\n",
      "epoch:4200, loss:0.0008839376969262958\n",
      "epoch:4300, loss:0.0002074666990665719\n",
      "epoch:4400, loss:0.0013075803872197866\n",
      "epoch:4500, loss:0.00010105217370437458\n",
      "epoch:4600, loss:0.0002845938433893025\n",
      "epoch:4700, loss:0.002209525089710951\n",
      "epoch:4800, loss:0.0010573937324807048\n",
      "epoch:4900, loss:0.00014260773605201393\n",
      "epoch:5000, loss:0.0016572847962379456\n",
      "epoch:5100, loss:0.0019321584841236472\n",
      "epoch:5200, loss:0.0004469463019631803\n",
      "epoch:5300, loss:0.0010174186900258064\n",
      "epoch:5400, loss:0.0009080988820642233\n",
      "epoch:5500, loss:0.0006807158351875842\n",
      "epoch:5600, loss:0.0006917891441844404\n",
      "epoch:5700, loss:0.0011617048876360059\n",
      "epoch:5800, loss:0.0012588385725393891\n",
      "epoch:5900, loss:0.0007069908315315843\n",
      "epoch:6000, loss:0.0005248768138699234\n",
      "epoch:6100, loss:0.00038852402940392494\n",
      "epoch:6200, loss:0.00029946526046842337\n",
      "epoch:6300, loss:0.00032697716960683465\n",
      "epoch:6400, loss:0.0019507597899064422\n",
      "epoch:6500, loss:0.0007185364374890924\n",
      "epoch:6600, loss:9.97579118120484e-05\n",
      "epoch:6700, loss:0.0008906401926651597\n",
      "epoch:6800, loss:0.0004276198451407254\n",
      "epoch:6900, loss:0.00012737415090668947\n",
      "epoch:7000, loss:0.0012910104123875499\n",
      "epoch:7100, loss:0.000762071053031832\n",
      "epoch:7200, loss:0.00018286438717041165\n",
      "epoch:7300, loss:0.0012312966864556074\n",
      "epoch:7400, loss:0.000357933109626174\n",
      "epoch:7500, loss:0.0002593372482806444\n",
      "epoch:7600, loss:0.0002481388219166547\n",
      "epoch:7700, loss:0.00017655415285844356\n",
      "epoch:7800, loss:6.726749415975064e-05\n",
      "epoch:7900, loss:0.001292754546739161\n",
      "epoch:8000, loss:0.0003148327232338488\n",
      "epoch:8100, loss:5.6091077567543834e-05\n",
      "epoch:8200, loss:0.0002938188845291734\n",
      "epoch:8300, loss:0.0009600658668205142\n",
      "epoch:8400, loss:0.00013248695177026093\n",
      "epoch:8500, loss:0.0007776884594932199\n",
      "epoch:8600, loss:0.00021423184080049396\n",
      "epoch:8700, loss:0.0004897855687886477\n",
      "epoch:8800, loss:0.00010924853995675221\n",
      "epoch:8900, loss:0.000919074343983084\n",
      "epoch:9000, loss:0.00017813190061133355\n",
      "epoch:9100, loss:0.0006857435218989849\n",
      "epoch:9200, loss:7.19720555935055e-05\n",
      "epoch:9300, loss:0.0006941159372217953\n",
      "epoch:9400, loss:0.0008183236350305378\n",
      "epoch:9500, loss:0.0006295355269685388\n",
      "epoch:9600, loss:0.0003876931732520461\n",
      "epoch:9700, loss:0.00038332861731760204\n",
      "epoch:9800, loss:0.00032934127375483513\n",
      "epoch:9900, loss:0.0006789450417272747\n"
     ]
    }
   ],
   "source": [
    "model = MyRNN()\n",
    "criterion = nn.MSELoss()\n",
    "optimizer = torch.optim.Adam(model.parameters())\n",
    "num_time_steps = 50\n",
    "hidden_prev = torch.zeros(1, 1, 20)\n",
    "for iter in range(10000):\n",
    "    start = np.random.randint(3, size = 1)[0]\n",
    "    time_steps = np.linspace(start, start + 10, num_time_steps)\n",
    "    data = np.sin(time_steps)\n",
    "    data = data.reshape(num_time_steps, 1)\n",
    "    x = torch.tensor(data[: -1]).float().view(1, num_time_steps - 1, 1)#[b, sequence, f]\n",
    "    y = torch.tensor(data[1:  ]).float().view(1, num_time_steps - 1, 1)\n",
    "    \n",
    "    output, hidden_prev = model(x, hidden_prev)\n",
    "    hidden_prev = hidden_prev.detach()#终止传播，共享内存\n",
    "    \n",
    "    loss = criterion(output, y)\n",
    "    model.zero_grad()#清除梯度\n",
    "    loss.backward()#误差反串，梯度计算\n",
    "    optimizer.step()#优化更新权值、偏置\n",
    "    \n",
    "    if iter % 100 == 0:\n",
    "        print('epoch:{}, loss:{}'.format(iter, loss.item()))"
   ]
  },
  {
   "cell_type": "code",
   "execution_count": 30,
   "id": "109a6467-6b55-4694-8ebd-95c487ae0421",
   "metadata": {},
   "outputs": [
    {
     "data": {
      "text/plain": [
       "5"
      ]
     },
     "execution_count": 30,
     "metadata": {},
     "output_type": "execute_result"
    }
   ],
   "source": [
    "start = np.random.randint(10)\n",
    "start"
   ]
  },
  {
   "cell_type": "code",
   "execution_count": null,
   "id": "d96c6897-7611-4b21-b118-0ab588b985a8",
   "metadata": {},
   "outputs": [],
   "source": []
  },
  {
   "cell_type": "code",
   "execution_count": null,
   "id": "f2ef957c-1bd8-4807-b2f4-c8a1dc66659d",
   "metadata": {},
   "outputs": [],
   "source": []
  }
 ],
 "metadata": {
  "kernelspec": {
   "display_name": "Python 3 (ipykernel)",
   "language": "python",
   "name": "python3"
  },
  "language_info": {
   "codemirror_mode": {
    "name": "ipython",
    "version": 3
   },
   "file_extension": ".py",
   "mimetype": "text/x-python",
   "name": "python",
   "nbconvert_exporter": "python",
   "pygments_lexer": "ipython3",
   "version": "3.9.7"
  }
 },
 "nbformat": 4,
 "nbformat_minor": 5
}
