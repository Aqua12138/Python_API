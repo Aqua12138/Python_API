{
 "cells": [
  {
   "cell_type": "code",
   "execution_count": 1,
   "id": "6a198ddf-4616-4898-8afa-745cc7616952",
   "metadata": {},
   "outputs": [],
   "source": [
    "import torch"
   ]
  },
  {
   "cell_type": "markdown",
   "id": "1b775b56-c477-4880-bef9-73373d226fbe",
   "metadata": {},
   "source": [
    "# 数据类型"
   ]
  },
  {
   "cell_type": "markdown",
   "id": "1e34a254-5d6e-4fe3-8349-9e6ac6a4a703",
   "metadata": {},
   "source": [
    "## type检查"
   ]
  },
  {
   "cell_type": "code",
   "execution_count": 2,
   "id": "467fcacb-a110-4a48-8d92-8847803b6b77",
   "metadata": {},
   "outputs": [],
   "source": [
    "a = torch.randn(2,3)#初始化为2行3列的正态分布矩阵"
   ]
  },
  {
   "cell_type": "code",
   "execution_count": 3,
   "id": "89c36d07-e141-4342-b7d6-ecdefd64f271",
   "metadata": {},
   "outputs": [
    {
     "data": {
      "text/plain": [
       "'torch.FloatTensor'"
      ]
     },
     "execution_count": 3,
     "metadata": {},
     "output_type": "execute_result"
    }
   ],
   "source": [
    "a.type()"
   ]
  },
  {
   "cell_type": "code",
   "execution_count": 4,
   "id": "c8ecc151-0720-4ae8-a713-04e64220c165",
   "metadata": {},
   "outputs": [
    {
     "data": {
      "text/plain": [
       "torch.Tensor"
      ]
     },
     "execution_count": 4,
     "metadata": {},
     "output_type": "execute_result"
    }
   ],
   "source": [
    "type(a)"
   ]
  },
  {
   "cell_type": "code",
   "execution_count": 5,
   "id": "6847c10c-46f2-496e-abcf-7c2a067099fc",
   "metadata": {},
   "outputs": [
    {
     "data": {
      "text/plain": [
       "True"
      ]
     },
     "execution_count": 5,
     "metadata": {},
     "output_type": "execute_result"
    }
   ],
   "source": [
    "isinstance(a,torch.FloatTensor)"
   ]
  },
  {
   "cell_type": "code",
   "execution_count": 6,
   "id": "c05be92a-4ce9-4974-9574-cb44f30ca7d8",
   "metadata": {},
   "outputs": [],
   "source": [
    "#a = a.cuda()#把tensor放在gpu"
   ]
  },
  {
   "cell_type": "markdown",
   "id": "f1d739ef-8ae1-41ba-811f-af2f85dbaf75",
   "metadata": {},
   "source": [
    "## tensor生成"
   ]
  },
  {
   "cell_type": "code",
   "execution_count": 7,
   "id": "d5b8c959-b890-42e0-8840-ecb7ba365a69",
   "metadata": {},
   "outputs": [
    {
     "data": {
      "text/plain": [
       "tensor(1.)"
      ]
     },
     "execution_count": 7,
     "metadata": {},
     "output_type": "execute_result"
    }
   ],
   "source": [
    "torch.tensor(1.0)#生成tensor标量"
   ]
  },
  {
   "cell_type": "code",
   "execution_count": 8,
   "id": "73eda059-95a1-46e9-b261-ce91da4c4f3a",
   "metadata": {},
   "outputs": [
    {
     "data": {
      "text/plain": [
       "tensor(1.3000)"
      ]
     },
     "execution_count": 8,
     "metadata": {},
     "output_type": "execute_result"
    }
   ],
   "source": [
    "torch.tensor(1.3)"
   ]
  },
  {
   "cell_type": "markdown",
   "id": "ecb5b5a7-e64f-4068-b724-b56b2e82196f",
   "metadata": {},
   "source": [
    "## 生成随机序列"
   ]
  },
  {
   "cell_type": "code",
   "execution_count": 9,
   "id": "7cbd4558-ca61-40e1-b7d1-a42460bc8f75",
   "metadata": {},
   "outputs": [
    {
     "data": {
      "text/plain": [
       "tensor([4, 7, 6, 8, 9, 1, 2, 0, 5, 3])"
      ]
     },
     "execution_count": 9,
     "metadata": {},
     "output_type": "execute_result"
    }
   ],
   "source": [
    "torch.randperm(10)"
   ]
  },
  {
   "cell_type": "markdown",
   "id": "c08e0768-ca54-4855-b130-ae04fd3019ed",
   "metadata": {},
   "source": [
    "## dim"
   ]
  },
  {
   "cell_type": "code",
   "execution_count": 10,
   "id": "dade88b4-813b-4c8c-bb3c-d029dabd38b4",
   "metadata": {},
   "outputs": [
    {
     "data": {
      "text/plain": [
       "torch.Size([])"
      ]
     },
     "execution_count": 10,
     "metadata": {},
     "output_type": "execute_result"
    }
   ],
   "source": [
    "a = torch.tensor(2.2)\n",
    "a.shape"
   ]
  },
  {
   "cell_type": "code",
   "execution_count": 11,
   "id": "aa228380-e44f-4443-85f2-29637fefbf49",
   "metadata": {},
   "outputs": [
    {
     "data": {
      "text/plain": [
       "torch.Size([])"
      ]
     },
     "execution_count": 11,
     "metadata": {},
     "output_type": "execute_result"
    }
   ],
   "source": [
    "a.size()"
   ]
  },
  {
   "cell_type": "code",
   "execution_count": 12,
   "id": "86f5c257-cc37-4c8c-92ef-6eb276b9f15c",
   "metadata": {},
   "outputs": [
    {
     "data": {
      "text/plain": [
       "tensor([1.1000])"
      ]
     },
     "execution_count": 12,
     "metadata": {},
     "output_type": "execute_result"
    }
   ],
   "source": [
    "torch.tensor([1.1])"
   ]
  },
  {
   "cell_type": "code",
   "execution_count": 13,
   "id": "ba757b6a-3e61-4ff7-b3d0-e284d7c684a7",
   "metadata": {},
   "outputs": [
    {
     "data": {
      "text/plain": [
       "tensor([1.1000, 1.2000])"
      ]
     },
     "execution_count": 13,
     "metadata": {},
     "output_type": "execute_result"
    }
   ],
   "source": [
    "torch.tensor([1.1,1.2])"
   ]
  },
  {
   "cell_type": "code",
   "execution_count": 14,
   "id": "473c6aab-2cfd-4f44-a43b-a11e5e418b99",
   "metadata": {},
   "outputs": [
    {
     "data": {
      "text/plain": [
       "tensor([6.4185e-22])"
      ]
     },
     "execution_count": 14,
     "metadata": {},
     "output_type": "execute_result"
    }
   ],
   "source": [
    "torch.FloatTensor(1)#生成一个1维度1长度的FloatTensor"
   ]
  },
  {
   "cell_type": "code",
   "execution_count": 15,
   "id": "b60bb122-90b2-48a9-b628-dd3c24210c6b",
   "metadata": {},
   "outputs": [
    {
     "data": {
      "text/plain": [
       "tensor([6.4185e-22, 4.5674e-41])"
      ]
     },
     "execution_count": 15,
     "metadata": {},
     "output_type": "execute_result"
    }
   ],
   "source": [
    "torch.FloatTensor(2)"
   ]
  },
  {
   "cell_type": "code",
   "execution_count": 16,
   "id": "ffdeca93-158c-406b-9c3d-169314ef459a",
   "metadata": {},
   "outputs": [],
   "source": [
    "import numpy as np\n",
    "data = np.ones(2)"
   ]
  },
  {
   "cell_type": "code",
   "execution_count": 17,
   "id": "b37f8473-a724-4384-9e97-a21e99bb1b33",
   "metadata": {},
   "outputs": [
    {
     "data": {
      "text/plain": [
       "tensor([1., 1.], dtype=torch.float64)"
      ]
     },
     "execution_count": 17,
     "metadata": {},
     "output_type": "execute_result"
    }
   ],
   "source": [
    "torch.from_numpy(data)#numpy->tensor"
   ]
  },
  {
   "cell_type": "code",
   "execution_count": 18,
   "id": "f468b50b-5653-4b45-b58a-584098b33f03",
   "metadata": {},
   "outputs": [
    {
     "data": {
      "text/plain": [
       "tensor([[ 1.0897,  0.2299,  1.5621],\n",
       "        [ 0.1376, -1.3806,  0.6868]])"
      ]
     },
     "execution_count": 18,
     "metadata": {},
     "output_type": "execute_result"
    }
   ],
   "source": [
    "a = torch.randn(2,3)\n",
    "a"
   ]
  },
  {
   "cell_type": "code",
   "execution_count": 19,
   "id": "f19fedbe-8557-4aed-8c7c-0cf13bf438ab",
   "metadata": {},
   "outputs": [
    {
     "data": {
      "text/plain": [
       "torch.Size([2, 3])"
      ]
     },
     "execution_count": 19,
     "metadata": {},
     "output_type": "execute_result"
    }
   ],
   "source": [
    "a.shape"
   ]
  },
  {
   "cell_type": "code",
   "execution_count": 20,
   "id": "45b3365b-e85e-4208-95e0-b407caed40d4",
   "metadata": {},
   "outputs": [
    {
     "data": {
      "text/plain": [
       "2"
      ]
     },
     "execution_count": 20,
     "metadata": {},
     "output_type": "execute_result"
    }
   ],
   "source": [
    "a.size(0)"
   ]
  },
  {
   "cell_type": "code",
   "execution_count": 21,
   "id": "7e8379cd-5c40-40eb-8b56-cc237274d3a7",
   "metadata": {},
   "outputs": [
    {
     "data": {
      "text/plain": [
       "3"
      ]
     },
     "execution_count": 21,
     "metadata": {},
     "output_type": "execute_result"
    }
   ],
   "source": [
    "a.shape[1]"
   ]
  },
  {
   "cell_type": "code",
   "execution_count": 22,
   "id": "f61423bc-ab1a-4305-b880-871803c16233",
   "metadata": {},
   "outputs": [],
   "source": [
    "a = torch.rand(1,2,3)"
   ]
  },
  {
   "cell_type": "code",
   "execution_count": 23,
   "id": "64dcff4f-5852-44bf-9ac5-689d87a12f84",
   "metadata": {},
   "outputs": [
    {
     "data": {
      "text/plain": [
       "tensor([[[0.7904, 0.0943, 0.0452],\n",
       "         [0.1364, 0.7557, 0.0370]]])"
      ]
     },
     "execution_count": 23,
     "metadata": {},
     "output_type": "execute_result"
    }
   ],
   "source": [
    "a"
   ]
  },
  {
   "cell_type": "code",
   "execution_count": 24,
   "id": "408c6ae6-daa0-4127-ad77-d608cdb574b0",
   "metadata": {},
   "outputs": [
    {
     "data": {
      "text/plain": [
       "[tensor([[0.7904, 0.0943, 0.0452],\n",
       "         [0.1364, 0.7557, 0.0370]])]"
      ]
     },
     "execution_count": 24,
     "metadata": {},
     "output_type": "execute_result"
    }
   ],
   "source": [
    "list(a)"
   ]
  },
  {
   "cell_type": "code",
   "execution_count": 25,
   "id": "112795ce-54ee-40d1-8148-8a9f31379c9f",
   "metadata": {},
   "outputs": [
    {
     "data": {
      "text/plain": [
       "torch.Size([1, 2, 3])"
      ]
     },
     "execution_count": 25,
     "metadata": {},
     "output_type": "execute_result"
    }
   ],
   "source": [
    "a.shape"
   ]
  },
  {
   "cell_type": "code",
   "execution_count": 26,
   "id": "57a52922-3d52-437c-bc50-224f8d2290a6",
   "metadata": {},
   "outputs": [
    {
     "data": {
      "text/plain": [
       "[1, 2, 3]"
      ]
     },
     "execution_count": 26,
     "metadata": {},
     "output_type": "execute_result"
    }
   ],
   "source": [
    "list(a.shape)"
   ]
  },
  {
   "cell_type": "markdown",
   "id": "6b910a07-8e01-49bf-8230-4e54a8b283a4",
   "metadata": {},
   "source": [
    "# 维度变换"
   ]
  },
  {
   "cell_type": "markdown",
   "id": "c82e537b-06a6-4614-90c0-af4e386711fb",
   "metadata": {},
   "source": [
    "## View and reshape 两者一样"
   ]
  },
  {
   "cell_type": "code",
   "execution_count": 27,
   "id": "484a9eba-4690-450b-9cc8-add46ed6ad64",
   "metadata": {},
   "outputs": [],
   "source": [
    "a = torch.rand(4,1,28,28)"
   ]
  },
  {
   "cell_type": "code",
   "execution_count": 28,
   "id": "b278daf8-4a2a-4fe3-a8c3-68bbbf66d331",
   "metadata": {},
   "outputs": [
    {
     "data": {
      "text/plain": [
       "torch.Size([4, 1, 28, 28])"
      ]
     },
     "execution_count": 28,
     "metadata": {},
     "output_type": "execute_result"
    }
   ],
   "source": [
    "a.shape"
   ]
  },
  {
   "cell_type": "code",
   "execution_count": 29,
   "id": "cacca5dd-967f-4a86-ae55-e528a5f6aeb0",
   "metadata": {},
   "outputs": [],
   "source": [
    "a = a.view(4,28,28)"
   ]
  },
  {
   "cell_type": "code",
   "execution_count": 30,
   "id": "d02cbbf2-1f27-4c99-88bb-8561aeefc8e7",
   "metadata": {},
   "outputs": [],
   "source": [
    "a = a.reshape(4,1,28,28)"
   ]
  },
  {
   "cell_type": "markdown",
   "id": "1d1ef8b0-3636-422d-b842-201db42ba732",
   "metadata": {},
   "source": [
    "## squeeze and unsqueeze"
   ]
  },
  {
   "cell_type": "code",
   "execution_count": 31,
   "id": "36a4b2d4-8a48-4219-a60a-5e3c05c50f90",
   "metadata": {},
   "outputs": [
    {
     "data": {
      "text/plain": [
       "torch.Size([4, 1, 28, 28])"
      ]
     },
     "execution_count": 31,
     "metadata": {},
     "output_type": "execute_result"
    }
   ],
   "source": [
    "a.shape"
   ]
  },
  {
   "cell_type": "code",
   "execution_count": 32,
   "id": "0b860fe2-3a25-476d-9f6e-fffee46dd336",
   "metadata": {},
   "outputs": [
    {
     "data": {
      "text/plain": [
       "torch.Size([1, 4, 1, 28, 28])"
      ]
     },
     "execution_count": 32,
     "metadata": {},
     "output_type": "execute_result"
    }
   ],
   "source": [
    "a.unsqueeze(0).shape#在第0维度增加一个维度"
   ]
  },
  {
   "cell_type": "code",
   "execution_count": 33,
   "id": "49a523c5-a5f9-4998-91ff-6c569274ddb8",
   "metadata": {},
   "outputs": [
    {
     "data": {
      "text/plain": [
       "torch.Size([4, 28, 28])"
      ]
     },
     "execution_count": 33,
     "metadata": {},
     "output_type": "execute_result"
    }
   ],
   "source": [
    "a.squeeze().size()#把所有的1全挤压掉"
   ]
  },
  {
   "cell_type": "code",
   "execution_count": 34,
   "id": "3f91d019-a8de-4f5b-ba1e-458d7db6cf6a",
   "metadata": {},
   "outputs": [
    {
     "data": {
      "text/plain": [
       "torch.Size([4, 1, 28, 28])"
      ]
     },
     "execution_count": 34,
     "metadata": {},
     "output_type": "execute_result"
    }
   ],
   "source": [
    "a.squeeze(0).size()#把第一维度给cut"
   ]
  },
  {
   "cell_type": "markdown",
   "id": "35764195-375b-4348-9ae5-faf035b1fba1",
   "metadata": {},
   "source": [
    "## expand"
   ]
  },
  {
   "cell_type": "code",
   "execution_count": 35,
   "id": "951869ae-f75a-4658-9b26-dd7faa3b4318",
   "metadata": {},
   "outputs": [],
   "source": [
    "a = torch.rand(4,32,14,14)"
   ]
  },
  {
   "cell_type": "code",
   "execution_count": 36,
   "id": "cef43170-6ebc-4a70-ad62-c2327c95846f",
   "metadata": {},
   "outputs": [],
   "source": [
    "b = torch.rand(1,32,1,1)"
   ]
  },
  {
   "cell_type": "code",
   "execution_count": 37,
   "id": "7360cd94-a5f4-40e1-9234-95e6da7b9e36",
   "metadata": {},
   "outputs": [
    {
     "data": {
      "text/plain": [
       "torch.Size([4, 32, 4, 4])"
      ]
     },
     "execution_count": 37,
     "metadata": {},
     "output_type": "execute_result"
    }
   ],
   "source": [
    "b.expand(4,32,4,4).shape#维度为1的地方可以扩张"
   ]
  },
  {
   "cell_type": "code",
   "execution_count": 38,
   "id": "90bb3653-f8bb-43fd-9d6a-e965b32f72e4",
   "metadata": {},
   "outputs": [
    {
     "data": {
      "text/plain": [
       "torch.Size([4, 32, 1, 1])"
      ]
     },
     "execution_count": 38,
     "metadata": {},
     "output_type": "execute_result"
    }
   ],
   "source": [
    "b.expand(4,-1,-1,-1).shape#-1表示不变"
   ]
  },
  {
   "cell_type": "markdown",
   "id": "2c8117bd-168b-41bb-9117-44b1b1d39a7b",
   "metadata": {},
   "source": [
    "## repeat"
   ]
  },
  {
   "cell_type": "code",
   "execution_count": 39,
   "id": "4b4c0ee1-97e6-4a52-bdf8-ecaa84b5fb02",
   "metadata": {},
   "outputs": [
    {
     "data": {
      "text/plain": [
       "torch.Size([4, 64, 4, 4])"
      ]
     },
     "execution_count": 39,
     "metadata": {},
     "output_type": "execute_result"
    }
   ],
   "source": [
    "b.repeat(4,2,4,4).shape#表示在每一个维度上复制多少次"
   ]
  },
  {
   "cell_type": "markdown",
   "id": "6cdecdc3-582d-4d20-934a-f58ad27487ac",
   "metadata": {},
   "source": [
    "## t转置 只适用于dim = 2"
   ]
  },
  {
   "cell_type": "code",
   "execution_count": 40,
   "id": "b3fda12b-fc8c-4c10-8665-ac48ed106bfc",
   "metadata": {},
   "outputs": [],
   "source": [
    "a = torch.rand(1,2)"
   ]
  },
  {
   "cell_type": "code",
   "execution_count": 41,
   "id": "81d10ea0-b65b-44e2-806c-62c6f763b0d6",
   "metadata": {},
   "outputs": [
    {
     "data": {
      "text/plain": [
       "tensor([[0.2760],\n",
       "        [0.8509]])"
      ]
     },
     "execution_count": 41,
     "metadata": {},
     "output_type": "execute_result"
    }
   ],
   "source": [
    "a.t()"
   ]
  },
  {
   "cell_type": "markdown",
   "id": "84de54dc-1f42-4992-a30f-efea341348be",
   "metadata": {},
   "source": [
    "## transpose\n",
    "用于交换两个维度"
   ]
  },
  {
   "cell_type": "code",
   "execution_count": 42,
   "id": "21a892f1-7b21-4eee-b165-a90e1794bf21",
   "metadata": {},
   "outputs": [
    {
     "data": {
      "text/plain": [
       "torch.Size([1, 1, 1, 32])"
      ]
     },
     "execution_count": 42,
     "metadata": {},
     "output_type": "execute_result"
    }
   ],
   "source": [
    "b.transpose(1,3).shape"
   ]
  },
  {
   "cell_type": "markdown",
   "id": "ac1ecccd-3db8-4e90-8223-06e54cec934d",
   "metadata": {},
   "source": [
    "## permute\n",
    "多维度交换"
   ]
  },
  {
   "cell_type": "code",
   "execution_count": 43,
   "id": "f561277d-9567-46b3-b762-9dcf67811d9d",
   "metadata": {},
   "outputs": [
    {
     "data": {
      "text/plain": [
       "torch.Size([1, 1, 1, 32])"
      ]
     },
     "execution_count": 43,
     "metadata": {},
     "output_type": "execute_result"
    }
   ],
   "source": [
    "b.permute(0,3,2,1).shape"
   ]
  },
  {
   "cell_type": "markdown",
   "id": "85cbe66e-ad69-4853-9139-7616f0750321",
   "metadata": {},
   "source": [
    "# 合并与分割"
   ]
  },
  {
   "cell_type": "markdown",
   "id": "36ee88dc-c855-493e-af7c-d391f40a804a",
   "metadata": {},
   "source": [
    "## cat合并"
   ]
  },
  {
   "cell_type": "code",
   "execution_count": 44,
   "id": "ce96c4c8-6635-4553-8b8a-c14ab7875bf8",
   "metadata": {},
   "outputs": [
    {
     "data": {
      "text/plain": [
       "torch.Size([9, 32, 8])"
      ]
     },
     "execution_count": 44,
     "metadata": {},
     "output_type": "execute_result"
    }
   ],
   "source": [
    "a = torch.rand(4,32,8)\n",
    "b = torch.rand(5,32,8)\n",
    "torch.cat([a,b],dim=0).shape#把第一维度进行合并，要求其他维度要一样"
   ]
  },
  {
   "cell_type": "markdown",
   "id": "79117f9d-b0c2-411e-8d5a-4c3d129ff13d",
   "metadata": {},
   "source": [
    "## stack在新的维度合并"
   ]
  },
  {
   "cell_type": "code",
   "execution_count": 45,
   "id": "ed0cdd38-3bef-4d5b-8f18-2de6657bd60f",
   "metadata": {},
   "outputs": [
    {
     "data": {
      "text/plain": [
       "torch.Size([4, 32, 2, 8])"
      ]
     },
     "execution_count": 45,
     "metadata": {},
     "output_type": "execute_result"
    }
   ],
   "source": [
    "c = torch.rand(4,32,8)\n",
    "torch.stack([a,c],dim=2).shape#要求维度大小要完全一致"
   ]
  },
  {
   "cell_type": "markdown",
   "id": "cb20c77d-af9d-4071-a5ed-f841a2ee2593",
   "metadata": {},
   "source": [
    "## split 拆分\n",
    "按一组大小多少拆分"
   ]
  },
  {
   "cell_type": "code",
   "execution_count": 46,
   "id": "69bf0701-db4b-4ca3-a628-1f5919ffe9cf",
   "metadata": {},
   "outputs": [],
   "source": [
    "aa,bb = c.split([1,3],dim=0)"
   ]
  },
  {
   "cell_type": "code",
   "execution_count": 47,
   "id": "14cd8bbf-216f-4889-935b-1b4e371bbea0",
   "metadata": {},
   "outputs": [
    {
     "data": {
      "text/plain": [
       "(torch.Size([1, 32, 8]), torch.Size([3, 32, 8]))"
      ]
     },
     "execution_count": 47,
     "metadata": {},
     "output_type": "execute_result"
    }
   ],
   "source": [
    "aa.shape,bb.shape"
   ]
  },
  {
   "cell_type": "code",
   "execution_count": 48,
   "id": "d25d613a-c63f-4874-a05f-fd608cd34e20",
   "metadata": {},
   "outputs": [],
   "source": [
    "aa,bb = c.split(2,dim=0)#2表示拆分成2个长度为一组，不是拆分成几组哦"
   ]
  },
  {
   "cell_type": "code",
   "execution_count": 49,
   "id": "0d0cf1d2-cb03-4192-90ab-e854bcad4f57",
   "metadata": {},
   "outputs": [],
   "source": [
    "aa,bb,cc,dd = c.split(1,dim=0)#1个长度为一组，一共四组"
   ]
  },
  {
   "cell_type": "markdown",
   "id": "ea44321a-7503-42cc-8da2-98f3163e108f",
   "metadata": {},
   "source": [
    "## chunk拆分 \n",
    "按多少组拆分"
   ]
  },
  {
   "cell_type": "code",
   "execution_count": 50,
   "id": "f3ed2fbf-2de1-4183-8d4c-5f33d426dc1e",
   "metadata": {},
   "outputs": [],
   "source": [
    "aa,bb,cc,dd = c.chunk(4,dim=0)"
   ]
  },
  {
   "cell_type": "code",
   "execution_count": 51,
   "id": "5015cc30-264d-441f-8d2f-1aa65195d333",
   "metadata": {},
   "outputs": [
    {
     "data": {
      "text/plain": [
       "(torch.Size([1, 32, 8]),\n",
       " torch.Size([1, 32, 8]),\n",
       " torch.Size([1, 32, 8]),\n",
       " torch.Size([1, 32, 8]))"
      ]
     },
     "execution_count": 51,
     "metadata": {},
     "output_type": "execute_result"
    }
   ],
   "source": [
    "aa.shape,bb.shape,cc.shape,dd.shape"
   ]
  },
  {
   "cell_type": "markdown",
   "id": "950e8e62-9abd-42dc-bd0b-011f02a00a38",
   "metadata": {},
   "source": [
    "## unbind"
   ]
  },
  {
   "cell_type": "code",
   "execution_count": 52,
   "id": "d34f1321-b31e-444e-9301-794601ae2434",
   "metadata": {},
   "outputs": [],
   "source": [
    "a = c.unbind(axis=0)#按照第一维度，直接打散"
   ]
  },
  {
   "cell_type": "code",
   "execution_count": 53,
   "id": "d33aebd7-ce27-4dae-a26e-0db5c887b027",
   "metadata": {},
   "outputs": [
    {
     "data": {
      "text/plain": [
       "torch.Size([32, 8])"
      ]
     },
     "execution_count": 53,
     "metadata": {},
     "output_type": "execute_result"
    }
   ],
   "source": [
    "a[0].shape"
   ]
  },
  {
   "cell_type": "markdown",
   "id": "8b98e57a-b36c-444e-901b-35abb71ef680",
   "metadata": {},
   "source": [
    "# 数学计算"
   ]
  },
  {
   "cell_type": "markdown",
   "id": "617bb21c-76a7-4d46-9ace-555d7c6ba06b",
   "metadata": {},
   "source": [
    "## + - * /"
   ]
  },
  {
   "cell_type": "code",
   "execution_count": 54,
   "id": "a9846a66-a756-4fc5-90e2-b6ee0f781c2a",
   "metadata": {},
   "outputs": [],
   "source": [
    "a = torch.randn(3,4)\n",
    "b = torch.rand(4)"
   ]
  },
  {
   "cell_type": "code",
   "execution_count": 55,
   "id": "faf23481-fd41-4d4d-ae4a-c4e11341ff62",
   "metadata": {},
   "outputs": [
    {
     "data": {
      "text/plain": [
       "tensor([[ 0.6461, -1.0801, -0.7438,  1.4101],\n",
       "        [ 0.4190,  1.9347,  2.4019,  0.4772],\n",
       "        [ 1.0521,  0.9325,  0.8409,  2.3151]])"
      ]
     },
     "execution_count": 55,
     "metadata": {},
     "output_type": "execute_result"
    }
   ],
   "source": [
    "a+b"
   ]
  },
  {
   "cell_type": "code",
   "execution_count": 56,
   "id": "586a6f6b-1b03-46f9-92f4-0b3c3a3db3f7",
   "metadata": {},
   "outputs": [
    {
     "data": {
      "text/plain": [
       "tensor([[ 0.6461, -1.0801, -0.7438,  1.4101],\n",
       "        [ 0.4190,  1.9347,  2.4019,  0.4772],\n",
       "        [ 1.0521,  0.9325,  0.8409,  2.3151]])"
      ]
     },
     "execution_count": 56,
     "metadata": {},
     "output_type": "execute_result"
    }
   ],
   "source": [
    "torch.add(a,b)"
   ]
  },
  {
   "cell_type": "code",
   "execution_count": 57,
   "id": "b849fa34-ec42-452f-aded-13f4c8174f0d",
   "metadata": {},
   "outputs": [
    {
     "data": {
      "text/plain": [
       "tensor(True)"
      ]
     },
     "execution_count": 57,
     "metadata": {},
     "output_type": "execute_result"
    }
   ],
   "source": [
    "torch.all(torch.eq(a-b,torch.sub(a,b)))#or就是与运算符，判断是否所有的a-b sub(a,b)计算结果相等"
   ]
  },
  {
   "cell_type": "code",
   "execution_count": 58,
   "id": "8ff47468-4d09-4fdc-bd31-fac517384e96",
   "metadata": {},
   "outputs": [
    {
     "data": {
      "text/plain": [
       "tensor(True)"
      ]
     },
     "execution_count": 58,
     "metadata": {},
     "output_type": "execute_result"
    }
   ],
   "source": [
    "torch.all(torch.eq(a*b,torch.mul(a,b)))"
   ]
  },
  {
   "cell_type": "code",
   "execution_count": 59,
   "id": "7d5b7f72-0875-4744-a625-0c7b4111e737",
   "metadata": {},
   "outputs": [
    {
     "data": {
      "text/plain": [
       "tensor(True)"
      ]
     },
     "execution_count": 59,
     "metadata": {},
     "output_type": "execute_result"
    }
   ],
   "source": [
    "torch.all(torch.eq(a/b,torch.div(a,b)))#//表示整除"
   ]
  },
  {
   "cell_type": "markdown",
   "id": "b31668de-7337-405d-8592-181b754fca08",
   "metadata": {},
   "source": [
    "## 矩阵乘法"
   ]
  },
  {
   "cell_type": "code",
   "execution_count": 60,
   "id": "cbb609a8-40cc-4b1e-ae02-de5a0188dd65",
   "metadata": {},
   "outputs": [
    {
     "data": {
      "text/plain": [
       "(tensor([[3., 3.],\n",
       "         [3., 3.]]),\n",
       " tensor([[2., 2.],\n",
       "         [2., 2.]]))"
      ]
     },
     "execution_count": 60,
     "metadata": {},
     "output_type": "execute_result"
    }
   ],
   "source": [
    "a = 3*torch.ones([2,2])\n",
    "b = 2*torch.ones([2,2])\n",
    "a,b"
   ]
  },
  {
   "cell_type": "code",
   "execution_count": 61,
   "id": "c675d213-95a2-4d59-86c8-37c3e88060d9",
   "metadata": {},
   "outputs": [
    {
     "data": {
      "text/plain": [
       "tensor([[12., 12.],\n",
       "        [12., 12.]])"
      ]
     },
     "execution_count": 61,
     "metadata": {},
     "output_type": "execute_result"
    }
   ],
   "source": [
    "a@b"
   ]
  },
  {
   "cell_type": "code",
   "execution_count": 62,
   "id": "aa579a8b-4599-4466-87bb-492cf3ac51ff",
   "metadata": {},
   "outputs": [
    {
     "data": {
      "text/plain": [
       "tensor([[12., 12.],\n",
       "        [12., 12.]])"
      ]
     },
     "execution_count": 62,
     "metadata": {},
     "output_type": "execute_result"
    }
   ],
   "source": [
    "torch.matmul(a,b)"
   ]
  },
  {
   "cell_type": "code",
   "execution_count": 63,
   "id": "a6f587db-fdae-4af8-9dbe-94f25ad01c7c",
   "metadata": {},
   "outputs": [
    {
     "data": {
      "text/plain": [
       "tensor([[6., 6.],\n",
       "        [6., 6.]])"
      ]
     },
     "execution_count": 63,
     "metadata": {},
     "output_type": "execute_result"
    }
   ],
   "source": [
    "a*b#*仅仅表示对应位置的元素相乘"
   ]
  },
  {
   "cell_type": "markdown",
   "id": "c4cb070e-c998-45d0-80c3-2bfe4ad36140",
   "metadata": {},
   "source": [
    "## power 次方"
   ]
  },
  {
   "cell_type": "code",
   "execution_count": 64,
   "id": "3d21d758-a1dc-4a75-9f08-3af9f7fc8d7e",
   "metadata": {},
   "outputs": [
    {
     "data": {
      "text/plain": [
       "tensor([[9., 9.],\n",
       "        [9., 9.]])"
      ]
     },
     "execution_count": 64,
     "metadata": {},
     "output_type": "execute_result"
    }
   ],
   "source": [
    "a.pow(2)"
   ]
  },
  {
   "cell_type": "code",
   "execution_count": 65,
   "id": "c4e40a7c-6f69-45bf-9da9-281fbf519619",
   "metadata": {},
   "outputs": [
    {
     "data": {
      "text/plain": [
       "tensor([[9., 9.],\n",
       "        [9., 9.]])"
      ]
     },
     "execution_count": 65,
     "metadata": {},
     "output_type": "execute_result"
    }
   ],
   "source": [
    "a**2"
   ]
  },
  {
   "cell_type": "code",
   "execution_count": 66,
   "id": "3ace0873-9091-4db0-bb3e-223fb84bdcf4",
   "metadata": {},
   "outputs": [
    {
     "data": {
      "text/plain": [
       "tensor([[1.7321, 1.7321],\n",
       "        [1.7321, 1.7321]])"
      ]
     },
     "execution_count": 66,
     "metadata": {},
     "output_type": "execute_result"
    }
   ],
   "source": [
    "a.sqrt()"
   ]
  },
  {
   "cell_type": "code",
   "execution_count": 67,
   "id": "46c0c58f-48c5-43f7-a329-887802e579fd",
   "metadata": {},
   "outputs": [
    {
     "data": {
      "text/plain": [
       "tensor([[1.7321, 1.7321],\n",
       "        [1.7321, 1.7321]])"
      ]
     },
     "execution_count": 67,
     "metadata": {},
     "output_type": "execute_result"
    }
   ],
   "source": [
    "a**0.5"
   ]
  },
  {
   "cell_type": "markdown",
   "id": "0cba3c2d-e3e1-400a-8413-3cb88ee03c82",
   "metadata": {},
   "source": [
    "## exp()"
   ]
  },
  {
   "cell_type": "code",
   "execution_count": 68,
   "id": "4883e544-2a52-4145-a629-e87551f7da92",
   "metadata": {},
   "outputs": [
    {
     "data": {
      "text/plain": [
       "tensor([[2.7183, 2.7183],\n",
       "        [2.7183, 2.7183]])"
      ]
     },
     "execution_count": 68,
     "metadata": {},
     "output_type": "execute_result"
    }
   ],
   "source": [
    "torch.exp(torch.ones(2,2))"
   ]
  },
  {
   "cell_type": "markdown",
   "id": "c13a5995-ce09-4cd5-9fb7-512f938381aa",
   "metadata": {},
   "source": [
    "## 取整数取小数"
   ]
  },
  {
   "cell_type": "code",
   "execution_count": 69,
   "id": "b7e39bed-82b7-4129-9e90-40c36a668729",
   "metadata": {},
   "outputs": [],
   "source": [
    "a = torch.tensor(-3.14)"
   ]
  },
  {
   "cell_type": "code",
   "execution_count": 70,
   "id": "2dd399db-829d-46ea-9f5e-f7fb42295243",
   "metadata": {},
   "outputs": [
    {
     "data": {
      "text/plain": [
       "tensor(-4.)"
      ]
     },
     "execution_count": 70,
     "metadata": {},
     "output_type": "execute_result"
    }
   ],
   "source": [
    "a.floor()#向下取整"
   ]
  },
  {
   "cell_type": "code",
   "execution_count": 71,
   "id": "aefc0eb8-1de4-47cf-a806-e101a474896b",
   "metadata": {},
   "outputs": [
    {
     "data": {
      "text/plain": [
       "tensor(-3.)"
      ]
     },
     "execution_count": 71,
     "metadata": {},
     "output_type": "execute_result"
    }
   ],
   "source": [
    "a.ceil()#向上取整"
   ]
  },
  {
   "cell_type": "code",
   "execution_count": 72,
   "id": "1d311b77-faaa-4006-95f9-9effab75c910",
   "metadata": {},
   "outputs": [
    {
     "data": {
      "text/plain": [
       "tensor(-3.)"
      ]
     },
     "execution_count": 72,
     "metadata": {},
     "output_type": "execute_result"
    }
   ],
   "source": [
    "a.trunc()#裁剪整数部分"
   ]
  },
  {
   "cell_type": "code",
   "execution_count": 73,
   "id": "434678d8-af93-4b32-8155-416c35880a90",
   "metadata": {},
   "outputs": [
    {
     "data": {
      "text/plain": [
       "tensor(-0.1400)"
      ]
     },
     "execution_count": 73,
     "metadata": {},
     "output_type": "execute_result"
    }
   ],
   "source": [
    "a.frac()#裁剪小数部分"
   ]
  },
  {
   "cell_type": "code",
   "execution_count": 74,
   "id": "8376ad79-8889-4786-8f90-10e8045c371d",
   "metadata": {},
   "outputs": [
    {
     "data": {
      "text/plain": [
       "tensor(4.)"
      ]
     },
     "execution_count": 74,
     "metadata": {},
     "output_type": "execute_result"
    }
   ],
   "source": [
    "b = torch.tensor(4.5)\n",
    "a.round()#四舍五入 偶数.5舍,奇数.5入\n",
    "b.round()"
   ]
  },
  {
   "cell_type": "markdown",
   "id": "1114fc5e-6d79-4f27-9e79-ba89a0dd5e43",
   "metadata": {},
   "source": [
    "## 数据最大最小值的裁剪 clamp"
   ]
  },
  {
   "cell_type": "code",
   "execution_count": 75,
   "id": "99e1fe5f-334d-418b-8249-feffedc74ff9",
   "metadata": {},
   "outputs": [
    {
     "data": {
      "text/plain": [
       "tensor([[ 8.6572,  8.3627,  7.4296],\n",
       "        [ 0.6315, 13.3095,  2.4311]])"
      ]
     },
     "execution_count": 75,
     "metadata": {},
     "output_type": "execute_result"
    }
   ],
   "source": [
    "grad = torch.rand(2,3)*15\n",
    "grad"
   ]
  },
  {
   "cell_type": "code",
   "execution_count": 76,
   "id": "67f6ef26-281c-4142-ac0a-3c2475ee4a29",
   "metadata": {},
   "outputs": [
    {
     "data": {
      "text/plain": [
       "(tensor(13.3095), tensor(7.4296))"
      ]
     },
     "execution_count": 76,
     "metadata": {},
     "output_type": "execute_result"
    }
   ],
   "source": [
    "grad.max(),grad.median()#中位数,grad.mean()"
   ]
  },
  {
   "cell_type": "code",
   "execution_count": 77,
   "id": "2e476915-a16f-42da-9312-4ef6d5522853",
   "metadata": {},
   "outputs": [
    {
     "data": {
      "text/plain": [
       "tensor([[10.0000, 10.0000, 10.0000],\n",
       "        [10.0000, 13.3095, 10.0000]])"
      ]
     },
     "execution_count": 77,
     "metadata": {},
     "output_type": "execute_result"
    }
   ],
   "source": [
    "grad.clamp(10)#小于10的部分都变成10"
   ]
  },
  {
   "cell_type": "code",
   "execution_count": 78,
   "id": "a5f100d8-60ee-4f38-812f-82b024869384",
   "metadata": {},
   "outputs": [
    {
     "data": {
      "text/plain": [
       "tensor([[ 8.6572,  8.3627,  7.4296],\n",
       "        [ 5.0000, 10.0000,  5.0000]])"
      ]
     },
     "execution_count": 78,
     "metadata": {},
     "output_type": "execute_result"
    }
   ],
   "source": [
    "grad.clamp(5,10)#小于5的变5，小于10的变10"
   ]
  },
  {
   "cell_type": "markdown",
   "id": "00a6eb0b-ff74-491b-8419-af37e0e1214b",
   "metadata": {},
   "source": [
    "# 数据统计"
   ]
  },
  {
   "cell_type": "markdown",
   "id": "e949487a-3938-475f-bd9f-cda5f1557d3b",
   "metadata": {},
   "source": [
    "## norm n范数"
   ]
  },
  {
   "cell_type": "code",
   "execution_count": 79,
   "id": "4df4ab05-52bb-4db2-b016-c25c2afbb7cc",
   "metadata": {},
   "outputs": [],
   "source": [
    "a = torch.full([2,2,2],2.)"
   ]
  },
  {
   "cell_type": "code",
   "execution_count": 80,
   "id": "695ff320-84ba-4502-b5f4-d196c6f0cbd5",
   "metadata": {},
   "outputs": [
    {
     "data": {
      "text/plain": [
       "(tensor(16.), tensor(5.6569))"
      ]
     },
     "execution_count": 80,
     "metadata": {},
     "output_type": "execute_result"
    }
   ],
   "source": [
    "a.norm(1),a.norm(2)"
   ]
  },
  {
   "cell_type": "code",
   "execution_count": 81,
   "id": "9ca3032a-b338-41eb-8fe6-017e2cdc61e5",
   "metadata": {},
   "outputs": [
    {
     "data": {
      "text/plain": [
       "tensor([[4., 4.],\n",
       "        [4., 4.]])"
      ]
     },
     "execution_count": 81,
     "metadata": {},
     "output_type": "execute_result"
    }
   ],
   "source": [
    "a.norm(1,dim=1)#求第一维度一范数"
   ]
  },
  {
   "cell_type": "markdown",
   "id": "06eaebb3-8591-428a-9a52-afc0cc854f1e",
   "metadata": {},
   "source": [
    "## mean sum min max prod"
   ]
  },
  {
   "cell_type": "code",
   "execution_count": 82,
   "id": "22dfc0c3-80a3-413c-8e5c-74c099866666",
   "metadata": {},
   "outputs": [
    {
     "data": {
      "text/plain": [
       "tensor([[0., 1., 2., 3.],\n",
       "        [4., 5., 6., 7.]])"
      ]
     },
     "execution_count": 82,
     "metadata": {},
     "output_type": "execute_result"
    }
   ],
   "source": [
    "a = torch.arange(8).view(2,4).float()\n",
    "a"
   ]
  },
  {
   "cell_type": "code",
   "execution_count": 83,
   "id": "155f128f-6376-4637-90e7-1e5bf7a9d1ab",
   "metadata": {},
   "outputs": [
    {
     "data": {
      "text/plain": [
       "(tensor(0.), tensor(7.), tensor(3.5000), tensor(0.))"
      ]
     },
     "execution_count": 83,
     "metadata": {},
     "output_type": "execute_result"
    }
   ],
   "source": [
    "a.min(),a.max(),a.mean(),a.prod()#最小值、最大值、平均值、所有数字的累乘                                          "
   ]
  },
  {
   "cell_type": "code",
   "execution_count": 84,
   "id": "e53b2446-7fb0-4e49-9634-c1a24bd2ce32",
   "metadata": {},
   "outputs": [
    {
     "data": {
      "text/plain": [
       "(tensor(7), tensor(0))"
      ]
     },
     "execution_count": 84,
     "metadata": {},
     "output_type": "execute_result"
    }
   ],
   "source": [
    "a.argmax(),a.argmin()#所有数据打平，求最大最小值索引"
   ]
  },
  {
   "cell_type": "code",
   "execution_count": 85,
   "id": "14b2113f-09ad-4335-aa8d-faf3138edb58",
   "metadata": {},
   "outputs": [
    {
     "data": {
      "text/plain": [
       "tensor([3, 3])"
      ]
     },
     "execution_count": 85,
     "metadata": {},
     "output_type": "execute_result"
    }
   ],
   "source": [
    "a.argmax(dim=1)#在每列上求最大值，记住最终的结果会把数据所求的维度打平"
   ]
  },
  {
   "cell_type": "markdown",
   "id": "ebb1c252-4e4b-4b9f-a7d6-1af15529a08e",
   "metadata": {},
   "source": [
    "## dim keepdim"
   ]
  },
  {
   "cell_type": "code",
   "execution_count": 86,
   "id": "217f9328-ca56-44eb-af57-efa33990fbd5",
   "metadata": {},
   "outputs": [
    {
     "data": {
      "text/plain": [
       "tensor([[0., 1., 2., 3.],\n",
       "        [4., 5., 6., 7.]])"
      ]
     },
     "execution_count": 86,
     "metadata": {},
     "output_type": "execute_result"
    }
   ],
   "source": [
    "a"
   ]
  },
  {
   "cell_type": "code",
   "execution_count": 87,
   "id": "985aa34e-c66f-41cc-adfa-ac5a48b8c48e",
   "metadata": {},
   "outputs": [
    {
     "data": {
      "text/plain": [
       "torch.return_types.max(\n",
       "values=tensor([3., 7.]),\n",
       "indices=tensor([3, 3]))"
      ]
     },
     "execution_count": 87,
     "metadata": {},
     "output_type": "execute_result"
    }
   ],
   "source": [
    "a.max(dim=1)"
   ]
  },
  {
   "cell_type": "code",
   "execution_count": 88,
   "id": "4d446981-8e26-421b-9bda-0d79129fd369",
   "metadata": {},
   "outputs": [
    {
     "name": "stdout",
     "output_type": "stream",
     "text": [
      "torch.return_types.max(\n",
      "values=tensor([[3.],\n",
      "        [7.]]),\n",
      "indices=tensor([[3],\n",
      "        [3]]))\n"
     ]
    }
   ],
   "source": [
    "print(a.max(dim=1,keepdim=True))#keepdim在求得最值后，本来对应的维度会变成1而squeeze消失，这个参数可以让dim=1"
   ]
  },
  {
   "cell_type": "markdown",
   "id": "d5bcfce6-c9da-4d08-817e-550a0363fe11",
   "metadata": {},
   "source": [
    "## topk kthvalue 取第几大小的数据"
   ]
  },
  {
   "cell_type": "code",
   "execution_count": 89,
   "id": "8009e232-abc3-4c6a-810f-99914a33bdcd",
   "metadata": {},
   "outputs": [
    {
     "data": {
      "text/plain": [
       "tensor([[3., 2., 1.],\n",
       "        [7., 6., 5.]])"
      ]
     },
     "execution_count": 89,
     "metadata": {},
     "output_type": "execute_result"
    }
   ],
   "source": [
    "a.topk(3,dim=1).values#算出每一个维度中最大三个数"
   ]
  },
  {
   "cell_type": "code",
   "execution_count": 90,
   "id": "e40420f3-3148-4cc0-afc7-3fa2a468791f",
   "metadata": {},
   "outputs": [
    {
     "data": {
      "text/plain": [
       "torch.return_types.kthvalue(\n",
       "values=tensor([1., 5.]),\n",
       "indices=tensor([1, 1]))"
      ]
     },
     "execution_count": 90,
     "metadata": {},
     "output_type": "execute_result"
    }
   ],
   "source": [
    "a.kthvalue(2,dim=1)#表示第2小的数据"
   ]
  },
  {
   "cell_type": "markdown",
   "id": "8f8c1e20-937e-46d7-8dfd-43c1079c68f4",
   "metadata": {},
   "source": [
    "## 比较 "
   ]
  },
  {
   "cell_type": "code",
   "execution_count": 91,
   "id": "e2e22d42-4daa-41ef-8d47-ad9b4cd9d953",
   "metadata": {},
   "outputs": [
    {
     "data": {
      "text/plain": [
       "tensor([[False,  True,  True,  True],\n",
       "        [ True,  True,  True,  True]])"
      ]
     },
     "execution_count": 91,
     "metadata": {},
     "output_type": "execute_result"
    }
   ],
   "source": [
    "a>0"
   ]
  },
  {
   "cell_type": "code",
   "execution_count": 92,
   "id": "e97f4d9d-d4e0-4327-a5a2-4ab217a67a7b",
   "metadata": {},
   "outputs": [
    {
     "data": {
      "text/plain": [
       "tensor([[False,  True,  True,  True],\n",
       "        [ True,  True,  True,  True]])"
      ]
     },
     "execution_count": 92,
     "metadata": {},
     "output_type": "execute_result"
    }
   ],
   "source": [
    "torch.gt(a,0)#和>一个意思"
   ]
  },
  {
   "cell_type": "code",
   "execution_count": 93,
   "id": "af6273cc-7828-47f1-aaac-759a9d2c5c56",
   "metadata": {},
   "outputs": [
    {
     "data": {
      "text/plain": [
       "tensor([[False,  True,  True,  True],\n",
       "        [ True,  True,  True,  True]])"
      ]
     },
     "execution_count": 93,
     "metadata": {},
     "output_type": "execute_result"
    }
   ],
   "source": [
    "a!= 0"
   ]
  },
  {
   "cell_type": "code",
   "execution_count": 94,
   "id": "69566d8f-5b32-4df5-b08b-6f02fc3e6062",
   "metadata": {},
   "outputs": [],
   "source": [
    "a = torch.ones(2,3)\n",
    "b = torch.randn(2,3)"
   ]
  },
  {
   "cell_type": "code",
   "execution_count": 95,
   "id": "7056c6ab-4289-484d-afc2-ad8dbb65528e",
   "metadata": {},
   "outputs": [
    {
     "data": {
      "text/plain": [
       "tensor([[False, False, False],\n",
       "        [False, False, False]])"
      ]
     },
     "execution_count": 95,
     "metadata": {},
     "output_type": "execute_result"
    }
   ],
   "source": [
    "torch.eq(a,b)"
   ]
  },
  {
   "cell_type": "code",
   "execution_count": 96,
   "id": "1be87ee7-14e8-4a8f-a2db-d14688dd50e2",
   "metadata": {},
   "outputs": [
    {
     "data": {
      "text/plain": [
       "False"
      ]
     },
     "execution_count": 96,
     "metadata": {},
     "output_type": "execute_result"
    }
   ],
   "source": [
    "torch.equal(a,b)#全部的值是否相等"
   ]
  },
  {
   "cell_type": "code",
   "execution_count": 97,
   "id": "99933f73-83b9-449b-a095-87e9730e97e5",
   "metadata": {},
   "outputs": [
    {
     "data": {
      "text/plain": [
       "tensor([[True, True, True],\n",
       "        [True, True, True]])"
      ]
     },
     "execution_count": 97,
     "metadata": {},
     "output_type": "execute_result"
    }
   ],
   "source": [
    "torch.eq(a,a)"
   ]
  },
  {
   "cell_type": "code",
   "execution_count": 98,
   "id": "4a25e10e-3049-42bf-96a7-0ac3dba820c2",
   "metadata": {},
   "outputs": [
    {
     "data": {
      "text/plain": [
       "True"
      ]
     },
     "execution_count": 98,
     "metadata": {},
     "output_type": "execute_result"
    }
   ],
   "source": [
    "torch.equal(a,a)"
   ]
  },
  {
   "cell_type": "markdown",
   "id": "a563744f-fcca-4ac6-bde8-2a7f7599d6d2",
   "metadata": {},
   "source": [
    "# 高级操作"
   ]
  },
  {
   "cell_type": "markdown",
   "id": "88b53b0c-42ee-4a97-8f1e-b4752e42643a",
   "metadata": {},
   "source": [
    "## where(condition,x,y)"
   ]
  },
  {
   "cell_type": "code",
   "execution_count": 99,
   "id": "1ce20777-c635-4b90-9d6d-be8cf3b9bc37",
   "metadata": {},
   "outputs": [
    {
     "data": {
      "text/plain": [
       "tensor([[0.6868, 0.6417, 0.5790, 0.4368, 0.8512],\n",
       "        [0.5429, 0.4583, 0.7274, 0.3485, 0.5018],\n",
       "        [0.3829, 0.7177, 0.6357, 0.6017, 0.4079],\n",
       "        [0.8747, 0.6588, 0.4885, 0.5675, 0.0234]])"
      ]
     },
     "execution_count": 99,
     "metadata": {},
     "output_type": "execute_result"
    }
   ],
   "source": [
    "condition = torch.rand([4,5])\n",
    "condition"
   ]
  },
  {
   "cell_type": "code",
   "execution_count": 100,
   "id": "768ebdf9-35fa-4a87-b600-37058009df54",
   "metadata": {},
   "outputs": [
    {
     "data": {
      "text/plain": [
       "tensor([[False, False, False,  True, False],\n",
       "        [False,  True, False,  True, False],\n",
       "        [ True, False, False, False,  True],\n",
       "        [False, False,  True, False,  True]])"
      ]
     },
     "execution_count": 100,
     "metadata": {},
     "output_type": "execute_result"
    }
   ],
   "source": [
    "condition<0.5"
   ]
  },
  {
   "cell_type": "code",
   "execution_count": 101,
   "id": "fa429902-33fb-4c24-96de-ff2ef6e7ad67",
   "metadata": {},
   "outputs": [],
   "source": [
    "x = torch.full([4,5],1)"
   ]
  },
  {
   "cell_type": "code",
   "execution_count": 102,
   "id": "8c23d572-9735-42c2-8825-19e66707cf7d",
   "metadata": {},
   "outputs": [],
   "source": [
    "y = torch.full([4,5],0)"
   ]
  },
  {
   "cell_type": "code",
   "execution_count": 103,
   "id": "8895b82b-6ad1-4978-804b-25a55a24d971",
   "metadata": {},
   "outputs": [
    {
     "data": {
      "text/plain": [
       "tensor([[0, 0, 0, 1, 0],\n",
       "        [0, 1, 0, 1, 0],\n",
       "        [1, 0, 0, 0, 1],\n",
       "        [0, 0, 1, 0, 1]])"
      ]
     },
     "execution_count": 103,
     "metadata": {},
     "output_type": "execute_result"
    }
   ],
   "source": [
    "torch.where(condition<0.5,x,y)"
   ]
  },
  {
   "cell_type": "code",
   "execution_count": 192,
   "id": "f5feb8f6-018b-409b-8da3-c2e7ab204ff9",
   "metadata": {},
   "outputs": [
    {
     "data": {
      "text/plain": [
       "array([[0, 0, 0, 1, 0],\n",
       "       [0, 1, 0, 1, 0],\n",
       "       [1, 0, 0, 0, 1],\n",
       "       [0, 0, 1, 0, 1]])"
      ]
     },
     "execution_count": 192,
     "metadata": {},
     "output_type": "execute_result"
    }
   ],
   "source": [
    "def func(n): \n",
    "    return n\n",
    "np.where(condition<0.5, func(n = n+1), 0)"
   ]
  },
  {
   "cell_type": "markdown",
   "id": "ed709362-dfc9-4992-898a-e3d52b43a56c",
   "metadata": {},
   "source": [
    "## gather 按照索引获得对应的值"
   ]
  },
  {
   "cell_type": "code",
   "execution_count": 104,
   "id": "6bb6822d-826b-46e3-884c-fb5f518ecbed",
   "metadata": {},
   "outputs": [
    {
     "data": {
      "text/plain": [
       "tensor([[0.0028, 0.8733, 0.2279, 0.1383, 0.2314, 0.2029, 0.9993, 0.0943, 0.5632,\n",
       "         0.6487],\n",
       "        [0.7499, 0.6605, 0.9943, 0.7438, 0.7713, 0.9774, 0.3206, 0.5096, 0.5069,\n",
       "         0.4043],\n",
       "        [0.6490, 0.3405, 0.1312, 0.1297, 0.6968, 0.1637, 0.7328, 0.1154, 0.1856,\n",
       "         0.7503],\n",
       "        [0.8424, 0.3912, 0.8160, 0.5552, 0.8877, 0.1659, 0.2736, 0.1802, 0.3697,\n",
       "         0.4345]])"
      ]
     },
     "execution_count": 104,
     "metadata": {},
     "output_type": "execute_result"
    }
   ],
   "source": [
    "label = torch.rand([4,10])\n",
    "label"
   ]
  },
  {
   "cell_type": "code",
   "execution_count": 107,
   "id": "65c6b363-f712-4eb6-bea0-5802eb20d0dd",
   "metadata": {},
   "outputs": [
    {
     "data": {
      "text/plain": [
       "tensor([[6, 1, 9],\n",
       "        [2, 5, 4],\n",
       "        [9, 6, 4],\n",
       "        [4, 0, 2]])"
      ]
     },
     "execution_count": 107,
     "metadata": {},
     "output_type": "execute_result"
    }
   ],
   "source": [
    "top3 = label.topk(3,dim=1)\n",
    "idx = top3[1]\n",
    "idx.shape\n",
    "idx"
   ]
  },
  {
   "cell_type": "code",
   "execution_count": 106,
   "id": "5f6229f3-965f-446e-b314-aaa748d2711c",
   "metadata": {},
   "outputs": [
    {
     "data": {
      "text/plain": [
       "tensor([[0.9993, 0.8733, 0.6487],\n",
       "        [0.9943, 0.9774, 0.7713],\n",
       "        [0.7503, 0.7328, 0.6968],\n",
       "        [0.8877, 0.8424, 0.8160]])"
      ]
     },
     "execution_count": 106,
     "metadata": {},
     "output_type": "execute_result"
    }
   ],
   "source": [
    "torch.gather(label,dim=1,index = idx)"
   ]
  },
  {
   "cell_type": "code",
   "execution_count": 169,
   "id": "b97180ae-e0f9-417b-9d64-20c62699545c",
   "metadata": {},
   "outputs": [
    {
     "data": {
      "text/plain": [
       "tensor([[[[0.9285, 0.7632, 0.1936, 0.7332, 0.3281, 0.2554, 0.3664, 0.4041,\n",
       "           0.5436, 0.2830],\n",
       "          [0.6673, 0.4341, 0.3510, 0.1438, 0.6224, 0.3752, 0.5640, 0.6432,\n",
       "           0.1457, 0.4139],\n",
       "          [0.8297, 0.8659, 0.0178, 0.5773, 0.3391, 0.0094, 0.9944, 0.8672,\n",
       "           0.9777, 0.7757],\n",
       "          [0.4099, 0.3422, 0.8061, 0.4656, 0.2154, 0.3890, 0.2359, 0.6629,\n",
       "           0.8639, 0.5241],\n",
       "          [0.8757, 0.1662, 0.6354, 0.0223, 0.1603, 0.6071, 0.9387, 0.9595,\n",
       "           0.7719, 0.9767],\n",
       "          [0.1972, 0.4730, 0.3118, 0.7788, 0.2980, 0.2822, 0.4207, 0.1863,\n",
       "           0.3878, 0.7676],\n",
       "          [0.7835, 0.0942, 0.2971, 0.4366, 0.4185, 0.6258, 0.7276, 0.1804,\n",
       "           0.4380, 0.4697],\n",
       "          [0.4795, 0.7170, 0.3062, 0.4555, 0.8382, 0.3848, 0.2636, 0.4490,\n",
       "           0.0983, 0.0409],\n",
       "          [0.1717, 0.4954, 0.2297, 0.7115, 0.9023, 0.6556, 0.0194, 0.8228,\n",
       "           0.6108, 0.6997],\n",
       "          [0.8093, 0.0733, 0.0196, 0.0879, 0.2277, 0.9271, 0.6170, 0.0240,\n",
       "           0.1357, 0.8817]]],\n",
       "\n",
       "\n",
       "        [[[0.5615, 0.3617, 0.8146, 0.3699, 0.3984, 0.4275, 0.7636, 0.2522,\n",
       "           0.1227, 0.8503],\n",
       "          [0.0745, 0.9026, 0.1149, 0.8782, 0.1282, 0.5152, 0.0858, 0.4446,\n",
       "           0.0242, 0.7944],\n",
       "          [0.2302, 0.2829, 0.3508, 0.3722, 0.9708, 0.0995, 0.9651, 0.4931,\n",
       "           0.2992, 0.1769],\n",
       "          [0.2672, 0.1992, 0.2615, 0.8352, 0.6165, 0.3721, 0.6166, 0.5975,\n",
       "           0.6673, 0.1186],\n",
       "          [0.6769, 0.0864, 0.7124, 0.0832, 0.1797, 0.0458, 0.9968, 0.5540,\n",
       "           0.0414, 0.8907],\n",
       "          [0.6031, 0.9140, 0.1190, 0.4005, 0.4014, 0.2366, 0.8359, 0.7779,\n",
       "           0.5893, 0.5410],\n",
       "          [0.2463, 0.3922, 0.3798, 0.4544, 0.1806, 0.2731, 0.5015, 0.0118,\n",
       "           0.8490, 0.3293],\n",
       "          [0.2810, 0.8191, 0.6053, 0.4403, 0.6554, 0.3847, 0.2571, 0.7914,\n",
       "           0.3386, 0.5890],\n",
       "          [0.3454, 0.4357, 0.2195, 0.8931, 0.4527, 0.0928, 0.3417, 0.9451,\n",
       "           0.5385, 0.6263],\n",
       "          [0.0494, 0.5244, 0.8208, 0.2451, 0.4654, 0.2428, 0.3408, 0.4938,\n",
       "           0.9185, 0.5976]]]])"
      ]
     },
     "execution_count": 169,
     "metadata": {},
     "output_type": "execute_result"
    }
   ],
   "source": [
    "a = torch.rand([2,1,10,10])\n",
    "b = torch.tensor([[1,2,3,4],[2,3,4,5]])\n",
    "a"
   ]
  },
  {
   "cell_type": "code",
   "execution_count": 170,
   "id": "02fa400a-3526-4f01-9de9-944fa0be8b58",
   "metadata": {},
   "outputs": [
    {
     "data": {
      "text/plain": [
       "(torch.Size([2, 1, 1, 10]), torch.Size([2, 1, 1, 1]))"
      ]
     },
     "execution_count": 170,
     "metadata": {},
     "output_type": "execute_result"
    }
   ],
   "source": [
    "c = torch.tensor([int(b[i,0]) for i in range(2)])\n",
    "c = c.unsqueeze(1).unsqueeze(2).unsqueeze(3).expand(2,1,1,10)\n",
    "d = torch.tensor([int(b[i,1]) for i in range(2)])\n",
    "d = d.unsqueeze(1).unsqueeze(2).unsqueeze(3).expand(2,1,1,1)\n",
    "c.shape,d.shape"
   ]
  },
  {
   "cell_type": "code",
   "execution_count": 171,
   "id": "18fa1c8c-6aeb-4829-86a0-ad8881e4ad72",
   "metadata": {},
   "outputs": [],
   "source": [
    "a = torch.gather(a, dim=2, index=c)\n",
    "a.shape\n",
    "a = torch.gather(a, dim=3, index=d)"
   ]
  },
  {
   "cell_type": "code",
   "execution_count": 172,
   "id": "fae00cb6-091c-470c-9983-123bc9cdfbf7",
   "metadata": {},
   "outputs": [
    {
     "data": {
      "text/plain": [
       "(tensor([0.3510, 0.3722]), torch.Size([2, 1, 1, 1]))"
      ]
     },
     "execution_count": 172,
     "metadata": {},
     "output_type": "execute_result"
    }
   ],
   "source": [
    "a.squeeze(),a.shape"
   ]
  },
  {
   "cell_type": "markdown",
   "id": "c938076c-35be-4d86-a7ed-671553a77796",
   "metadata": {},
   "source": [
    "# item"
   ]
  },
  {
   "cell_type": "code",
   "execution_count": 11,
   "id": "cb24ff2a-d082-408a-a819-0f4e88b954f6",
   "metadata": {},
   "outputs": [],
   "source": [
    "a = torch.Tensor(1,1)\n"
   ]
  },
  {
   "cell_type": "code",
   "execution_count": 12,
   "id": "45476d18-6736-4e3d-a6f8-8cc7a0b77194",
   "metadata": {},
   "outputs": [
    {
     "data": {
      "text/plain": [
       "tensor([[-7.7060e-37]])"
      ]
     },
     "execution_count": 12,
     "metadata": {},
     "output_type": "execute_result"
    }
   ],
   "source": [
    "a"
   ]
  },
  {
   "cell_type": "code",
   "execution_count": 13,
   "id": "881cb77e-4eed-4d78-a192-c8b3ebf394bc",
   "metadata": {},
   "outputs": [
    {
     "data": {
      "text/plain": [
       "-7.70600257839469e-37"
      ]
     },
     "execution_count": 13,
     "metadata": {},
     "output_type": "execute_result"
    }
   ],
   "source": [
    "a.item()"
   ]
  },
  {
   "cell_type": "code",
   "execution_count": null,
   "id": "7d11e9e3-d899-4ded-90b4-516775df349e",
   "metadata": {},
   "outputs": [],
   "source": []
  }
 ],
 "metadata": {
  "kernelspec": {
   "display_name": "Python 3 (ipykernel)",
   "language": "python",
   "name": "python3"
  },
  "language_info": {
   "codemirror_mode": {
    "name": "ipython",
    "version": 3
   },
   "file_extension": ".py",
   "mimetype": "text/x-python",
   "name": "python",
   "nbconvert_exporter": "python",
   "pygments_lexer": "ipython3",
   "version": "3.9.7"
  }
 },
 "nbformat": 4,
 "nbformat_minor": 5
}
