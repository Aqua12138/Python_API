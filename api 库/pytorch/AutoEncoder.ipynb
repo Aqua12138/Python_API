{
 "cells": [
  {
   "cell_type": "markdown",
   "id": "66400b4f-0c6e-4228-af57-8dfd06f8ca4d",
   "metadata": {},
   "source": [
    "#\n",
    "高纬度降低维度 pca SVM\n"
   ]
  }
 ],
 "metadata": {
  "kernelspec": {
   "display_name": "Python 3 (ipykernel)",
   "language": "python",
   "name": "python3"
  },
  "language_info": {
   "codemirror_mode": {
    "name": "ipython",
    "version": 3
   },
   "file_extension": ".py",
   "mimetype": "text/x-python",
   "name": "python",
   "nbconvert_exporter": "python",
   "pygments_lexer": "ipython3",
   "version": "3.9.7"
  }
 },
 "nbformat": 4,
 "nbformat_minor": 5
}
