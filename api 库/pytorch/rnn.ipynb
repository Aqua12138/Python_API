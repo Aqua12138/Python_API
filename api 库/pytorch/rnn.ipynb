{
 "cells": [
  {
   "cell_type": "code",
   "execution_count": 1,
   "id": "0cd41f1b-5f93-493d-9cc6-8bdcecef0f29",
   "metadata": {},
   "outputs": [],
   "source": [
    "import torch\n",
    "from torch import nn\n",
    "import numpy as np"
   ]
  },
  {
   "cell_type": "markdown",
   "id": "a069969b-4e08-4aef-8b51-c749b598ff15",
   "metadata": {},
   "source": [
    "# RNN"
   ]
  },
  {
   "cell_type": "code",
   "execution_count": 2,
   "id": "a1e68900-2121-4ef6-a0c2-2cb58b215c9f",
   "metadata": {},
   "outputs": [
    {
     "name": "stdout",
     "output_type": "stream",
     "text": [
      "RNN(100, 20)\n"
     ]
    }
   ],
   "source": [
    "rnn = nn.RNN(input_size = 100, hidden_size = 20, num_layers = 1)\n",
    "'''\n",
    "input_size表示每一个单词的特征维度大小\n",
    "hidden_size表示每一个隐藏层特征维度的大小\n",
    "num_layers表示有多少个RNN网络层相连\n",
    "'''\n",
    "print(rnn)"
   ]
  },
  {
   "cell_type": "code",
   "execution_count": 3,
   "id": "b8a6ae8c-f7f8-4166-8bb9-9d57ed135b8d",
   "metadata": {},
   "outputs": [
    {
     "name": "stdout",
     "output_type": "stream",
     "text": [
      "torch.Size([10, 3, 20]) torch.Size([1, 3, 20])\n"
     ]
    },
    {
     "data": {
      "text/plain": [
       "'\\n如果存在2层RNN out [10, 3, 20] h [2, 3, 20] \\n'"
      ]
     },
     "execution_count": 3,
     "metadata": {},
     "output_type": "execute_result"
    }
   ],
   "source": [
    "#准备数据\n",
    "x = torch.randn(10, 3, 100)#表示的是3句话，每句话有10个单词，每个单词的维度是100\n",
    "out, h = rnn(x, torch.zeros(1, 3, 20))#这里的torch.zeros(1, 3, 20)表示的0语义\n",
    "print(out.shape, h.shape)#out(存储着最后一层RNN每一个单词循环后的语义信息) h(存储着每一层RNN最后一个时间序列数据的语义信息)\n",
    "'''\n",
    "如果存在2层RNN out [10, 3, 20] h [2, 3, 20] \n",
    "'''"
   ]
  },
  {
   "cell_type": "markdown",
   "id": "1848212c-af10-4ef3-9967-206b70803f94",
   "metadata": {},
   "source": [
    "# RNNCELL"
   ]
  },
  {
   "cell_type": "code",
   "execution_count": 4,
   "id": "e02c0542-c451-4530-8f05-90934125e398",
   "metadata": {},
   "outputs": [
    {
     "name": "stdout",
     "output_type": "stream",
     "text": [
      "torch.Size([3, 20])\n"
     ]
    }
   ],
   "source": [
    "cell1 = nn.RNNCell(100, 20)#input_size hidden_size\n",
    "x = torch.randn(10, 3, 100)\n",
    "h1 = torch.zeros(3, 20)#句子数量 隐藏层数量， 而第几个时间序列的信息则不再需要\n",
    "for xt in x:\n",
    "    h1 = cell1(xt, h1)\n",
    "print(h1.shape)"
   ]
  },
  {
   "cell_type": "code",
   "execution_count": 5,
   "id": "74aebc9f-0c91-4e0b-9621-240cd99d6afa",
   "metadata": {},
   "outputs": [
    {
     "name": "stdout",
     "output_type": "stream",
     "text": [
      "torch.Size([3, 20])\n"
     ]
    }
   ],
   "source": [
    "#多层循环\n",
    "cell1 = nn.RNNCell(100, 30)\n",
    "cell2 = nn.RNNCell(30, 20)\n",
    "h1 = torch.zeros(3, 30)\n",
    "h2 = torch.zeros(3, 20)\n",
    "for xt in x:\n",
    "    h1 = cell1(xt, h1)\n",
    "    h2 = cell2(h1, h2)\n",
    "print(h2.shape)"
   ]
  },
  {
   "cell_type": "markdown",
   "id": "cf14ffa2-6192-4fcb-a1de-361f750812fc",
   "metadata": {},
   "source": [
    "# 正弦曲线预测"
   ]
  },
  {
   "cell_type": "code",
   "execution_count": 6,
   "id": "15a6d3db-51af-4170-83d1-f87bb3e0ba79",
   "metadata": {},
   "outputs": [
    {
     "data": {
      "text/plain": [
       "(50, 1)"
      ]
     },
     "execution_count": 6,
     "metadata": {},
     "output_type": "execute_result"
    }
   ],
   "source": [
    "num_time_steps = 50\n",
    "start = np.random.randint(3, size = 1)[0]\n",
    "time_steps = np.linspace(start, start + 10, num_time_steps)\n",
    "data = np.sin(time_steps)\n",
    "data = data.reshape(num_time_steps, 1)\n",
    "data.shape"
   ]
  },
  {
   "cell_type": "code",
   "execution_count": 7,
   "id": "47e794e5-7220-46d9-b2c7-d8cd0e19ac84",
   "metadata": {},
   "outputs": [
    {
     "data": {
      "text/plain": [
       "(torch.Size([1, 49, 1]), torch.Size([1, 49, 1]))"
      ]
     },
     "execution_count": 7,
     "metadata": {},
     "output_type": "execute_result"
    }
   ],
   "source": [
    "x = torch.tensor(data[: -1]).float().view(1, num_time_steps - 1, 1)#[b, sequence, f]\n",
    "y = torch.tensor(data[1:  ]).float().view(1, num_time_steps - 1, 1)\n",
    "'''\n",
    "x当前值 \n",
    "y预测值\n",
    "'''\n",
    "x.shape, y.shape"
   ]
  },
  {
   "cell_type": "code",
   "execution_count": 8,
   "id": "84114fb6-26e2-4447-b02f-22dce7cda20d",
   "metadata": {},
   "outputs": [],
   "source": [
    "#model\n",
    "class MyRNN(nn.Module):\n",
    "    def __init__(self):\n",
    "        super(MyRNN, self).__init__()\n",
    "        self.rnn = nn.RNN(\n",
    "        input_size = 1,\n",
    "        hidden_size = 20,\n",
    "        num_layers = 1,\n",
    "        batch_first = True,\n",
    "        )#[b, sequence, f]\n",
    "        self.linear = nn.Linear(20, 1)\n",
    "    def forward(self, x, hidden_prev):\n",
    "        out, hidden_prev = self.rnn(x, hidden_prev)\n",
    "        # [1, seq, f] => [seq, f]\n",
    "        out = out.view(-1, 20)\n",
    "        out = self.linear(out)# [seq, f] => []\n",
    "        out = out.unsqueeze(dim = 0) # => [1, seq, 1]\n",
    "        return out, hidden_prev"
   ]
  },
  {
   "cell_type": "code",
   "execution_count": 9,
   "id": "a1af1ad2-2d51-4f33-9f28-a1dce0c89441",
   "metadata": {},
   "outputs": [
    {
     "name": "stdout",
     "output_type": "stream",
     "text": [
      "epoch:0, loss:0.5675114393234253\n",
      "epoch:100, loss:0.0739104300737381\n",
      "epoch:200, loss:0.05200529098510742\n",
      "epoch:300, loss:0.04295363277196884\n",
      "epoch:400, loss:0.015034189447760582\n",
      "epoch:500, loss:0.009155788458883762\n",
      "epoch:600, loss:0.004302713554352522\n",
      "epoch:700, loss:0.004083643201738596\n",
      "epoch:800, loss:0.005223941523581743\n",
      "epoch:900, loss:0.0018991539254784584\n",
      "epoch:1000, loss:0.00023260949819814414\n",
      "epoch:1100, loss:0.00962231494486332\n",
      "epoch:1200, loss:0.001360613969154656\n",
      "epoch:1300, loss:0.0013375337002798915\n",
      "epoch:1400, loss:0.006682169623672962\n",
      "epoch:1500, loss:0.0022227840963751078\n",
      "epoch:1600, loss:0.0014852742897346616\n",
      "epoch:1700, loss:0.0002992559166159481\n",
      "epoch:1800, loss:0.00789389107376337\n",
      "epoch:1900, loss:0.008290546014904976\n",
      "epoch:2000, loss:0.006468611769378185\n",
      "epoch:2100, loss:0.0009865176398307085\n",
      "epoch:2200, loss:0.0007525860564783216\n",
      "epoch:2300, loss:0.00430799787864089\n",
      "epoch:2400, loss:0.00610161479562521\n",
      "epoch:2500, loss:0.0029675632249563932\n",
      "epoch:2600, loss:0.0007303958991542459\n",
      "epoch:2700, loss:0.0038371265400201082\n",
      "epoch:2800, loss:0.00014147278852760792\n",
      "epoch:2900, loss:0.000876756792422384\n",
      "epoch:3000, loss:0.001524538965895772\n",
      "epoch:3100, loss:0.0003158487088512629\n",
      "epoch:3200, loss:0.003207933623343706\n",
      "epoch:3300, loss:0.00024763771216385067\n",
      "epoch:3400, loss:0.0028365948237478733\n",
      "epoch:3500, loss:0.0012027376797050238\n",
      "epoch:3600, loss:0.0026722364127635956\n",
      "epoch:3700, loss:0.0007756896084174514\n",
      "epoch:3800, loss:7.191271288320422e-05\n",
      "epoch:3900, loss:0.0022828038781881332\n",
      "epoch:4000, loss:0.00018995007849298418\n",
      "epoch:4100, loss:0.00018937719869427383\n",
      "epoch:4200, loss:0.000968031061347574\n",
      "epoch:4300, loss:0.0019807873759418726\n",
      "epoch:4400, loss:0.00012488420179579407\n",
      "epoch:4500, loss:0.002585136564448476\n",
      "epoch:4600, loss:0.0012761829420924187\n",
      "epoch:4700, loss:9.01719176908955e-05\n",
      "epoch:4800, loss:0.0003543961502145976\n",
      "epoch:4900, loss:0.0008417887729592621\n",
      "epoch:5000, loss:0.000883530534338206\n",
      "epoch:5100, loss:0.0014206157065927982\n",
      "epoch:5200, loss:0.0003202955122105777\n",
      "epoch:5300, loss:0.0009066480561159551\n",
      "epoch:5400, loss:0.0016780899604782462\n",
      "epoch:5500, loss:0.0002847359864972532\n",
      "epoch:5600, loss:0.0017786070238798857\n",
      "epoch:5700, loss:6.509353261208162e-05\n",
      "epoch:5800, loss:3.8383950595743954e-05\n",
      "epoch:5900, loss:0.0009698802605271339\n",
      "epoch:6000, loss:0.000648951274342835\n",
      "epoch:6100, loss:0.0011862724786624312\n",
      "epoch:6200, loss:0.0013349861837923527\n",
      "epoch:6300, loss:0.0003551967383828014\n",
      "epoch:6400, loss:0.0005153256934136152\n",
      "epoch:6500, loss:0.00010661232226993889\n",
      "epoch:6600, loss:0.00033595546847209334\n",
      "epoch:6700, loss:0.0002990954671986401\n",
      "epoch:6800, loss:0.0010471484856680036\n",
      "epoch:6900, loss:0.0013147384161129594\n",
      "epoch:7000, loss:0.0004910505376756191\n",
      "epoch:7100, loss:0.00020966473675798625\n",
      "epoch:7200, loss:0.0001664373412495479\n",
      "epoch:7300, loss:0.0007564243278466165\n",
      "epoch:7400, loss:9.762209083419293e-05\n",
      "epoch:7500, loss:0.00017711012333165854\n",
      "epoch:7600, loss:0.0013193561462685466\n",
      "epoch:7700, loss:0.00022275812807492912\n",
      "epoch:7800, loss:0.0014409089926630259\n",
      "epoch:7900, loss:0.00015256262850016356\n",
      "epoch:8000, loss:7.710294448770583e-05\n",
      "epoch:8100, loss:0.0008941961568780243\n",
      "epoch:8200, loss:0.0010007002856582403\n",
      "epoch:8300, loss:0.0003369618207216263\n",
      "epoch:8400, loss:0.00011737108434317634\n",
      "epoch:8500, loss:0.0006302054389379919\n",
      "epoch:8600, loss:8.840766531648114e-05\n",
      "epoch:8700, loss:0.00035648533958010375\n",
      "epoch:8800, loss:0.0009613824659027159\n",
      "epoch:8900, loss:0.0002650324022397399\n",
      "epoch:9000, loss:0.00013904630031902343\n",
      "epoch:9100, loss:0.00017253434634767473\n",
      "epoch:9200, loss:0.00029225810430943966\n",
      "epoch:9300, loss:0.0004737720009870827\n",
      "epoch:9400, loss:0.0003095064021181315\n",
      "epoch:9500, loss:0.0001540483208373189\n",
      "epoch:9600, loss:9.422429866390303e-05\n",
      "epoch:9700, loss:0.0003161155036650598\n",
      "epoch:9800, loss:0.0008270531543530524\n",
      "epoch:9900, loss:0.0010481287026777864\n"
     ]
    }
   ],
   "source": [
    "model = MyRNN()\n",
    "criterion = nn.MSELoss()\n",
    "optimizer = torch.optim.Adam(model.parameters())\n",
    "num_time_steps = 50\n",
    "hidden_prev = torch.zeros(1, 1, 20)\n",
    "for iter in range(10000):\n",
    "    start = np.random.randint(3, size = 1)[0]\n",
    "    time_steps = np.linspace(start, start + 10, num_time_steps)\n",
    "    data = np.sin(time_steps)\n",
    "    data = data.reshape(num_time_steps, 1)\n",
    "    x = torch.tensor(data[: -1]).float().view(1, num_time_steps - 1, 1)#[b, sequence, f]\n",
    "    y = torch.tensor(data[1:  ]).float().view(1, num_time_steps - 1, 1)\n",
    "    \n",
    "    output, hidden_prev = model(x, hidden_prev)\n",
    "    hidden_prev = hidden_prev.detach()#终止传播，共享内存\n",
    "    \n",
    "    loss = criterion(output, y)\n",
    "    model.zero_grad()#清除梯度\n",
    "    loss.backward()#误差反串，梯度计算\n",
    "    optimizer.step()#优化更新权值、偏置\n",
    "    \n",
    "    if iter % 100 == 0:\n",
    "        print('epoch:{}, loss:{}'.format(iter, loss.item()))"
   ]
  },
  {
   "cell_type": "code",
   "execution_count": 10,
   "id": "109a6467-6b55-4694-8ebd-95c487ae0421",
   "metadata": {},
   "outputs": [
    {
     "name": "stdout",
     "output_type": "stream",
     "text": [
      "torch.Size([1, 1])\n"
     ]
    }
   ],
   "source": [
    "prediction = []\n",
    "input = x[:, 0, :]\n",
    "print(input.shape)\n",
    "for _ in range(x.shape[1]):\n",
    "    input = input.view(1, 1, 1)\n",
    "    (pred, hidden_prev) = model(input, hidden_prev)\n",
    "    input = pred\n",
    "    prediction.append(pred.detach().numpy().ravel()[0])"
   ]
  },
  {
   "cell_type": "code",
   "execution_count": 11,
   "id": "d96c6897-7611-4b21-b118-0ab588b985a8",
   "metadata": {},
   "outputs": [
    {
     "data": {
      "text/plain": [
       "[0.9418645,\n",
       " 0.8793632,\n",
       " 0.86063874,\n",
       " 0.7906774,\n",
       " 0.69544023,\n",
       " 0.5630178,\n",
       " 0.41081086,\n",
       " 0.2339775,\n",
       " 0.040643193,\n",
       " -0.15414196,\n",
       " -0.34154776,\n",
       " -0.5124444,\n",
       " -0.65970105,\n",
       " -0.77880543,\n",
       " -0.86492383,\n",
       " -0.9128845,\n",
       " -0.9186183,\n",
       " -0.88083255,\n",
       " -0.80181146,\n",
       " -0.6866779,\n",
       " -0.5421467,\n",
       " -0.37550145,\n",
       " -0.1936478,\n",
       " -0.00242389,\n",
       " 0.19321641,\n",
       " 0.3877872,\n",
       " 0.5734798,\n",
       " 0.73972774,\n",
       " 0.8751546,\n",
       " 0.9709939,\n",
       " 1.0235065,\n",
       " 1.0337276,\n",
       " 1.0052508,\n",
       " 0.94186723,\n",
       " 0.8462425,\n",
       " 0.7198975,\n",
       " 0.5643588,\n",
       " 0.38309523,\n",
       " 0.18322334,\n",
       " -0.024567775,\n",
       " -0.22834891,\n",
       " -0.41782057,\n",
       " -0.58564234,\n",
       " -0.72679806,\n",
       " -0.83691144,\n",
       " -0.91098344,\n",
       " -0.94382614,\n",
       " -0.93206704,\n",
       " -0.8759735]"
      ]
     },
     "execution_count": 11,
     "metadata": {},
     "output_type": "execute_result"
    }
   ],
   "source": [
    "prediction"
   ]
  },
  {
   "cell_type": "markdown",
   "id": "4cf9d0f7-7fcc-4ef6-8c4a-7d137c61aae2",
   "metadata": {},
   "source": [
    "# 梯度爆炸的处理方法"
   ]
  },
  {
   "cell_type": "code",
   "execution_count": 14,
   "id": "2b37d91d-766e-4b6b-a6ce-109ecb09a321",
   "metadata": {},
   "outputs": [
    {
     "name": "stdout",
     "output_type": "stream",
     "text": [
      "MyRNN(\n",
      "  (rnn): RNN(1, 20, batch_first=True)\n",
      "  (linear): Linear(in_features=20, out_features=1, bias=True)\n",
      ")\n"
     ]
    }
   ],
   "source": [
    "print(model)"
   ]
  },
  {
   "cell_type": "code",
   "execution_count": 17,
   "id": "18da2355-9971-4ce8-8e2b-6ed1ad1a1f4e",
   "metadata": {},
   "outputs": [
    {
     "name": "stdout",
     "output_type": "stream",
     "text": [
      "tensor(0.0035)\n",
      "tensor(0.0336)\n",
      "tensor(0.0180)\n",
      "tensor(0.0180)\n",
      "tensor(0.0434)\n",
      "tensor(0.0242)\n"
     ]
    }
   ],
   "source": [
    "#梯度归零-》误差反传-》查看梯度-》控制梯度范围-》更新网络参数··················\n",
    "for p in model.parameters():\n",
    "    print(p.grad.norm())\n",
    "torch.nn.utils.clip_grad_norm_(p, 10)#限制梯度在10以内\n",
    "optimizer.step()#开始更新参数"
   ]
  },
  {
   "cell_type": "markdown",
   "id": "99cccc7f-f8b7-4b0d-8917-a77bc96a1a01",
   "metadata": {},
   "source": [
    "# LSTM神经网络"
   ]
  },
  {
   "cell_type": "code",
   "execution_count": 18,
   "id": "cba61459-5cfb-4c3b-9a55-a2d4c48b319f",
   "metadata": {},
   "outputs": [
    {
     "name": "stdout",
     "output_type": "stream",
     "text": [
      "LSTM(100, 20, num_layers=4)\n"
     ]
    },
    {
     "data": {
      "text/plain": [
       "(torch.Size([10, 3, 20]), torch.Size([4, 3, 20]), torch.Size([4, 3, 20]))"
      ]
     },
     "execution_count": 18,
     "metadata": {},
     "output_type": "execute_result"
    }
   ],
   "source": [
    "lstm = nn.LSTM(input_size = 100, hidden_size=20, num_layers=4)\n",
    "print(lstm)\n",
    "x = torch.randn(10, 3, 100)\n",
    "out, (h, c) = lstm(x)\n",
    "out.shape, h.shape, c.shape"
   ]
  },
  {
   "cell_type": "markdown",
   "id": "3211b248-7634-4443-9e85-1d1e6406bc8e",
   "metadata": {},
   "source": [
    "# LSTMCell"
   ]
  },
  {
   "cell_type": "code",
   "execution_count": 19,
   "id": "2007fee8-830d-4cb9-958b-9c06d9b3cd10",
   "metadata": {},
   "outputs": [
    {
     "name": "stdout",
     "output_type": "stream",
     "text": [
      "torch.Size([3, 20]) torch.Size([3, 20])\n"
     ]
    }
   ],
   "source": [
    "cell = nn.LSTMCell(input_size = 100, hidden_size = 20)\n",
    "h = torch.zeros(3, 20)\n",
    "c = torch.zeros(3, 20)\n",
    "for xt in x:\n",
    "    h, c = cell(xt, [h, c])\n",
    "print(h.shape, c.shape)\n"
   ]
  },
  {
   "cell_type": "markdown",
   "id": "2eedb2b6-bb51-45d0-b77e-a3e8caef5395",
   "metadata": {},
   "source": [
    "## 多层"
   ]
  },
  {
   "cell_type": "code",
   "execution_count": 20,
   "id": "78088923-0078-479e-9ec7-74d6f16ec271",
   "metadata": {},
   "outputs": [
    {
     "data": {
      "text/plain": [
       "(torch.Size([3, 20]), torch.Size([3, 20]))"
      ]
     },
     "execution_count": 20,
     "metadata": {},
     "output_type": "execute_result"
    }
   ],
   "source": [
    "cell1 = nn.LSTMCell(input_size=100, hidden_size=30)\n",
    "cell2 = nn.LSTMCell(input_size=30, hidden_size=20)\n",
    "h1 = torch.zeros(3, 30)\n",
    "c1 = torch.zeros(3, 30)\n",
    "h2 = torch.zeros(3, 20)\n",
    "c2 = torch.zeros(3, 20)\n",
    "for xt in x:\n",
    "    h1. c1 = cell1(xt, [h1, c1])\n",
    "    h2, c2 = cell2(h1, [h2, c2])\n",
    "h2.shape, c2.shape"
   ]
  },
  {
   "cell_type": "markdown",
   "id": "583a381b-19fa-4753-92ce-0f8910b3fe95",
   "metadata": {},
   "source": [
    "# embedding layer"
   ]
  },
  {
   "cell_type": "code",
   "execution_count": null,
   "id": "3d489169-26a0-4e54-84c3-7d62807a2393",
   "metadata": {},
   "outputs": [],
   "source": [
    "nn.Embedding(vacab_size, embedding_dim)#[多少个单词，每一个单词的维度]\n"
   ]
  }
 ],
 "metadata": {
  "kernelspec": {
   "display_name": "Python 3 (ipykernel)",
   "language": "python",
   "name": "python3"
  },
  "language_info": {
   "codemirror_mode": {
    "name": "ipython",
    "version": 3
   },
   "file_extension": ".py",
   "mimetype": "text/x-python",
   "name": "python",
   "nbconvert_exporter": "python",
   "pygments_lexer": "ipython3",
   "version": "3.9.7"
  },
  "toc-autonumbering": true
 },
 "nbformat": 4,
 "nbformat_minor": 5
}
