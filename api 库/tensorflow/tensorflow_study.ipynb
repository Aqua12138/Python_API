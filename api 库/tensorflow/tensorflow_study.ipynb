{
 "cells": [
  {
   "cell_type": "code",
   "execution_count": 1,
   "id": "92807741-f9fc-4f15-ba1b-dd9821e17540",
   "metadata": {},
   "outputs": [],
   "source": [
    "import tensorflow as tf\n",
    "import numpy as np"
   ]
  },
  {
   "cell_type": "markdown",
   "id": "7a037b0e-6b3e-43ef-9cbf-a91977fe2ae6",
   "metadata": {},
   "source": [
    "# 数据处理"
   ]
  },
  {
   "cell_type": "markdown",
   "id": "8c49b0ec-a26b-48d5-8e88-74a42e9aab21",
   "metadata": {},
   "source": [
    "## tf.constant() 类似于np.array(),数据转换为张量"
   ]
  },
  {
   "cell_type": "code",
   "execution_count": 2,
   "id": "1090cb86-95bc-4536-891d-2fd73cac8ba2",
   "metadata": {},
   "outputs": [
    {
     "data": {
      "text/plain": [
       "<tf.Tensor: shape=(), dtype=int32, numpy=1>"
      ]
     },
     "execution_count": 2,
     "metadata": {},
     "output_type": "execute_result"
    },
    {
     "name": "stderr",
     "output_type": "stream",
     "text": [
      "2021-11-02 10:27:00.030218: I tensorflow/compiler/jit/xla_cpu_device.cc:41] Not creating XLA devices, tf_xla_enable_xla_devices not set\n",
      "2021-11-02 10:27:00.032449: I tensorflow/core/platform/cpu_feature_guard.cc:142] This TensorFlow binary is optimized with oneAPI Deep Neural Network Library (oneDNN) to use the following CPU instructions in performance-critical operations:  SSE4.1 SSE4.2 AVX AVX2 FMA\n",
      "To enable them in other operations, rebuild TensorFlow with the appropriate compiler flags.\n",
      "2021-11-02 10:27:00.034795: I tensorflow/core/common_runtime/process_util.cc:146] Creating new thread pool with default inter op setting: 2. Tune using inter_op_parallelism_threads for best performance.\n"
     ]
    }
   ],
   "source": [
    "tf.constant(1)"
   ]
  },
  {
   "cell_type": "code",
   "execution_count": 3,
   "id": "aac97076-50f8-441e-a8bb-5cf92a15a83d",
   "metadata": {},
   "outputs": [
    {
     "data": {
      "text/plain": [
       "<tf.Tensor: shape=(), dtype=float32, numpy=1.0>"
      ]
     },
     "execution_count": 3,
     "metadata": {},
     "output_type": "execute_result"
    }
   ],
   "source": [
    "tf.constant(1.)"
   ]
  },
  {
   "cell_type": "code",
   "execution_count": 4,
   "id": "6508fe3b-7166-4c10-91cf-5c4ae46e2ed4",
   "metadata": {},
   "outputs": [],
   "source": [
    "#tf.constant(2.2,dtype=tf.int32)不能这样强制转换类型"
   ]
  },
  {
   "cell_type": "code",
   "execution_count": 5,
   "id": "a57027ae-c4cd-4316-81d8-d73bed84fd16",
   "metadata": {},
   "outputs": [
    {
     "data": {
      "text/plain": [
       "<tf.Tensor: shape=(), dtype=float64, numpy=2.0>"
      ]
     },
     "execution_count": 5,
     "metadata": {},
     "output_type": "execute_result"
    }
   ],
   "source": [
    "tf.constant(2.,dtype=tf.double)#浮点转换双精度是可以的"
   ]
  },
  {
   "cell_type": "code",
   "execution_count": 6,
   "id": "27be3ae5-04ff-41d1-9892-dcad6c12b8b5",
   "metadata": {},
   "outputs": [
    {
     "data": {
      "text/plain": [
       "<tf.Tensor: shape=(3,), dtype=int32, numpy=array([1, 2, 3], dtype=int32)>"
      ]
     },
     "execution_count": 6,
     "metadata": {},
     "output_type": "execute_result"
    }
   ],
   "source": [
    "tf.constant([1,2,3])#几个括号表示几个维度"
   ]
  },
  {
   "cell_type": "code",
   "execution_count": 7,
   "id": "0aeabe55-1b06-4d56-8a3e-14267fcdae69",
   "metadata": {},
   "outputs": [
    {
     "data": {
      "text/plain": [
       "<tf.Tensor: shape=(2, 3), dtype=bool, numpy=\n",
       "array([[ True, False,  True],\n",
       "       [False, False,  True]])>"
      ]
     },
     "execution_count": 7,
     "metadata": {},
     "output_type": "execute_result"
    }
   ],
   "source": [
    "tf.constant([[True,False,True],[False,False,True]])"
   ]
  },
  {
   "cell_type": "code",
   "execution_count": 8,
   "id": "a07c9dd6-e497-4075-a78b-64f82e6c239a",
   "metadata": {},
   "outputs": [
    {
     "data": {
      "text/plain": [
       "<tf.Tensor: shape=(), dtype=string, numpy=b'hello,world.'>"
      ]
     },
     "execution_count": 8,
     "metadata": {},
     "output_type": "execute_result"
    }
   ],
   "source": [
    "tf.constant('hello,world.')"
   ]
  },
  {
   "cell_type": "markdown",
   "id": "4675a44b-b50b-49a8-8cc9-a86083db9901",
   "metadata": {},
   "source": [
    "## tf.device() 返回张量使用的cpu或者gpu代号"
   ]
  },
  {
   "cell_type": "code",
   "execution_count": 9,
   "id": "0af69939-90c5-444b-99af-8fc42b2193c1",
   "metadata": {},
   "outputs": [
    {
     "data": {
      "text/plain": [
       "'/job:localhost/replica:0/task:0/device:CPU:0'"
      ]
     },
     "execution_count": 9,
     "metadata": {},
     "output_type": "execute_result"
    }
   ],
   "source": [
    "with tf.device(\"cpu\"):\n",
    "    a = tf.constant([1])\n",
    "a.device"
   ]
  },
  {
   "cell_type": "code",
   "execution_count": 10,
   "id": "2445121d-406d-43e4-8ca1-25487af3fad0",
   "metadata": {},
   "outputs": [
    {
     "data": {
      "text/plain": [
       "'/job:localhost/replica:0/task:0/device:CPU:0'"
      ]
     },
     "execution_count": 10,
     "metadata": {},
     "output_type": "execute_result"
    }
   ],
   "source": [
    "with tf.device(\"gpu\"):#无gpu就默认cpu\n",
    "    b = tf.constant([1])\n",
    "b.device"
   ]
  },
  {
   "cell_type": "markdown",
   "id": "d631c702-8166-4192-84de-1bd73e13c7fb",
   "metadata": {},
   "source": [
    "## tf.gpu() tf.cpu() 转移gpu或者cpu"
   ]
  },
  {
   "cell_type": "code",
   "execution_count": 11,
   "id": "828eb9dc-a9df-430d-a211-22c6f10912a6",
   "metadata": {},
   "outputs": [
    {
     "name": "stdout",
     "output_type": "stream",
     "text": [
      "WARNING:tensorflow:From /tmp/ipykernel_5876/3866788320.py:1: _EagerTensorBase.cpu (from tensorflow.python.framework.ops) is deprecated and will be removed in a future version.\n",
      "Instructions for updating:\n",
      "Use tf.identity instead.\n",
      "/job:localhost/replica:0/task:0/device:CPU:0\n"
     ]
    }
   ],
   "source": [
    "c=b.cpu()\n",
    "#d=a.gpu()#暂时没有gpu\n",
    "print(c.device)"
   ]
  },
  {
   "cell_type": "markdown",
   "id": "9dbcdb2f-7e76-4f50-9662-6c84c24113b6",
   "metadata": {},
   "source": [
    "## tf.numpy()  用于tensor到array的转换"
   ]
  },
  {
   "cell_type": "code",
   "execution_count": 12,
   "id": "8003a23f-fc55-4eb9-a6c5-1e391c02e124",
   "metadata": {},
   "outputs": [
    {
     "data": {
      "text/plain": [
       "array([1], dtype=int32)"
      ]
     },
     "execution_count": 12,
     "metadata": {},
     "output_type": "execute_result"
    }
   ],
   "source": [
    "b.numpy()"
   ]
  },
  {
   "cell_type": "markdown",
   "id": "c04a9aaa-9b17-40e2-9be5-2ff85e083826",
   "metadata": {},
   "source": [
    "## tf.ndim用于返回tensor的维度"
   ]
  },
  {
   "cell_type": "code",
   "execution_count": 13,
   "id": "d3a19cc9-0b52-475d-ba2a-9ed046d78d10",
   "metadata": {},
   "outputs": [
    {
     "data": {
      "text/plain": [
       "1"
      ]
     },
     "execution_count": 13,
     "metadata": {},
     "output_type": "execute_result"
    }
   ],
   "source": [
    "b.ndim"
   ]
  },
  {
   "cell_type": "markdown",
   "id": "9d1f6f79-acb4-49e6-8c57-5bd084725d4d",
   "metadata": {},
   "source": [
    "## tf.rank()以tensor形式返回tensor维度"
   ]
  },
  {
   "cell_type": "code",
   "execution_count": null,
   "id": "f9edb3c6-ea48-4fd6-abd5-a6c9b6177aca",
   "metadata": {},
   "outputs": [],
   "source": [
    "tf.rank(b)"
   ]
  },
  {
   "cell_type": "markdown",
   "id": "d32d5ec3-f39c-4577-808b-b9bd63882be4",
   "metadata": {},
   "source": [
    "## tf.shape 返回tensor形状"
   ]
  },
  {
   "cell_type": "code",
   "execution_count": null,
   "id": "c998f5e6-c50e-418e-a4f5-a5e078442f35",
   "metadata": {},
   "outputs": [],
   "source": [
    "b.shape"
   ]
  },
  {
   "cell_type": "markdown",
   "id": "a89d34f5-c610-4493-8577-7d9d99df89bf",
   "metadata": {},
   "source": [
    "## tf.is_tensor()判断数据是否是tensor"
   ]
  },
  {
   "cell_type": "code",
   "execution_count": null,
   "id": "720e01bd-da06-48d2-bf05-7d5bb7cfbd60",
   "metadata": {},
   "outputs": [],
   "source": [
    "tf.is_tensor(b)"
   ]
  },
  {
   "cell_type": "markdown",
   "id": "27ae7365-a03f-47be-a5ba-95594049cccd",
   "metadata": {},
   "source": [
    "## tf.dtype() 获得tensor的数据类型"
   ]
  },
  {
   "cell_type": "code",
   "execution_count": null,
   "id": "462941d3-1bd4-4851-aef3-249984908e4f",
   "metadata": {},
   "outputs": [],
   "source": [
    "a.dtype==tf.int32"
   ]
  },
  {
   "cell_type": "markdown",
   "id": "4439c59f-2e71-4d5c-8919-e7beb20cd65e",
   "metadata": {},
   "source": [
    "## tf.convert_to_tensor() 用于array到tensor的转换"
   ]
  },
  {
   "cell_type": "code",
   "execution_count": null,
   "id": "2d1e007b-9611-44fc-91a1-8609917531c2",
   "metadata": {},
   "outputs": [],
   "source": [
    "a = np.arange(5)\n",
    "a"
   ]
  },
  {
   "cell_type": "code",
   "execution_count": null,
   "id": "1884a673-ba0a-417f-bed9-39c9ad552608",
   "metadata": {},
   "outputs": [],
   "source": [
    "a.dtype"
   ]
  },
  {
   "cell_type": "code",
   "execution_count": null,
   "id": "561767ec-f789-4fc2-a1df-e42e7977080a",
   "metadata": {},
   "outputs": [],
   "source": [
    "aa = tf.convert_to_tensor(a)"
   ]
  },
  {
   "cell_type": "code",
   "execution_count": null,
   "id": "f30f35ea-3b5e-414b-a6b3-d726a0968e8e",
   "metadata": {},
   "outputs": [],
   "source": [
    "aa = tf.convert_to_tensor(a,dtype=tf.int32)"
   ]
  },
  {
   "cell_type": "markdown",
   "id": "a6fb06c0-6ab6-470f-9665-9d2b582a33c9",
   "metadata": {},
   "source": [
    "## tf.cast() 用于数据转换"
   ]
  },
  {
   "cell_type": "code",
   "execution_count": null,
   "id": "bf10b35b-8b1b-48c3-a0c3-e32cf94e143e",
   "metadata": {},
   "outputs": [],
   "source": [
    "tf.cast(aa,dtype=tf.bool)"
   ]
  },
  {
   "cell_type": "code",
   "execution_count": null,
   "id": "5af6332f-603a-40d2-a6e3-87c6bebe299d",
   "metadata": {},
   "outputs": [],
   "source": [
    "tf.cast(aa,dtype=tf.float32)"
   ]
  },
  {
   "cell_type": "markdown",
   "id": "30a6446a-c6e9-4ab1-9b64-379943064350",
   "metadata": {},
   "source": [
    "## tf.Variable() 表示可训练的tensor，例如w和b"
   ]
  },
  {
   "cell_type": "code",
   "execution_count": null,
   "id": "70028df0-fc99-40b7-8a59-1b53c4904c56",
   "metadata": {},
   "outputs": [],
   "source": [
    "b = tf.Variable(a)"
   ]
  },
  {
   "cell_type": "code",
   "execution_count": null,
   "id": "e01e8ac0-3771-4e82-9966-00172ff984c1",
   "metadata": {},
   "outputs": [],
   "source": [
    "b.trainable#表示反向传播过程会对trainable进行求导"
   ]
  },
  {
   "cell_type": "markdown",
   "id": "eac74776-3993-4a36-8d40-17e3c1cc35ba",
   "metadata": {},
   "source": [
    "## tf.zeros() 生成相应形状的全0的tensor"
   ]
  },
  {
   "cell_type": "code",
   "execution_count": null,
   "id": "caf9db56-b41f-40e6-b4d9-9b6a0c14342b",
   "metadata": {},
   "outputs": [],
   "source": [
    "tf.zeros([])"
   ]
  },
  {
   "cell_type": "code",
   "execution_count": null,
   "id": "6521702b-478a-4232-b1f4-5754d2409e44",
   "metadata": {},
   "outputs": [],
   "source": [
    "tf.zeros([1,2])"
   ]
  },
  {
   "cell_type": "markdown",
   "id": "6c4ffdae-b003-4de6-a9cf-390b596936da",
   "metadata": {},
   "source": [
    "## tf.zeros_like() 生成一个与某个tensor形状一样的tensor"
   ]
  },
  {
   "cell_type": "code",
   "execution_count": null,
   "id": "8a3c1877-5ec3-4937-abf5-470880b23e85",
   "metadata": {},
   "outputs": [],
   "source": [
    "tf.zeros_like(a)"
   ]
  },
  {
   "cell_type": "markdown",
   "id": "cb8f793d-9798-4823-b742-a7b5147da9a8",
   "metadata": {},
   "source": [
    "## tf.ones（）生成相应形状的全1的tesnor"
   ]
  },
  {
   "cell_type": "code",
   "execution_count": null,
   "id": "364330a8-f670-4baf-92ac-53372b2ca418",
   "metadata": {},
   "outputs": [],
   "source": [
    "tf.ones([])"
   ]
  },
  {
   "cell_type": "code",
   "execution_count": null,
   "id": "7679f6cf-fb2f-4682-a51c-5ca90797e55b",
   "metadata": {},
   "outputs": [],
   "source": [
    "tf.ones([1,2])"
   ]
  },
  {
   "cell_type": "markdown",
   "id": "cb2e4d77-93f4-4d3e-acc4-152f45a103ba",
   "metadata": {},
   "source": [
    "## tf.ones_like() 生成一个全为1与某个tensor形状一样的tensor"
   ]
  },
  {
   "cell_type": "code",
   "execution_count": null,
   "id": "e333ed18-195f-44e6-8e2f-5af3032d2080",
   "metadata": {},
   "outputs": [],
   "source": [
    "tf.ones_like(a)"
   ]
  },
  {
   "cell_type": "markdown",
   "id": "1362e003-4a8c-4a5d-926b-1deebcdff80c",
   "metadata": {},
   "source": [
    "## tf.fill 用指定元素填充相应形状的tensor"
   ]
  },
  {
   "cell_type": "code",
   "execution_count": null,
   "id": "cf8150c1-5f72-454c-9b35-be9a98c4fe89",
   "metadata": {},
   "outputs": [],
   "source": [
    "tf.fill([1,2],2)"
   ]
  },
  {
   "cell_type": "markdown",
   "id": "52a0965c-353a-4c37-bcf3-a0191aa13b7c",
   "metadata": {},
   "source": [
    "## tf.random.normal() 正态随机分布tensor"
   ]
  },
  {
   "cell_type": "code",
   "execution_count": null,
   "id": "7c727c18-5eb2-40b9-b81d-bc90544fb26b",
   "metadata": {},
   "outputs": [],
   "source": [
    "tf.random.normal([2,2],mean=1,stddev=1)"
   ]
  },
  {
   "cell_type": "markdown",
   "id": "c7517740-0e9f-4c18-96df-23f11ea60208",
   "metadata": {},
   "source": [
    "## m.truncated_normal 添加sigmod函数的正态分布"
   ]
  },
  {
   "cell_type": "code",
   "execution_count": null,
   "id": "8ae6ae3e-7d38-4b78-943d-7a676be46d5f",
   "metadata": {},
   "outputs": [],
   "source": [
    "tf.random.truncated_normal([2,2],mean=0,stddev=1)"
   ]
  },
  {
   "cell_type": "markdown",
   "id": "48d790e6-3e20-4d1f-b59e-39501cf60853",
   "metadata": {},
   "source": [
    "## tf.random.uniform()均匀分布随机"
   ]
  },
  {
   "cell_type": "code",
   "execution_count": null,
   "id": "69084e8e-fdbf-4c4b-87e6-6d01a549610d",
   "metadata": {},
   "outputs": [],
   "source": [
    "tf.random.uniform([2,2],minval=0,maxval=1)"
   ]
  },
  {
   "cell_type": "markdown",
   "id": "15cca578-8427-489f-b1c5-fea60f51958a",
   "metadata": {},
   "source": [
    "## 随机打散目标值和label"
   ]
  },
  {
   "cell_type": "code",
   "execution_count": null,
   "id": "58dfbd75-4cd9-452e-ada0-0ed675a1895b",
   "metadata": {},
   "outputs": [],
   "source": [
    "idx=tf.range(10)"
   ]
  },
  {
   "cell_type": "code",
   "execution_count": null,
   "id": "56cd8586-4514-48ed-8613-e8993bc50c32",
   "metadata": {},
   "outputs": [],
   "source": [
    "idx=tf.random.shuffle(idx)#使用shuffle来随机打散数据\n",
    "idx"
   ]
  },
  {
   "cell_type": "code",
   "execution_count": null,
   "id": "01f72117-e02f-4ecf-b499-3a9a472d98b8",
   "metadata": {},
   "outputs": [],
   "source": [
    "a=tf.random.normal([10,784])#训练数据"
   ]
  },
  {
   "cell_type": "code",
   "execution_count": null,
   "id": "9b9d8cfd-7594-4f02-9637-0bd63de153bf",
   "metadata": {},
   "outputs": [],
   "source": [
    "b=tf.random.uniform([10],maxval=10,minval=0,dtype=tf.int32)#训练标签\n",
    "b"
   ]
  },
  {
   "cell_type": "code",
   "execution_count": null,
   "id": "97f79a0b-0b77-4c28-b7ae-f6b64ed46558",
   "metadata": {},
   "outputs": [],
   "source": [
    "a = tf.gather(a,idx)#按照对应的索引打乱数据"
   ]
  },
  {
   "cell_type": "code",
   "execution_count": null,
   "id": "2869fd0d-3cb6-4db6-88a8-9f1987aff453",
   "metadata": {},
   "outputs": [],
   "source": [
    "b = tf.gather(b,idx)#按照对应的索引打乱标签"
   ]
  },
  {
   "cell_type": "markdown",
   "id": "733546f9-0663-4de3-8a95-1e274dfe766a",
   "metadata": {},
   "source": [
    "## loss tenor中的标量"
   ]
  },
  {
   "cell_type": "code",
   "execution_count": null,
   "id": "50bdd853-fb08-4319-a781-ae98cab33e0a",
   "metadata": {},
   "outputs": [],
   "source": [
    "x = tf.random.uniform([4,10])#4个样本，10个特征\n",
    "x"
   ]
  },
  {
   "cell_type": "code",
   "execution_count": null,
   "id": "018a4b0d-f183-41c9-8704-acfe1f856e26",
   "metadata": {},
   "outputs": [],
   "source": [
    "y = tf.range(4)#每个样本对应的标签\n",
    "print(y)\n",
    "y = tf.one_hot(y,depth=10)#将对应位置的索引变为1，其他为0 one_hot编码\n",
    "y"
   ]
  },
  {
   "cell_type": "code",
   "execution_count": null,
   "id": "268c8e5b-6939-4e04-8942-8bfbf3ab4c0d",
   "metadata": {},
   "outputs": [],
   "source": [
    "loss=tf.keras.losses.mse(y,x)#计算每一个样本的均方差\n",
    "loss"
   ]
  },
  {
   "cell_type": "code",
   "execution_count": null,
   "id": "c680602f-16e8-43b4-8f63-599ff7940483",
   "metadata": {},
   "outputs": [],
   "source": [
    "loss=tf.reduce_mean(loss)#计算均方差的平均值\n",
    "loss"
   ]
  },
  {
   "cell_type": "markdown",
   "id": "f926b7f0-2cbd-48f7-aa60-97379d8fed86",
   "metadata": {},
   "source": [
    "## Vector tenor中的向量"
   ]
  },
  {
   "cell_type": "code",
   "execution_count": null,
   "id": "3dc5280c-346d-4c0e-98d9-d09a6b78bb93",
   "metadata": {},
   "outputs": [],
   "source": [
    "net = tf.keras.layers.Dense(10)\n",
    "net.build((4,8))#第一个参数是样本数目，第二个数表示前一层神经网络节点数目"
   ]
  },
  {
   "cell_type": "code",
   "execution_count": null,
   "id": "1c915a03-7fd0-4847-adff-d8f9a7862b7c",
   "metadata": {},
   "outputs": [],
   "source": [
    "net.kernel#现实权值"
   ]
  },
  {
   "cell_type": "code",
   "execution_count": null,
   "id": "5b50959c-4faa-466e-95c7-0ab0b5aed481",
   "metadata": {},
   "outputs": [],
   "source": [
    "net.bias"
   ]
  },
  {
   "cell_type": "markdown",
   "id": "bba82628-e125-4da1-a000-44be33a673dc",
   "metadata": {},
   "source": [
    "## Matrix tensor中的矩阵（2维向量）"
   ]
  },
  {
   "cell_type": "code",
   "execution_count": null,
   "id": "add206fd-80e3-4cb9-9c76-d922dea1b6ab",
   "metadata": {},
   "outputs": [],
   "source": [
    "x = tf.random.normal([4,784])"
   ]
  },
  {
   "cell_type": "code",
   "execution_count": null,
   "id": "7c45ceb3-8e93-4c4b-8a7a-af898cc2e300",
   "metadata": {},
   "outputs": [],
   "source": [
    "net = tf.keras.layers.Dense(10)\n",
    "net.build((4,784))#建立权值"
   ]
  },
  {
   "cell_type": "code",
   "execution_count": null,
   "id": "5a689358-0c31-49ce-b3f8-f707625c80a5",
   "metadata": {},
   "outputs": [],
   "source": [
    "net(x).shape"
   ]
  },
  {
   "cell_type": "code",
   "execution_count": null,
   "id": "71f51cf3-eb31-4700-97dd-7d507ab0efef",
   "metadata": {},
   "outputs": [],
   "source": [
    "net.kernel.shape"
   ]
  },
  {
   "cell_type": "code",
   "execution_count": null,
   "id": "08f1ec69-ddfc-492a-bcc6-a84481fa9326",
   "metadata": {},
   "outputs": [],
   "source": [
    "net.bias.shape#网络本身的长度"
   ]
  },
  {
   "cell_type": "markdown",
   "id": "b1f99f5b-3e4c-4b26-98d3-cc6bfbd5cb44",
   "metadata": {},
   "source": [
    "# 索引"
   ]
  },
  {
   "cell_type": "markdown",
   "id": "8b097cbc-7c42-43ac-9b94-3b1abf7acfa9",
   "metadata": {},
   "source": [
    "## 普通索引"
   ]
  },
  {
   "cell_type": "code",
   "execution_count": null,
   "id": "a7473757-4280-4d2b-acb3-a7f25e0b33b6",
   "metadata": {},
   "outputs": [],
   "source": [
    "a = tf.random.uniform([3,4,5])#3维，4行，5列\n",
    "a"
   ]
  },
  {
   "cell_type": "code",
   "execution_count": null,
   "id": "f45e42fc-06e9-4e4a-a512-76a27b57ad9b",
   "metadata": {},
   "outputs": [],
   "source": [
    "a.shape"
   ]
  },
  {
   "cell_type": "code",
   "execution_count": null,
   "id": "620d7471-702d-49e2-acd4-e439b821e23c",
   "metadata": {},
   "outputs": [],
   "source": [
    "a[:,0,0]#取每一维的第0行的第0列"
   ]
  },
  {
   "cell_type": "code",
   "execution_count": null,
   "id": "d1257bf4-a68f-44c1-9cce-a46d395b5918",
   "metadata": {},
   "outputs": [],
   "source": [
    "a[:][:][0]#不推荐这种方法"
   ]
  },
  {
   "cell_type": "code",
   "execution_count": null,
   "id": "df39a9a3-d3d2-49dc-b9f9-1102d0eb2d4d",
   "metadata": {},
   "outputs": [],
   "source": [
    "a[:,0,0:-1:2]#每一维的第一行再从第1列到倒数第一列各一列取一个。 A：B：step"
   ]
  },
  {
   "cell_type": "code",
   "execution_count": null,
   "id": "669b5e34-6b63-4af6-b7a4-d8ee478063b9",
   "metadata": {},
   "outputs": [],
   "source": [
    "a[::-1,:,0]#倒序取每一个纬度的第一列"
   ]
  },
  {
   "cell_type": "code",
   "execution_count": null,
   "id": "3cf9c328-a02e-4af4-84d0-4f9f04f98271",
   "metadata": {},
   "outputs": [],
   "source": [
    "a[0,...]#...表示中间的若干维度全取"
   ]
  },
  {
   "cell_type": "markdown",
   "id": "a3e49988-80de-4a78-b54c-c85dc48c328b",
   "metadata": {},
   "source": [
    "## tf.gather() 按照给定维度给定索引进行切片"
   ]
  },
  {
   "cell_type": "code",
   "execution_count": null,
   "id": "4fd95b6a-dc76-43d2-885d-ae5ee6b3ebce",
   "metadata": {},
   "outputs": [],
   "source": [
    "tf.gather(a,axis=0,indices=[0,2])#表示按照第0个维度，取第0和第2个索引。默认第0个维度"
   ]
  },
  {
   "cell_type": "code",
   "execution_count": null,
   "id": "d44f9287-e66c-48fe-9838-44eab654513e",
   "metadata": {},
   "outputs": [],
   "source": [
    "tf.gather(a,axis=1,indices=[2,1,3])#取2，1，3行"
   ]
  },
  {
   "cell_type": "markdown",
   "id": "f906b7ae-bbf2-4638-ba43-1dbbbecced77",
   "metadata": {},
   "source": [
    "## tf.gather_nd() 同时用多个维度来索引"
   ]
  },
  {
   "cell_type": "code",
   "execution_count": null,
   "id": "56120b28-f2b3-474d-b0fb-334151a1cc68",
   "metadata": {},
   "outputs": [],
   "source": [
    "tf.gather_nd(a,[[0,0,0],[1,1,1]])#采了第0维度0行0列以及1维度1行1列"
   ]
  },
  {
   "cell_type": "code",
   "execution_count": null,
   "id": "5391eab7-8a8e-4f85-b0bd-848ceabaa823",
   "metadata": {},
   "outputs": [],
   "source": [
    "#tf.gather_nd(a,[[0,1,:],[1,2,:]])#不可以这样，gather必须给出索引"
   ]
  },
  {
   "cell_type": "code",
   "execution_count": null,
   "id": "30f4b2e3-220e-41c1-a9e2-38bf7182bbdd",
   "metadata": {},
   "outputs": [],
   "source": [
    "tf.gather_nd(a,[[0,1],[1,2]])#全部取值省略写"
   ]
  },
  {
   "cell_type": "markdown",
   "id": "f0e4dfbe-2973-4b28-8b7c-7825a63f6459",
   "metadata": {},
   "source": [
    "## tf.boolean_mask()按照bool来返回tensor"
   ]
  },
  {
   "cell_type": "code",
   "execution_count": null,
   "id": "d7517d6b-4c3e-4f65-8cb3-5d439f326fae",
   "metadata": {},
   "outputs": [],
   "source": [
    "a.shape"
   ]
  },
  {
   "cell_type": "code",
   "execution_count": null,
   "id": "fa41231e-0fc0-4b6b-97e5-8ba2b23a626f",
   "metadata": {},
   "outputs": [],
   "source": [
    "tf.boolean_mask(a,mask=[True,True,False])#默认维度是第0维，按照bool来返回"
   ]
  },
  {
   "cell_type": "code",
   "execution_count": null,
   "id": "05cc2ea8-13b3-4969-9153-9d15d3263ad7",
   "metadata": {},
   "outputs": [],
   "source": [
    "tf.boolean_mask(a,mask=[True,False,True,False],axis=1)#第一维度"
   ]
  },
  {
   "cell_type": "code",
   "execution_count": null,
   "id": "94f07fbe-d32a-41fd-8610-52c83a1752e7",
   "metadata": {},
   "outputs": [],
   "source": [
    "tf.boolean_mask(a,mask=[[True,False,True,False],[True,False,True,False],[True,False,True,False]])#mask是一个(3,4)的bool list所以对应tensor形状（3，4，5）有取每一个（3，4）下的5个元素"
   ]
  },
  {
   "cell_type": "markdown",
   "id": "b2881e17-674a-4fcb-b9c2-afc166215eb8",
   "metadata": {},
   "source": [
    "## tf.where() 判断返回a,b 多参数"
   ]
  },
  {
   "cell_type": "code",
   "execution_count": null,
   "id": "7d50a697-89ab-4163-95ce-033b27a077d0",
   "metadata": {},
   "outputs": [],
   "source": [
    "a = np.array([1,2,3])\n",
    "b = np.array([4,5,6])"
   ]
  },
  {
   "cell_type": "code",
   "execution_count": null,
   "id": "2de6bf38-8d7b-4e56-8746-dc515ed2c579",
   "metadata": {},
   "outputs": [],
   "source": [
    "a = tf.constant(a)\n",
    "b = tf.constant(b)"
   ]
  },
  {
   "cell_type": "code",
   "execution_count": null,
   "id": "3e72e2a0-5c78-4b4f-a945-0b3ec3348230",
   "metadata": {},
   "outputs": [],
   "source": [
    "condition = tf.constant([True,False,True])"
   ]
  },
  {
   "cell_type": "code",
   "execution_count": null,
   "id": "a0a008e0-ff3e-415f-8c4c-bf5f708e8d48",
   "metadata": {},
   "outputs": [],
   "source": [
    "tf.where(condition,a,b)"
   ]
  },
  {
   "cell_type": "markdown",
   "id": "42fae4cb-a02e-4015-bad5-9e2a1c899fe0",
   "metadata": {},
   "source": [
    "# 维度处理"
   ]
  },
  {
   "cell_type": "markdown",
   "id": "a0db4157-5888-4f5b-8481-66054e87d48c",
   "metadata": {},
   "source": [
    "## tf.reshape() 用于改变view"
   ]
  },
  {
   "cell_type": "code",
   "execution_count": 74,
   "id": "ab8a08ea-bdc8-48d4-9a74-8ce473628129",
   "metadata": {},
   "outputs": [],
   "source": [
    "image = tf.random.normal([4,28,28,3])"
   ]
  },
  {
   "cell_type": "code",
   "execution_count": 75,
   "id": "afc3da57-3ba8-47e3-8dc3-768790dc76d1",
   "metadata": {},
   "outputs": [],
   "source": [
    "image_view2 = tf.reshape(image,[4,784,3])"
   ]
  },
  {
   "cell_type": "markdown",
   "id": "6977a66f-29ab-47fb-bc49-8de742e9032f",
   "metadata": {},
   "source": [
    "## tf.transpose() 改变content"
   ]
  },
  {
   "cell_type": "code",
   "execution_count": 76,
   "id": "64bc2803-deed-46c1-954f-b76937105d29",
   "metadata": {},
   "outputs": [],
   "source": [
    "#例如说一个图片的4维度代表[b,h,w,c]我们通过transpose可以改变数据维度的顺序\n",
    "a = tf.random.normal((4,3,2,1))"
   ]
  },
  {
   "cell_type": "code",
   "execution_count": 77,
   "id": "3205f259-ff01-4454-8e92-58d287ad0bab",
   "metadata": {},
   "outputs": [
    {
     "data": {
      "text/plain": [
       "TensorShape([4, 3, 2, 1])"
      ]
     },
     "execution_count": 77,
     "metadata": {},
     "output_type": "execute_result"
    }
   ],
   "source": [
    "a.shape"
   ]
  },
  {
   "cell_type": "code",
   "execution_count": 78,
   "id": "f72e4c66-4984-4b25-9b4a-78e0b083a50c",
   "metadata": {},
   "outputs": [
    {
     "data": {
      "text/plain": [
       "TensorShape([1, 2, 3, 4])"
      ]
     },
     "execution_count": 78,
     "metadata": {},
     "output_type": "execute_result"
    }
   ],
   "source": [
    "tf.transpose(a).shape"
   ]
  },
  {
   "cell_type": "code",
   "execution_count": 79,
   "id": "32351d94-c5f9-41ea-beaa-49c9a91176cd",
   "metadata": {},
   "outputs": [
    {
     "data": {
      "text/plain": [
       "TensorShape([4, 2, 1, 3])"
      ]
     },
     "execution_count": 79,
     "metadata": {},
     "output_type": "execute_result"
    }
   ],
   "source": [
    "tf.transpose(a,perm=[0,2,3,1]).shape#以相应的下标顺序改变维度"
   ]
  },
  {
   "cell_type": "markdown",
   "id": "a0b50ed3-f398-4f57-b289-5b9daeb53fd8",
   "metadata": {},
   "source": [
    "## tf.expend_dims()增加维度"
   ]
  },
  {
   "cell_type": "code",
   "execution_count": 80,
   "id": "577b58b7-4130-4cab-8e40-85960689a7b7",
   "metadata": {},
   "outputs": [
    {
     "data": {
      "text/plain": [
       "TensorShape([1, 4, 35, 8])"
      ]
     },
     "execution_count": 80,
     "metadata": {},
     "output_type": "execute_result"
    }
   ],
   "source": [
    "a = tf.random.normal([4,35,8])\n",
    "tf.expand_dims(a,axis=0).shape"
   ]
  },
  {
   "cell_type": "code",
   "execution_count": 81,
   "id": "4cefdcb5-66df-4bc6-b236-0d0a13d19325",
   "metadata": {},
   "outputs": [
    {
     "data": {
      "text/plain": [
       "TensorShape([4, 1, 35, 8])"
      ]
     },
     "execution_count": 81,
     "metadata": {},
     "output_type": "execute_result"
    }
   ],
   "source": [
    "tf.expand_dims(a,axis=1).shape"
   ]
  },
  {
   "cell_type": "code",
   "execution_count": 82,
   "id": "ca7c96a2-783e-4019-8671-868825ba09aa",
   "metadata": {},
   "outputs": [
    {
     "data": {
      "text/plain": [
       "TensorShape([4, 35, 1, 8])"
      ]
     },
     "execution_count": 82,
     "metadata": {},
     "output_type": "execute_result"
    }
   ],
   "source": [
    "tf.expand_dims(a,axis=2).shape"
   ]
  },
  {
   "cell_type": "code",
   "execution_count": 83,
   "id": "fc80d3e7-70ae-410a-b62c-d671613d3013",
   "metadata": {},
   "outputs": [
    {
     "data": {
      "text/plain": [
       "TensorShape([4, 35, 8, 1])"
      ]
     },
     "execution_count": 83,
     "metadata": {},
     "output_type": "execute_result"
    }
   ],
   "source": [
    "tf.expand_dims(a,axis=3).shape"
   ]
  },
  {
   "cell_type": "code",
   "execution_count": 84,
   "id": "fd303ae5-54e6-4ccf-890e-dbb2d52e69c0",
   "metadata": {},
   "outputs": [
    {
     "data": {
      "text/plain": [
       "TensorShape([4, 35, 1, 8])"
      ]
     },
     "execution_count": 84,
     "metadata": {},
     "output_type": "execute_result"
    }
   ],
   "source": [
    "tf.expand_dims(a,axis=-2).shape"
   ]
  },
  {
   "cell_type": "markdown",
   "id": "a4e36b43-f11d-4009-993b-2130996b7f0a",
   "metadata": {},
   "source": [
    "## tf.squeeze()减少维度为1的维度"
   ]
  },
  {
   "cell_type": "code",
   "execution_count": 85,
   "id": "86c8ea8d-ea41-4197-9d98-131478e896bd",
   "metadata": {},
   "outputs": [
    {
     "data": {
      "text/plain": [
       "TensorShape([2, 3])"
      ]
     },
     "execution_count": 85,
     "metadata": {},
     "output_type": "execute_result"
    }
   ],
   "source": [
    "tf.squeeze(tf.zeros([1,2,1,1,3])).shape"
   ]
  },
  {
   "cell_type": "code",
   "execution_count": 86,
   "id": "0050b2bb-c41a-4b09-a557-5dc036c65c0b",
   "metadata": {},
   "outputs": [],
   "source": [
    "a = tf.zeros([1,2,1,3])"
   ]
  },
  {
   "cell_type": "code",
   "execution_count": 87,
   "id": "2f5f25d5-e551-4905-8231-d2d18f18df94",
   "metadata": {},
   "outputs": [
    {
     "data": {
      "text/plain": [
       "TensorShape([2, 1, 3])"
      ]
     },
     "execution_count": 87,
     "metadata": {},
     "output_type": "execute_result"
    }
   ],
   "source": [
    "tf.squeeze(a,axis=0).shape#减少固定索引维数"
   ]
  },
  {
   "cell_type": "markdown",
   "id": "db02e218-1e4f-4cb5-b964-0cb41158b177",
   "metadata": {},
   "source": [
    "## tf.broacast_to() 自动扩张维度 由小维度开始扩张，无维度变1，1维度扩张为相同维度，其他情况不可以，可以优化空间"
   ]
  },
  {
   "cell_type": "code",
   "execution_count": 88,
   "id": "29a152f6-c700-4e43-83c9-64c39531e855",
   "metadata": {},
   "outputs": [],
   "source": [
    "x = tf.random.normal([4,32,32,3])"
   ]
  },
  {
   "cell_type": "code",
   "execution_count": 89,
   "id": "962fb87a-e21c-41b0-af59-62169989ebc9",
   "metadata": {},
   "outputs": [
    {
     "data": {
      "text/plain": [
       "TensorShape([4, 32, 32, 3])"
      ]
     },
     "execution_count": 89,
     "metadata": {},
     "output_type": "execute_result"
    }
   ],
   "source": [
    "(x+tf.random.normal([3])).shape#自动调用broacast_to扩张维度"
   ]
  },
  {
   "cell_type": "code",
   "execution_count": 90,
   "id": "15858c8f-cb52-40ae-994b-6a178474e112",
   "metadata": {},
   "outputs": [
    {
     "data": {
      "text/plain": [
       "TensorShape([4, 32, 32, 3])"
      ]
     },
     "execution_count": 90,
     "metadata": {},
     "output_type": "execute_result"
    }
   ],
   "source": [
    "b=tf.broadcast_to(tf.random.normal([4,1,1,1]),[4,32,32,3])#给定类型显示的转换数据维度\n",
    "b.shape"
   ]
  },
  {
   "cell_type": "markdown",
   "id": "721f6938-abe2-42ee-80d4-14200204fb53",
   "metadata": {},
   "source": [
    "# tensor数学运算"
   ]
  },
  {
   "cell_type": "code",
   "execution_count": 91,
   "id": "b7163a16-e97e-453d-bb2b-479e56b2ca97",
   "metadata": {},
   "outputs": [],
   "source": [
    "a = tf.fill([2,2],2.)\n",
    "b = tf.ones([2,2])"
   ]
  },
  {
   "cell_type": "markdown",
   "id": "bf99a580-e275-4e1d-8fdb-4588d21a739e",
   "metadata": {},
   "source": [
    "## 对应元素计算（不是矩阵的*/哦）"
   ]
  },
  {
   "cell_type": "code",
   "execution_count": 92,
   "id": "ffa75615-6996-45c3-a013-19a74a688e2d",
   "metadata": {},
   "outputs": [
    {
     "data": {
      "text/plain": [
       "(<tf.Tensor: shape=(2, 2), dtype=float32, numpy=\n",
       " array([[3., 3.],\n",
       "        [3., 3.]], dtype=float32)>,\n",
       " <tf.Tensor: shape=(2, 2), dtype=float32, numpy=\n",
       " array([[1., 1.],\n",
       "        [1., 1.]], dtype=float32)>,\n",
       " <tf.Tensor: shape=(2, 2), dtype=float32, numpy=\n",
       " array([[2., 2.],\n",
       "        [2., 2.]], dtype=float32)>,\n",
       " <tf.Tensor: shape=(2, 2), dtype=float32, numpy=\n",
       " array([[2., 2.],\n",
       "        [2., 2.]], dtype=float32)>)"
      ]
     },
     "execution_count": 92,
     "metadata": {},
     "output_type": "execute_result"
    }
   ],
   "source": [
    "a+b,a-b,a*b,a/b"
   ]
  },
  {
   "cell_type": "code",
   "execution_count": 93,
   "id": "5f5ef4be-2cd8-4571-bdc6-cc419903c450",
   "metadata": {},
   "outputs": [
    {
     "data": {
      "text/plain": [
       "(<tf.Tensor: shape=(2, 2), dtype=float32, numpy=\n",
       " array([[2., 2.],\n",
       "        [2., 2.]], dtype=float32)>,\n",
       " <tf.Tensor: shape=(2, 2), dtype=float32, numpy=\n",
       " array([[0., 0.],\n",
       "        [0., 0.]], dtype=float32)>)"
      ]
     },
     "execution_count": 93,
     "metadata": {},
     "output_type": "execute_result"
    }
   ],
   "source": [
    "a//b,a%b"
   ]
  },
  {
   "cell_type": "code",
   "execution_count": 94,
   "id": "b8537e58-dc93-4ec2-8202-052833b05dac",
   "metadata": {},
   "outputs": [
    {
     "data": {
      "text/plain": [
       "<tf.Tensor: shape=(2, 2), dtype=float32, numpy=\n",
       "array([[0., 0.],\n",
       "       [0., 0.]], dtype=float32)>"
      ]
     },
     "execution_count": 94,
     "metadata": {},
     "output_type": "execute_result"
    }
   ],
   "source": [
    "tf.math.log(b)"
   ]
  },
  {
   "cell_type": "code",
   "execution_count": 95,
   "id": "fadd7a98-a90c-4f16-988e-448b56ab36ac",
   "metadata": {},
   "outputs": [
    {
     "data": {
      "text/plain": [
       "<tf.Tensor: shape=(2, 2), dtype=float32, numpy=\n",
       "array([[2.7182817, 2.7182817],\n",
       "       [2.7182817, 2.7182817]], dtype=float32)>"
      ]
     },
     "execution_count": 95,
     "metadata": {},
     "output_type": "execute_result"
    }
   ],
   "source": [
    "tf.exp(b)"
   ]
  },
  {
   "cell_type": "code",
   "execution_count": 96,
   "id": "663d741e-0bc4-409d-adad-ea91727d5dd0",
   "metadata": {},
   "outputs": [
    {
     "data": {
      "text/plain": [
       "<tf.Tensor: shape=(), dtype=float32, numpy=3.0>"
      ]
     },
     "execution_count": 96,
     "metadata": {},
     "output_type": "execute_result"
    }
   ],
   "source": [
    "tf.math.log(8.0)/tf.math.log(2.)#log（2）8 以2为底"
   ]
  },
  {
   "cell_type": "markdown",
   "id": "90a76d3e-de83-4d74-a1b0-b479262cf229",
   "metadata": {},
   "source": [
    "## 平方"
   ]
  },
  {
   "cell_type": "code",
   "execution_count": 97,
   "id": "e3e732f6-9d76-44a2-8564-279b07b4c662",
   "metadata": {},
   "outputs": [
    {
     "data": {
      "text/plain": [
       "<tf.Tensor: shape=(2, 2), dtype=float32, numpy=\n",
       "array([[8., 8.],\n",
       "       [8., 8.]], dtype=float32)>"
      ]
     },
     "execution_count": 97,
     "metadata": {},
     "output_type": "execute_result"
    }
   ],
   "source": [
    "tf.pow(a,3)"
   ]
  },
  {
   "cell_type": "markdown",
   "id": "5c38d477-fabe-4dd7-8d31-3db36f8dfe56",
   "metadata": {},
   "source": [
    "## 开方"
   ]
  },
  {
   "cell_type": "code",
   "execution_count": 98,
   "id": "40ca40c5-674f-4040-ba53-95883d140c6b",
   "metadata": {},
   "outputs": [
    {
     "data": {
      "text/plain": [
       "<tf.Tensor: shape=(2, 2), dtype=float32, numpy=\n",
       "array([[1.4142134, 1.4142134],\n",
       "       [1.4142134, 1.4142134]], dtype=float32)>"
      ]
     },
     "execution_count": 98,
     "metadata": {},
     "output_type": "execute_result"
    }
   ],
   "source": [
    "tf.sqrt(a)"
   ]
  },
  {
   "cell_type": "markdown",
   "id": "7adf6ff6-6183-4a1b-a3dc-b6cbd701658c",
   "metadata": {},
   "source": [
    "## 矩阵乘法 如果不满足乘法准则，会自动进行broat_cast扩张，如果还是不行就是不符合数学规则"
   ]
  },
  {
   "cell_type": "code",
   "execution_count": 99,
   "id": "8307ad90-df64-4364-92fe-713f58da5931",
   "metadata": {},
   "outputs": [
    {
     "data": {
      "text/plain": [
       "<tf.Tensor: shape=(2, 2), dtype=float32, numpy=\n",
       "array([[4., 4.],\n",
       "       [4., 4.]], dtype=float32)>"
      ]
     },
     "execution_count": 99,
     "metadata": {},
     "output_type": "execute_result"
    }
   ],
   "source": [
    "a@b"
   ]
  },
  {
   "cell_type": "code",
   "execution_count": 100,
   "id": "16379ab4-5dda-413b-a58c-137807b9b004",
   "metadata": {},
   "outputs": [
    {
     "data": {
      "text/plain": [
       "<tf.Tensor: shape=(2, 2), dtype=float32, numpy=\n",
       "array([[4., 4.],\n",
       "       [4., 4.]], dtype=float32)>"
      ]
     },
     "execution_count": 100,
     "metadata": {},
     "output_type": "execute_result"
    }
   ],
   "source": [
    "tf.matmul(a,b)"
   ]
  },
  {
   "cell_type": "markdown",
   "id": "1f5b5c4b-bd84-4743-b671-f6660d547514",
   "metadata": {},
   "source": [
    "### 3维度的矩阵乘法"
   ]
  },
  {
   "cell_type": "code",
   "execution_count": 101,
   "id": "3173e918-8c68-4ac7-b4a7-b97c959a82e5",
   "metadata": {},
   "outputs": [],
   "source": [
    "a = tf.ones([4,2,3])\n",
    "b = tf.fill([4,3,5],2.)"
   ]
  },
  {
   "cell_type": "code",
   "execution_count": 102,
   "id": "db969b5a-c058-428d-bb48-73565294fa48",
   "metadata": {},
   "outputs": [
    {
     "data": {
      "text/plain": [
       "TensorShape([4, 2, 5])"
      ]
     },
     "execution_count": 102,
     "metadata": {},
     "output_type": "execute_result"
    }
   ],
   "source": [
    "(a@b).shape#后面两个维度进行矩阵乘法，相当于4个2维矩阵同时计算"
   ]
  },
  {
   "cell_type": "markdown",
   "id": "d9bea83a-ab39-4605-84c2-77a6321d0e1b",
   "metadata": {},
   "source": [
    "# 合并与分割"
   ]
  },
  {
   "cell_type": "markdown",
   "id": "2a708631-65fc-4b85-83e3-4ded4373bf0b",
   "metadata": {},
   "source": [
    "## tf.concat()按照某个维度进行合并"
   ]
  },
  {
   "cell_type": "code",
   "execution_count": 103,
   "id": "5223a5b1-2a0d-4306-b05b-025185f15b83",
   "metadata": {},
   "outputs": [],
   "source": [
    "a = tf.random.normal([4,35,8])\n",
    "b = tf.random.normal([2,35,8])\n",
    "c = tf.random.normal([2,35,8])"
   ]
  },
  {
   "cell_type": "code",
   "execution_count": 104,
   "id": "b63c31f5-ec76-49c2-bf2d-97f14b100e99",
   "metadata": {},
   "outputs": [
    {
     "data": {
      "text/plain": [
       "TensorShape([6, 35, 8])"
      ]
     },
     "execution_count": 104,
     "metadata": {},
     "output_type": "execute_result"
    }
   ],
   "source": [
    "d=tf.concat([a,b],axis=0)#在第0个维度上合并,但是要保证其他维度的一致性\n",
    "d.shape"
   ]
  },
  {
   "cell_type": "markdown",
   "id": "9f568ff5-4f2a-4475-ba9f-907c27f602e5",
   "metadata": {},
   "source": [
    "## tf.stack（）按照一个新的维度叠加"
   ]
  },
  {
   "cell_type": "code",
   "execution_count": 105,
   "id": "95e071ab-7f98-46f4-8ea0-6394bd17edd4",
   "metadata": {},
   "outputs": [
    {
     "data": {
      "text/plain": [
       "TensorShape([2, 2, 35, 8])"
      ]
     },
     "execution_count": 105,
     "metadata": {},
     "output_type": "execute_result"
    }
   ],
   "source": [
    "tf.stack([c,b],axis=0).shape#要求合并的数据shape形状一样"
   ]
  },
  {
   "cell_type": "code",
   "execution_count": 106,
   "id": "03867c06-d40e-452a-8120-89bf20389770",
   "metadata": {},
   "outputs": [
    {
     "data": {
      "text/plain": [
       "TensorShape([2, 35, 8, 2])"
      ]
     },
     "execution_count": 106,
     "metadata": {},
     "output_type": "execute_result"
    }
   ],
   "source": [
    "tf.stack([b,c],axis=3).shape#可以在任意一个维度创建新维度"
   ]
  },
  {
   "cell_type": "markdown",
   "id": "9afc5e8b-1884-4beb-b0d0-4ea7329417eb",
   "metadata": {},
   "source": [
    "## tf.unstack() 全部打散某个维度 分割为长度为1的维度"
   ]
  },
  {
   "cell_type": "code",
   "execution_count": 107,
   "id": "1d74c408-2fe5-47c6-80b4-de1a157672b3",
   "metadata": {},
   "outputs": [],
   "source": [
    "aa = tf.unstack(a,axis=0)"
   ]
  },
  {
   "cell_type": "code",
   "execution_count": 108,
   "id": "d5a8c930-b1f7-418f-a3f9-40d2e8a136a4",
   "metadata": {},
   "outputs": [
    {
     "data": {
      "text/plain": [
       "(TensorShape([35, 8]), TensorShape([35, 8]))"
      ]
     },
     "execution_count": 108,
     "metadata": {},
     "output_type": "execute_result"
    }
   ],
   "source": [
    "aa[0].shape,aa[1].shape"
   ]
  },
  {
   "cell_type": "markdown",
   "id": "1c9eaae2-8931-4497-bc5f-e69259294ee9",
   "metadata": {},
   "source": [
    "## tf.split()"
   ]
  },
  {
   "cell_type": "code",
   "execution_count": 109,
   "id": "d6532464-6def-46be-94e3-1c039da8778b",
   "metadata": {},
   "outputs": [
    {
     "data": {
      "text/plain": [
       "TensorShape([4, 35, 4])"
      ]
     },
     "execution_count": 109,
     "metadata": {},
     "output_type": "execute_result"
    }
   ],
   "source": [
    "aaa = tf.split(a,axis=2,num_or_size_splits=2)#分成两组\n",
    "aaa[0].shape"
   ]
  },
  {
   "cell_type": "code",
   "execution_count": 110,
   "id": "ff9c81a2-a298-4dde-b907-d71417a836be",
   "metadata": {},
   "outputs": [],
   "source": [
    "aaa = tf.split(a,axis=2,num_or_size_splits=[2,2,4])#指定打散"
   ]
  },
  {
   "cell_type": "code",
   "execution_count": 111,
   "id": "e58fd451-57ff-4992-93ba-07e246409565",
   "metadata": {},
   "outputs": [
    {
     "data": {
      "text/plain": [
       "(TensorShape([4, 35, 2]), TensorShape([4, 35, 2]), TensorShape([4, 35, 4]))"
      ]
     },
     "execution_count": 111,
     "metadata": {},
     "output_type": "execute_result"
    }
   ],
   "source": [
    "aaa[0].shape,aaa[1].shape,aaa[2].shape"
   ]
  },
  {
   "cell_type": "markdown",
   "id": "c4bd9042-43e2-44f0-8f97-815814eeba4d",
   "metadata": {},
   "source": [
    "# 数据统计"
   ]
  },
  {
   "cell_type": "markdown",
   "id": "f448d81c-2e2c-40c2-9297-743e2934d622",
   "metadata": {},
   "source": [
    "## tf.norm() 求解2范数 全部数的平方和的开根号"
   ]
  },
  {
   "cell_type": "code",
   "execution_count": 112,
   "id": "9467dc2c-4b88-404c-b927-c002151d451b",
   "metadata": {},
   "outputs": [
    {
     "data": {
      "text/plain": [
       "<tf.Tensor: shape=(), dtype=float32, numpy=2.0>"
      ]
     },
     "execution_count": 112,
     "metadata": {},
     "output_type": "execute_result"
    }
   ],
   "source": [
    "a = tf.ones([2,2])\n",
    "tf.norm(a)"
   ]
  },
  {
   "cell_type": "code",
   "execution_count": 113,
   "id": "843a2f28-6302-4ca8-9442-c38d3f5ab453",
   "metadata": {},
   "outputs": [
    {
     "data": {
      "text/plain": [
       "<tf.Tensor: shape=(), dtype=float32, numpy=2.0>"
      ]
     },
     "execution_count": 113,
     "metadata": {},
     "output_type": "execute_result"
    }
   ],
   "source": [
    "#等效与\n",
    "tf.sqrt(tf.reduce_sum(tf.square(a)))"
   ]
  },
  {
   "cell_type": "markdown",
   "id": "203496a8-e8d3-49a3-b192-e823cd8ac829",
   "metadata": {},
   "source": [
    "## tf.norm(a,ord,axis)#求解n范数"
   ]
  },
  {
   "cell_type": "code",
   "execution_count": 114,
   "id": "dd799287-35a5-48c7-a696-2ea1a1cffe8a",
   "metadata": {},
   "outputs": [
    {
     "data": {
      "text/plain": [
       "<tf.Tensor: shape=(2,), dtype=float32, numpy=array([1.4142135, 1.4142135], dtype=float32)>"
      ]
     },
     "execution_count": 114,
     "metadata": {},
     "output_type": "execute_result"
    }
   ],
   "source": [
    "tf.norm(a,ord=2,axis=1)#ord表示几范数，axis表示求解第几个维度的范数 可以理解为，把这个维度上的数计算范数，最后的结果是把这个维度变成了1"
   ]
  },
  {
   "cell_type": "code",
   "execution_count": 115,
   "id": "6aafb1cd-3480-444d-8e01-c9f59d713ef0",
   "metadata": {},
   "outputs": [
    {
     "data": {
      "text/plain": [
       "<tf.Tensor: shape=(2,), dtype=float32, numpy=array([2., 2.], dtype=float32)>"
      ]
     },
     "execution_count": 115,
     "metadata": {},
     "output_type": "execute_result"
    }
   ],
   "source": [
    "tf.norm(a,ord=1,axis=0)"
   ]
  },
  {
   "cell_type": "markdown",
   "id": "edc992b5-bd5d-4c00-9c0e-6bff3cb39eb3",
   "metadata": {},
   "source": [
    "## tf.reduce_min/max/mean"
   ]
  },
  {
   "cell_type": "code",
   "execution_count": 116,
   "id": "ccaa30d8-e0df-4254-a1cf-9210f05a3683",
   "metadata": {},
   "outputs": [],
   "source": [
    "a = tf.random.normal([4,10])"
   ]
  },
  {
   "cell_type": "code",
   "execution_count": 117,
   "id": "682459c2-88b9-482f-944d-2e4bb3188ea6",
   "metadata": {},
   "outputs": [
    {
     "data": {
      "text/plain": [
       "(<tf.Tensor: shape=(), dtype=float32, numpy=-1.23712>,\n",
       " <tf.Tensor: shape=(), dtype=float32, numpy=2.0356772>,\n",
       " <tf.Tensor: shape=(), dtype=float32, numpy=0.13674217>)"
      ]
     },
     "execution_count": 117,
     "metadata": {},
     "output_type": "execute_result"
    }
   ],
   "source": [
    "tf.reduce_min(a),tf.reduce_max(a),tf.reduce_mean(a)"
   ]
  },
  {
   "cell_type": "code",
   "execution_count": 118,
   "id": "a15eafc6-2882-4ab9-a265-73e30f09b216",
   "metadata": {},
   "outputs": [
    {
     "data": {
      "text/plain": [
       "(<tf.Tensor: shape=(4,), dtype=float32, numpy=array([-0.7879081 , -0.35007125, -0.84858495, -1.23712   ], dtype=float32)>,\n",
       " <tf.Tensor: shape=(4,), dtype=float32, numpy=array([0.63253486, 2.0356772 , 1.1415284 , 1.973542  ], dtype=float32)>,\n",
       " <tf.Tensor: shape=(4,), dtype=float32, numpy=array([-0.20055667,  0.5886845 ,  0.10242031,  0.05642058], dtype=float32)>)"
      ]
     },
     "execution_count": 118,
     "metadata": {},
     "output_type": "execute_result"
    }
   ],
   "source": [
    "tf.reduce_min(a,axis=1),tf.reduce_max(a,axis=1),tf.reduce_mean(a,axis=1)#求解第1维度的。。。"
   ]
  },
  {
   "cell_type": "code",
   "execution_count": 119,
   "id": "12398734-95b6-4085-a962-2eae3e1fe279",
   "metadata": {},
   "outputs": [
    {
     "data": {
      "text/plain": [
       "TensorShape([4, 10])"
      ]
     },
     "execution_count": 119,
     "metadata": {},
     "output_type": "execute_result"
    }
   ],
   "source": [
    "a.shape"
   ]
  },
  {
   "cell_type": "markdown",
   "id": "a3dda9c8-db70-4ab9-b608-53385fc4240a",
   "metadata": {},
   "source": [
    "## tf.argmax(a)/min返回最大值索引"
   ]
  },
  {
   "cell_type": "code",
   "execution_count": 120,
   "id": "441017ed-35d6-44f6-95bb-3140766c94a8",
   "metadata": {},
   "outputs": [
    {
     "data": {
      "text/plain": [
       "<tf.Tensor: shape=(4,), dtype=int64, numpy=array([7, 8, 7, 2])>"
      ]
     },
     "execution_count": 120,
     "metadata": {},
     "output_type": "execute_result"
    }
   ],
   "source": [
    "tf.argmax(a,axis=1)#默认axis=0"
   ]
  },
  {
   "cell_type": "markdown",
   "id": "474fe993-56d6-4495-b90f-53d798cdf352",
   "metadata": {},
   "source": [
    "## tf.equal() 比较"
   ]
  },
  {
   "cell_type": "code",
   "execution_count": 121,
   "id": "fbcccac2-84b7-4639-be1a-9abddc745ba9",
   "metadata": {},
   "outputs": [],
   "source": [
    "a = tf.constant([0,2,2,2,5])"
   ]
  },
  {
   "cell_type": "code",
   "execution_count": 122,
   "id": "63832519-d1e1-4b9d-bbbf-8b58151f4a81",
   "metadata": {},
   "outputs": [],
   "source": [
    "b = tf.range(5)"
   ]
  },
  {
   "cell_type": "code",
   "execution_count": 123,
   "id": "366aaa4d-be4a-40ae-a4d6-6481e37dc070",
   "metadata": {},
   "outputs": [],
   "source": [
    "res = tf.equal(a,b)"
   ]
  },
  {
   "cell_type": "code",
   "execution_count": 124,
   "id": "cbbc9dd2-0fa0-47d1-8a25-cd566e7d6c3c",
   "metadata": {},
   "outputs": [
    {
     "data": {
      "text/plain": [
       "<tf.Tensor: shape=(), dtype=int32, numpy=2>"
      ]
     },
     "execution_count": 124,
     "metadata": {},
     "output_type": "execute_result"
    }
   ],
   "source": [
    "tf.reduce_sum(tf.cast(res,dtype=tf.int32))#可以求相同元素的数目"
   ]
  },
  {
   "cell_type": "code",
   "execution_count": 125,
   "id": "d5274192-a19e-4ddc-b4c5-6fc4199d360f",
   "metadata": {},
   "outputs": [],
   "source": [
    "unique = tf.unique(a)#前面表格对应的是不重复数表格，后面对应的是原表格中对应不重复数表格的索引"
   ]
  },
  {
   "cell_type": "code",
   "execution_count": 126,
   "id": "83d372e6-59a6-4ef0-a334-d85bee81ed9b",
   "metadata": {},
   "outputs": [
    {
     "data": {
      "text/plain": [
       "<tf.Tensor: shape=(5,), dtype=int32, numpy=array([0, 2, 2, 2, 5], dtype=int32)>"
      ]
     },
     "execution_count": 126,
     "metadata": {},
     "output_type": "execute_result"
    }
   ],
   "source": [
    "#用tf.gather还原unique\n",
    "tf.gather(unique[0],unique[1])"
   ]
  },
  {
   "cell_type": "markdown",
   "id": "aa2cd99c-197e-49d1-afdf-81aa3ac45e1e",
   "metadata": {},
   "source": [
    "## 排序"
   ]
  },
  {
   "cell_type": "markdown",
   "id": "686fb4a9-136a-4a3e-b3d0-660881202a20",
   "metadata": {},
   "source": [
    "## tf.sort"
   ]
  },
  {
   "cell_type": "code",
   "execution_count": 127,
   "id": "a0cf1f68-81f7-43de-afe1-52f70a872897",
   "metadata": {},
   "outputs": [],
   "source": [
    "a = tf.random.shuffle(tf.range(5))"
   ]
  },
  {
   "cell_type": "code",
   "execution_count": 128,
   "id": "62dc49ee-28e6-42a6-ba63-d5f7aa31ce7d",
   "metadata": {},
   "outputs": [
    {
     "data": {
      "text/plain": [
       "<tf.Tensor: shape=(5,), dtype=int32, numpy=array([4, 3, 2, 1, 0], dtype=int32)>"
      ]
     },
     "execution_count": 128,
     "metadata": {},
     "output_type": "execute_result"
    }
   ],
   "source": [
    "tf.sort(a,direction='DESCENDING')#由大到小排序"
   ]
  },
  {
   "cell_type": "code",
   "execution_count": 129,
   "id": "4dc4a2f1-ae4b-4592-804c-5c3dd8523027",
   "metadata": {},
   "outputs": [],
   "source": [
    "idx = tf.argsort(a,direction='DESCENDING')#返回排序索引"
   ]
  },
  {
   "cell_type": "code",
   "execution_count": 130,
   "id": "05efff03-bbdf-49a2-8676-c3bc7b11c29e",
   "metadata": {},
   "outputs": [
    {
     "data": {
      "text/plain": [
       "<tf.Tensor: shape=(5,), dtype=int32, numpy=array([4, 3, 2, 1, 0], dtype=int32)>"
      ]
     },
     "execution_count": 130,
     "metadata": {},
     "output_type": "execute_result"
    }
   ],
   "source": [
    "tf.gather(a,idx)"
   ]
  },
  {
   "cell_type": "code",
   "execution_count": 131,
   "id": "7e2e0285-8639-47bf-b41d-62cf4ca713b0",
   "metadata": {},
   "outputs": [
    {
     "data": {
      "text/plain": [
       "<tf.Tensor: shape=(5,), dtype=int32, numpy=array([0, 1, 2, 3, 4], dtype=int32)>"
      ]
     },
     "execution_count": 131,
     "metadata": {},
     "output_type": "execute_result"
    }
   ],
   "source": [
    "tf.sort(a)#由小到大"
   ]
  },
  {
   "cell_type": "code",
   "execution_count": 132,
   "id": "68dc21fd-3a5a-495e-bbbb-11be455743bb",
   "metadata": {},
   "outputs": [
    {
     "data": {
      "text/plain": [
       "<tf.Tensor: shape=(5,), dtype=int32, numpy=array([4, 1, 3, 2, 0], dtype=int32)>"
      ]
     },
     "execution_count": 132,
     "metadata": {},
     "output_type": "execute_result"
    }
   ],
   "source": [
    "tf.argsort(a)"
   ]
  },
  {
   "cell_type": "code",
   "execution_count": 133,
   "id": "155ea336-7d23-4d2d-ba46-7c141e9000ac",
   "metadata": {},
   "outputs": [],
   "source": [
    "b = tf.random.uniform([3,3],maxval=10,dtype=tf.int32)"
   ]
  },
  {
   "cell_type": "code",
   "execution_count": 134,
   "id": "815a280d-f210-41c8-b029-0026a14e4f8c",
   "metadata": {},
   "outputs": [
    {
     "data": {
      "text/plain": [
       "<tf.Tensor: shape=(3, 3), dtype=int32, numpy=\n",
       "array([[0, 1, 1],\n",
       "       [0, 3, 1],\n",
       "       [7, 9, 4]], dtype=int32)>"
      ]
     },
     "execution_count": 134,
     "metadata": {},
     "output_type": "execute_result"
    }
   ],
   "source": [
    "tf.sort(b,axis=0)#axis默认是最后一个维度"
   ]
  },
  {
   "cell_type": "code",
   "execution_count": 135,
   "id": "cc03037e-60d5-4d36-9035-db5f88f61f49",
   "metadata": {},
   "outputs": [],
   "source": [
    "argsort = tf.argsort(b,axis=0)"
   ]
  },
  {
   "cell_type": "markdown",
   "id": "f19c9830-44dc-4640-890d-fb7e5416df57",
   "metadata": {},
   "source": [
    "## tf.math.top_k() 返回最大的几个值和索引"
   ]
  },
  {
   "cell_type": "code",
   "execution_count": 136,
   "id": "2cecdcd1-83e6-477f-8ece-9f72782761e2",
   "metadata": {},
   "outputs": [
    {
     "data": {
      "text/plain": [
       "<tf.Tensor: shape=(3, 3), dtype=int32, numpy=\n",
       "array([[0, 9, 4],\n",
       "       [7, 1, 1],\n",
       "       [0, 3, 1]], dtype=int32)>"
      ]
     },
     "execution_count": 136,
     "metadata": {},
     "output_type": "execute_result"
    }
   ],
   "source": [
    "b"
   ]
  },
  {
   "cell_type": "code",
   "execution_count": 137,
   "id": "a49d3f63-7a1d-4f0c-ac47-46fa6a17b2f7",
   "metadata": {},
   "outputs": [
    {
     "data": {
      "text/plain": [
       "TopKV2(values=<tf.Tensor: shape=(3, 2), dtype=int32, numpy=\n",
       "array([[9, 4],\n",
       "       [7, 1],\n",
       "       [3, 1]], dtype=int32)>, indices=<tf.Tensor: shape=(3, 2), dtype=int32, numpy=\n",
       "array([[1, 2],\n",
       "       [0, 1],\n",
       "       [1, 2]], dtype=int32)>)"
      ]
     },
     "execution_count": 137,
     "metadata": {},
     "output_type": "execute_result"
    }
   ],
   "source": [
    "res = tf.math.top_k(b,2)\n",
    "res"
   ]
  },
  {
   "cell_type": "code",
   "execution_count": 138,
   "id": "949f6f1b-c38f-453e-8bcd-299398a92cad",
   "metadata": {},
   "outputs": [
    {
     "data": {
      "text/plain": [
       "<tf.Tensor: shape=(3, 2), dtype=int32, numpy=\n",
       "array([[9, 4],\n",
       "       [7, 1],\n",
       "       [3, 1]], dtype=int32)>"
      ]
     },
     "execution_count": 138,
     "metadata": {},
     "output_type": "execute_result"
    }
   ],
   "source": [
    "res[0]"
   ]
  },
  {
   "cell_type": "code",
   "execution_count": 139,
   "id": "01cd820b-965c-4544-abb4-2099362b8840",
   "metadata": {},
   "outputs": [
    {
     "data": {
      "text/plain": [
       "<tf.Tensor: shape=(3, 2), dtype=int32, numpy=\n",
       "array([[1, 2],\n",
       "       [0, 1],\n",
       "       [1, 2]], dtype=int32)>"
      ]
     },
     "execution_count": 139,
     "metadata": {},
     "output_type": "execute_result"
    }
   ],
   "source": [
    "res[1]"
   ]
  },
  {
   "cell_type": "markdown",
   "id": "97f5e7ac-47cc-4565-b0cd-acd027bfc0ac",
   "metadata": {},
   "source": [
    "## tf.pad() 数据的填充"
   ]
  },
  {
   "cell_type": "code",
   "execution_count": 140,
   "id": "50d9aaa6-2c2d-47ab-83d9-928b79d0274a",
   "metadata": {},
   "outputs": [
    {
     "data": {
      "text/plain": [
       "<tf.Tensor: shape=(3, 3), dtype=int32, numpy=\n",
       "array([[0, 1, 2],\n",
       "       [3, 4, 5],\n",
       "       [6, 7, 8]], dtype=int32)>"
      ]
     },
     "execution_count": 140,
     "metadata": {},
     "output_type": "execute_result"
    }
   ],
   "source": [
    "a = tf.reshape(tf.range(9),[3,-1])\n",
    "a"
   ]
  },
  {
   "cell_type": "code",
   "execution_count": 141,
   "id": "4f9a3f77-8643-411f-8180-b8f86e76ba8e",
   "metadata": {},
   "outputs": [
    {
     "data": {
      "text/plain": [
       "<tf.Tensor: shape=(5, 5), dtype=int32, numpy=\n",
       "array([[0, 0, 0, 0, 0],\n",
       "       [0, 0, 1, 2, 0],\n",
       "       [0, 3, 4, 5, 0],\n",
       "       [0, 6, 7, 8, 0],\n",
       "       [0, 0, 0, 0, 0]], dtype=int32)>"
      ]
     },
     "execution_count": 141,
     "metadata": {},
     "output_type": "execute_result"
    }
   ],
   "source": [
    "tf.pad(a,[[1,1],[1,1]])#上下左右各填充一行"
   ]
  },
  {
   "cell_type": "code",
   "execution_count": 142,
   "id": "9cd1bd1d-f803-4ae3-9e4f-713e59e6caf3",
   "metadata": {},
   "outputs": [
    {
     "data": {
      "text/plain": [
       "<tf.Tensor: shape=(4, 4), dtype=int32, numpy=\n",
       "array([[0, 0, 0, 0],\n",
       "       [0, 1, 2, 0],\n",
       "       [3, 4, 5, 0],\n",
       "       [6, 7, 8, 0]], dtype=int32)>"
      ]
     },
     "execution_count": 142,
     "metadata": {},
     "output_type": "execute_result"
    }
   ],
   "source": [
    "tf.pad(a,[[1,0],[0,1]])#上右填充一行"
   ]
  },
  {
   "cell_type": "markdown",
   "id": "d6279729-48d6-4b48-85c7-6b7f0b67f20f",
   "metadata": {},
   "source": [
    "## tf.tile() 维度复制（占用内存） 相比tf.broadcast_to()不占用内存"
   ]
  },
  {
   "cell_type": "code",
   "execution_count": 143,
   "id": "c3fda536-fee8-4a0e-a490-dcac4ec3e898",
   "metadata": {},
   "outputs": [
    {
     "data": {
      "text/plain": [
       "<tf.Tensor: shape=(3, 3), dtype=int32, numpy=\n",
       "array([[0, 1, 2],\n",
       "       [3, 4, 5],\n",
       "       [6, 7, 8]], dtype=int32)>"
      ]
     },
     "execution_count": 143,
     "metadata": {},
     "output_type": "execute_result"
    }
   ],
   "source": [
    "a"
   ]
  },
  {
   "cell_type": "code",
   "execution_count": 144,
   "id": "f1055133-cb37-4977-b4dc-f6956380a1cc",
   "metadata": {},
   "outputs": [
    {
     "data": {
      "text/plain": [
       "<tf.Tensor: shape=(3, 6), dtype=int32, numpy=\n",
       "array([[0, 1, 2, 0, 1, 2],\n",
       "       [3, 4, 5, 3, 4, 5],\n",
       "       [6, 7, 8, 6, 7, 8]], dtype=int32)>"
      ]
     },
     "execution_count": 144,
     "metadata": {},
     "output_type": "execute_result"
    }
   ],
   "source": [
    "tf.tile(a,[1,2])#第一维度复制1倍，第二维度复制2倍"
   ]
  },
  {
   "cell_type": "code",
   "execution_count": 145,
   "id": "2f5ef5dc-520d-449d-a2ca-0830efb1865e",
   "metadata": {},
   "outputs": [
    {
     "data": {
      "text/plain": [
       "<tf.Tensor: shape=(6, 6), dtype=int32, numpy=\n",
       "array([[0, 1, 2, 0, 1, 2],\n",
       "       [3, 4, 5, 3, 4, 5],\n",
       "       [6, 7, 8, 6, 7, 8],\n",
       "       [0, 1, 2, 0, 1, 2],\n",
       "       [3, 4, 5, 3, 4, 5],\n",
       "       [6, 7, 8, 6, 7, 8]], dtype=int32)>"
      ]
     },
     "execution_count": 145,
     "metadata": {},
     "output_type": "execute_result"
    }
   ],
   "source": [
    "tf.tile(a,[2,2])#先复制小维度，再复制大维度，先列再行"
   ]
  },
  {
   "cell_type": "markdown",
   "id": "7522f1dd-2512-4381-ba36-cdf3d92789c3",
   "metadata": {},
   "source": [
    "## tf.clip_by_value() tf.minimum() tf.maximum() tensor限幅"
   ]
  },
  {
   "cell_type": "code",
   "execution_count": 146,
   "id": "6f2ce0de-62ad-4fcd-bf76-a314ce592556",
   "metadata": {},
   "outputs": [
    {
     "data": {
      "text/plain": [
       "<tf.Tensor: shape=(3, 3), dtype=int32, numpy=\n",
       "array([[0, 1, 2],\n",
       "       [3, 4, 5],\n",
       "       [6, 7, 8]], dtype=int32)>"
      ]
     },
     "execution_count": 146,
     "metadata": {},
     "output_type": "execute_result"
    }
   ],
   "source": [
    "a"
   ]
  },
  {
   "cell_type": "code",
   "execution_count": 147,
   "id": "a3a102ca-a712-4fa6-8dd0-ba30539780f3",
   "metadata": {},
   "outputs": [
    {
     "data": {
      "text/plain": [
       "<tf.Tensor: shape=(3, 3), dtype=int32, numpy=\n",
       "array([[2, 2, 2],\n",
       "       [3, 4, 5],\n",
       "       [6, 7, 8]], dtype=int32)>"
      ]
     },
     "execution_count": 147,
     "metadata": {},
     "output_type": "execute_result"
    }
   ],
   "source": [
    "tf.maximum(a,2)#if(a<2),返回2 tf.maximum(a,0)就是tf.nn.relu"
   ]
  },
  {
   "cell_type": "code",
   "execution_count": 148,
   "id": "34e622b1-d598-49af-a725-dd72e8aa8637",
   "metadata": {},
   "outputs": [
    {
     "data": {
      "text/plain": [
       "<tf.Tensor: shape=(3, 3), dtype=int32, numpy=\n",
       "array([[0, 1, 2],\n",
       "       [3, 4, 5],\n",
       "       [6, 6, 6]], dtype=int32)>"
      ]
     },
     "execution_count": 148,
     "metadata": {},
     "output_type": "execute_result"
    }
   ],
   "source": [
    "tf.minimum(a,6)#if(a>6)返回6"
   ]
  },
  {
   "cell_type": "code",
   "execution_count": 149,
   "id": "95d4bb94-fedc-432c-a27f-c544b6b7987f",
   "metadata": {},
   "outputs": [
    {
     "data": {
      "text/plain": [
       "<tf.Tensor: shape=(3, 3), dtype=int32, numpy=\n",
       "array([[2, 2, 2],\n",
       "       [3, 4, 5],\n",
       "       [6, 6, 6]], dtype=int32)>"
      ]
     },
     "execution_count": 149,
     "metadata": {},
     "output_type": "execute_result"
    }
   ],
   "source": [
    "tf.clip_by_value(a,2,6)#上下限2~6"
   ]
  },
  {
   "cell_type": "markdown",
   "id": "8f89aff1-2301-418e-9e50-f854bd12c4bf",
   "metadata": {},
   "source": [
    "## tf.cilp_by_norm() 2范数放缩           梯度限幅"
   ]
  },
  {
   "cell_type": "code",
   "execution_count": 150,
   "id": "87bb55c4-8299-480d-b027-980b1beb1795",
   "metadata": {},
   "outputs": [],
   "source": [
    "a = tf.random.normal([2,2],mean=10)"
   ]
  },
  {
   "cell_type": "code",
   "execution_count": 151,
   "id": "99615d0d-48e1-4343-9f11-4c5b77fc8b8d",
   "metadata": {},
   "outputs": [
    {
     "data": {
      "text/plain": [
       "<tf.Tensor: shape=(), dtype=float32, numpy=22.401142>"
      ]
     },
     "execution_count": 151,
     "metadata": {},
     "output_type": "execute_result"
    }
   ],
   "source": [
    "tf.norm(a)"
   ]
  },
  {
   "cell_type": "code",
   "execution_count": 152,
   "id": "8c801112-963a-479e-aa1b-a2a1f7e40ebb",
   "metadata": {},
   "outputs": [],
   "source": [
    "aa = tf.clip_by_norm(a,15)#方向不变，改变模"
   ]
  },
  {
   "cell_type": "code",
   "execution_count": 153,
   "id": "29b9b951-c22f-4c3a-8a73-efa75c52f83f",
   "metadata": {},
   "outputs": [
    {
     "data": {
      "text/plain": [
       "<tf.Tensor: shape=(), dtype=float32, numpy=15.000001>"
      ]
     },
     "execution_count": 153,
     "metadata": {},
     "output_type": "execute_result"
    }
   ],
   "source": [
    "tf.norm(aa)"
   ]
  },
  {
   "cell_type": "markdown",
   "id": "caacb912-fabf-4a57-aa2c-d5555e27382d",
   "metadata": {},
   "source": [
    "# 高级操作"
   ]
  },
  {
   "cell_type": "markdown",
   "id": "a24ded4a-41b7-4b81-abe6-0ec66edeb848",
   "metadata": {},
   "source": [
    "## tf.where() 单参数"
   ]
  },
  {
   "cell_type": "code",
   "execution_count": 154,
   "id": "371605e6-4961-4208-ab14-8ffb3842b08e",
   "metadata": {},
   "outputs": [
    {
     "data": {
      "text/plain": [
       "<tf.Tensor: shape=(3, 3), dtype=float32, numpy=\n",
       "array([[-1.0751221 ,  0.37137485,  0.12225824],\n",
       "       [ 1.1401463 , -0.22998232, -0.63131005],\n",
       "       [-2.0640197 , -0.76392156, -0.39046153]], dtype=float32)>"
      ]
     },
     "execution_count": 154,
     "metadata": {},
     "output_type": "execute_result"
    }
   ],
   "source": [
    "a = tf.random.normal([3,3])\n",
    "a"
   ]
  },
  {
   "cell_type": "code",
   "execution_count": 155,
   "id": "211b3749-fabe-444d-949c-5150e844ea9a",
   "metadata": {},
   "outputs": [
    {
     "data": {
      "text/plain": [
       "<tf.Tensor: shape=(3, 3), dtype=bool, numpy=\n",
       "array([[False,  True,  True],\n",
       "       [ True, False, False],\n",
       "       [False, False, False]])>"
      ]
     },
     "execution_count": 155,
     "metadata": {},
     "output_type": "execute_result"
    }
   ],
   "source": [
    "mask=a>0\n",
    "mask"
   ]
  },
  {
   "cell_type": "code",
   "execution_count": 156,
   "id": "376c58d5-343e-4e52-9a81-9d281e05279e",
   "metadata": {},
   "outputs": [
    {
     "data": {
      "text/plain": [
       "<tf.Tensor: shape=(3,), dtype=float32, numpy=array([0.37137485, 0.12225824, 1.1401463 ], dtype=float32)>"
      ]
     },
     "execution_count": 156,
     "metadata": {},
     "output_type": "execute_result"
    }
   ],
   "source": [
    "tf.boolean_mask(a,mask)#返回所有True的值"
   ]
  },
  {
   "cell_type": "code",
   "execution_count": 157,
   "id": "bcb91a34-f6d6-4e8d-bf3c-508de682ad3d",
   "metadata": {},
   "outputs": [
    {
     "data": {
      "text/plain": [
       "<tf.Tensor: shape=(3, 2), dtype=int64, numpy=\n",
       "array([[0, 1],\n",
       "       [0, 2],\n",
       "       [1, 0]])>"
      ]
     },
     "execution_count": 157,
     "metadata": {},
     "output_type": "execute_result"
    }
   ],
   "source": [
    "indices=tf.where(mask)\n",
    "indices#返回所有true的索引"
   ]
  },
  {
   "cell_type": "code",
   "execution_count": 158,
   "id": "72554e50-01e8-47a4-8847-ea033a6ac653",
   "metadata": {},
   "outputs": [
    {
     "data": {
      "text/plain": [
       "<tf.Tensor: shape=(3,), dtype=float32, numpy=array([0.37137485, 0.12225824, 1.1401463 ], dtype=float32)>"
      ]
     },
     "execution_count": 158,
     "metadata": {},
     "output_type": "execute_result"
    }
   ],
   "source": [
    "tf.gather_nd(a,indices)#通过索引返回所有大于一的值"
   ]
  },
  {
   "cell_type": "markdown",
   "id": "bcd390d3-3f71-46cc-bca0-6620800b0a5a",
   "metadata": {},
   "source": [
    "## tf.scatter_nd() 底板更新  原地更新"
   ]
  },
  {
   "cell_type": "code",
   "execution_count": 159,
   "id": "f50506a8-88c6-4c07-af2d-e9dd19c8e628",
   "metadata": {},
   "outputs": [
    {
     "data": {
      "text/plain": [
       "<tf.Tensor: shape=(8,), dtype=int32, numpy=array([ 0, 11,  0, 10,  9,  0,  0, 12], dtype=int32)>"
      ]
     },
     "execution_count": 159,
     "metadata": {},
     "output_type": "execute_result"
    }
   ],
   "source": [
    "indices = tf.constant([[4],[3],[1],[7]])\n",
    "updates = tf.constant([9,10,11,12])\n",
    "shape = tf.constant([8])\n",
    "tf.scatter_nd(indices,updates,shape)"
   ]
  },
  {
   "cell_type": "markdown",
   "id": "cda43a22-f779-4b8b-b2fd-eb77e40cf3de",
   "metadata": {},
   "source": [
    "## tf.meshgrid() 单维度点合并成多维点"
   ]
  },
  {
   "cell_type": "code",
   "execution_count": 160,
   "id": "6737f07b-e941-4df4-b9ae-e22126b64697",
   "metadata": {},
   "outputs": [
    {
     "data": {
      "text/plain": [
       "<tf.Tensor: shape=(5,), dtype=float32, numpy=array([-2., -1.,  0.,  1.,  2.], dtype=float32)>"
      ]
     },
     "execution_count": 160,
     "metadata": {},
     "output_type": "execute_result"
    }
   ],
   "source": [
    "y = tf.linspace(-2.,2.,5)\n",
    "y"
   ]
  },
  {
   "cell_type": "code",
   "execution_count": 161,
   "id": "2cc19a20-e07a-4888-bb19-92775242eb32",
   "metadata": {},
   "outputs": [
    {
     "data": {
      "text/plain": [
       "<tf.Tensor: shape=(5,), dtype=float32, numpy=array([-2., -1.,  0.,  1.,  2.], dtype=float32)>"
      ]
     },
     "execution_count": 161,
     "metadata": {},
     "output_type": "execute_result"
    }
   ],
   "source": [
    "x = tf.linspace(-2.,2.,5)\n",
    "x"
   ]
  },
  {
   "cell_type": "code",
   "execution_count": 162,
   "id": "da8e0a81-d97e-4a99-99c9-6f0eeb6eb1ad",
   "metadata": {},
   "outputs": [],
   "source": [
    "points_x,points_y=tf.meshgrid(x,y)#生成5*5个点的坐标"
   ]
  },
  {
   "cell_type": "code",
   "execution_count": 163,
   "id": "d7c528bd-109a-41fc-ad7b-bb5f677cd073",
   "metadata": {},
   "outputs": [
    {
     "data": {
      "text/plain": [
       "TensorShape([5, 5])"
      ]
     },
     "execution_count": 163,
     "metadata": {},
     "output_type": "execute_result"
    }
   ],
   "source": [
    "points_x.shape"
   ]
  },
  {
   "cell_type": "code",
   "execution_count": 164,
   "id": "61f408eb-189d-4c6e-a6be-2e57571bd11e",
   "metadata": {},
   "outputs": [
    {
     "data": {
      "text/plain": [
       "TensorShape([5, 5, 2])"
      ]
     },
     "execution_count": 164,
     "metadata": {},
     "output_type": "execute_result"
    }
   ],
   "source": [
    "points= tf.stack([points_x,points_y],axis=2)#拼接\n",
    "points.shape"
   ]
  },
  {
   "cell_type": "markdown",
   "id": "19f1ff34-3568-47f2-bef8-1e14ebba442b",
   "metadata": {},
   "source": [
    "# 输出层函数"
   ]
  },
  {
   "cell_type": "markdown",
   "id": "1b10ccb3-b75a-40eb-8851-dc646afa5cdc",
   "metadata": {},
   "source": [
    "## relu 线性修正函数"
   ]
  },
  {
   "cell_type": "code",
   "execution_count": 165,
   "id": "e05af1b0-0020-4cf4-acb1-66f6aa84fa3b",
   "metadata": {},
   "outputs": [],
   "source": [
    "a = tf.linspace(-6,6,10)"
   ]
  },
  {
   "cell_type": "code",
   "execution_count": 166,
   "id": "8a5406fa-cdf0-4d3e-b9e7-3aeb0e06a1ea",
   "metadata": {},
   "outputs": [
    {
     "data": {
      "text/plain": [
       "<tf.Tensor: shape=(5,), dtype=float32, numpy=array([0., 0., 0., 1., 2.], dtype=float32)>"
      ]
     },
     "execution_count": 166,
     "metadata": {},
     "output_type": "execute_result"
    }
   ],
   "source": [
    "tf.nn.relu(x)"
   ]
  },
  {
   "cell_type": "markdown",
   "id": "5a07ac64-6a7c-466a-8d4e-08818a068ad3",
   "metadata": {},
   "source": [
    "## sigmoid 函数"
   ]
  },
  {
   "cell_type": "code",
   "execution_count": 167,
   "id": "8330334b-87ef-4318-bb83-363ea54e4afb",
   "metadata": {},
   "outputs": [
    {
     "data": {
      "text/plain": [
       "<tf.Tensor: shape=(5,), dtype=float32, numpy=\n",
       "array([0.11920291, 0.26894143, 0.5       , 0.7310586 , 0.8807971 ],\n",
       "      dtype=float32)>"
      ]
     },
     "execution_count": 167,
     "metadata": {},
     "output_type": "execute_result"
    }
   ],
   "source": [
    "tf.sigmoid(x)"
   ]
  },
  {
   "cell_type": "markdown",
   "id": "a4fa2fa1-4e4a-4412-aafc-efe6d393d0d0",
   "metadata": {},
   "source": [
    "## softmax 函数 概率"
   ]
  },
  {
   "cell_type": "code",
   "execution_count": 168,
   "id": "b055cab9-8b96-4ded-be4e-27116be09b5d",
   "metadata": {},
   "outputs": [
    {
     "data": {
      "text/plain": [
       "<tf.Tensor: shape=(5,), dtype=float32, numpy=\n",
       "array([0.01165623, 0.03168492, 0.08612854, 0.23412165, 0.6364086 ],\n",
       "      dtype=float32)>"
      ]
     },
     "execution_count": 168,
     "metadata": {},
     "output_type": "execute_result"
    }
   ],
   "source": [
    "tf.nn.softmax(x)"
   ]
  },
  {
   "cell_type": "markdown",
   "id": "6c2b6c6b-0fd1-498d-9993-4eeebbd94d5f",
   "metadata": {},
   "source": [
    "## Tanh把数据向sigmod一样映射到-1~1之间"
   ]
  },
  {
   "cell_type": "code",
   "execution_count": 169,
   "id": "bcb4d431-fd9d-4369-8198-b356b166c9b1",
   "metadata": {},
   "outputs": [
    {
     "data": {
      "text/plain": [
       "<tf.Tensor: shape=(5,), dtype=float32, numpy=\n",
       "array([-0.9640276, -0.7615942,  0.       ,  0.7615942,  0.9640276],\n",
       "      dtype=float32)>"
      ]
     },
     "execution_count": 169,
     "metadata": {},
     "output_type": "execute_result"
    }
   ],
   "source": [
    "tf.nn.tanh(x)"
   ]
  },
  {
   "cell_type": "markdown",
   "id": "1c7911c3-bc55-4ade-948b-a87942be84bf",
   "metadata": {},
   "source": [
    "# 误差函数"
   ]
  },
  {
   "cell_type": "markdown",
   "id": "b34771ee-0598-4721-bd4e-17ee287d9b8a",
   "metadata": {},
   "source": [
    "## mse 平方差和·"
   ]
  },
  {
   "cell_type": "code",
   "execution_count": 170,
   "id": "7818ff1e-fc2b-4e85-a499-9ca64a7c0f0a",
   "metadata": {},
   "outputs": [
    {
     "data": {
      "text/plain": [
       "TensorShape([5, 4])"
      ]
     },
     "execution_count": 170,
     "metadata": {},
     "output_type": "execute_result"
    }
   ],
   "source": [
    "pre_out = tf.random.normal([5,4])\n",
    "real = tf.constant([1,2,3,0,2])\n",
    "real = tf.one_hot(real,depth=4)\n",
    "real = tf.cast(real,dtype=tf.float32)\n",
    "real.shape"
   ]
  },
  {
   "cell_type": "code",
   "execution_count": 171,
   "id": "f4509500-c687-4015-bff4-6784e16101b2",
   "metadata": {},
   "outputs": [
    {
     "data": {
      "text/plain": [
       "<tf.Tensor: shape=(), dtype=float32, numpy=1.2394558>"
      ]
     },
     "execution_count": 171,
     "metadata": {},
     "output_type": "execute_result"
    }
   ],
   "source": [
    "loss1=tf.reduce_mean(tf.square(real-pre_out))\n",
    "loss1"
   ]
  },
  {
   "cell_type": "code",
   "execution_count": 172,
   "id": "1b765c0d-5508-4cc6-b9cf-3981f90b9e15",
   "metadata": {},
   "outputs": [
    {
     "data": {
      "text/plain": [
       "<tf.Tensor: shape=(), dtype=float32, numpy=1.2394559>"
      ]
     },
     "execution_count": 172,
     "metadata": {},
     "output_type": "execute_result"
    }
   ],
   "source": [
    "loss2=tf.reduce_mean(tf.losses.MSE(pre_out,real))\n",
    "loss2"
   ]
  },
  {
   "cell_type": "markdown",
   "id": "08aa4347-2042-472d-a105-959ca489b7a7",
   "metadata": {},
   "source": [
    "# 梯度"
   ]
  },
  {
   "cell_type": "markdown",
   "id": "9ed1d243-191f-4bd5-b4cd-39009660fffc",
   "metadata": {},
   "source": [
    "## AutoGrad"
   ]
  },
  {
   "cell_type": "code",
   "execution_count": 173,
   "id": "eed17f30-30cd-4ccb-bcdf-7b0ea0b4c75a",
   "metadata": {},
   "outputs": [],
   "source": [
    "w = tf.constant(1.)\n",
    "x = tf.constant(2.)\n",
    "b = tf.constant(3.)"
   ]
  },
  {
   "cell_type": "code",
   "execution_count": 174,
   "id": "006db2f8-ece4-42c1-acfc-5b1521237911",
   "metadata": {},
   "outputs": [],
   "source": [
    "with tf.GradientTape() as tape:#把数据流动的过程放到求解内\n",
    "    tape.watch([w])#表示对w求导\n",
    "    y = x*w"
   ]
  },
  {
   "cell_type": "code",
   "execution_count": 175,
   "id": "3c381a4c-15eb-4f48-bdff-bd0b5872ea53",
   "metadata": {},
   "outputs": [],
   "source": [
    "grad1 = tape.gradient(y,[w])#y = x*w y函数对w求导=》x"
   ]
  },
  {
   "cell_type": "code",
   "execution_count": 176,
   "id": "10b0858b-8a07-4812-8cab-013040b11587",
   "metadata": {},
   "outputs": [
    {
     "data": {
      "text/plain": [
       "[<tf.Tensor: shape=(), dtype=float32, numpy=2.0>]"
      ]
     },
     "execution_count": 176,
     "metadata": {},
     "output_type": "execute_result"
    }
   ],
   "source": [
    "grad1"
   ]
  },
  {
   "cell_type": "code",
   "execution_count": 177,
   "id": "206706ab-6eb0-4252-aa88-9556c05ccd4e",
   "metadata": {},
   "outputs": [],
   "source": [
    "with tf.GradientTape(persistent=True) as tape:#这样可以多次调用tape 但是记得释放显存\n",
    "    tape.watch([w])#表示对w求导\n",
    "    y = x*w"
   ]
  },
  {
   "cell_type": "markdown",
   "id": "ebe6e4f9-3436-478d-8792-ef3fca444372",
   "metadata": {},
   "source": [
    "## 二阶导数"
   ]
  },
  {
   "cell_type": "code",
   "execution_count": 178,
   "id": "bcdf7410-c611-4393-aac1-768c23f7d287",
   "metadata": {},
   "outputs": [],
   "source": [
    "w = tf.Variable(1.0)\n",
    "b = tf.Variable(2.0)\n",
    "x = tf.Variable(3.0)\n",
    "with tf.GradientTape() as t1:\n",
    "    with tf.GradientTape() as t2:\n",
    "        y = x*w +b\n",
    "    dy_dw,dy_db = t2.gradient(y,[w,b])\n",
    "d2y_dw2 = t1.gradient(dy_dw,w)"
   ]
  },
  {
   "cell_type": "code",
   "execution_count": 179,
   "id": "4a55bd00-3640-4f56-95a0-c52b60bceac7",
   "metadata": {},
   "outputs": [
    {
     "name": "stdout",
     "output_type": "stream",
     "text": [
      "tf.Tensor(3.0, shape=(), dtype=float32)\n",
      "tf.Tensor(1.0, shape=(), dtype=float32)\n",
      "None\n"
     ]
    },
    {
     "data": {
      "text/plain": [
       "(None, None, None)"
      ]
     },
     "execution_count": 179,
     "metadata": {},
     "output_type": "execute_result"
    }
   ],
   "source": [
    "print(dy_dw),print(dy_db),print(d2y_dw2)"
   ]
  },
  {
   "cell_type": "markdown",
   "id": "8893a22e-8b70-4ad4-b1d5-010f9b702635",
   "metadata": {},
   "source": [
    "## loss函数的梯度"
   ]
  },
  {
   "cell_type": "code",
   "execution_count": 180,
   "id": "9f7a26f7-ce01-478c-a938-18ae766a4e98",
   "metadata": {},
   "outputs": [],
   "source": [
    "x = tf.random.normal([2,4])\n",
    "w = tf.random.normal([4,3])\n",
    "b = tf.zeros([3])"
   ]
  },
  {
   "cell_type": "code",
   "execution_count": 181,
   "id": "4d60894f-e78e-440b-83d0-fcb84796bba5",
   "metadata": {},
   "outputs": [],
   "source": [
    "y = tf.constant([2,0])"
   ]
  },
  {
   "cell_type": "code",
   "execution_count": 182,
   "id": "bcc6f31e-e5ca-4abb-8e8e-cfb0acc78cbd",
   "metadata": {},
   "outputs": [],
   "source": [
    "with tf.GradientTape() as tape:\n",
    "    tape.watch([w,b])\n",
    "    prob = tf.nn.softmax(x@w+b,axis=1)\n",
    "    loss = tf.reduce_mean(tf.losses.MSE(tf.one_hot(y,depth=3),prob))"
   ]
  },
  {
   "cell_type": "code",
   "execution_count": 183,
   "id": "28ebfe9a-efef-4adf-9767-8b52b541bba6",
   "metadata": {},
   "outputs": [],
   "source": [
    "grads = tape.gradient(loss,[w,b])"
   ]
  },
  {
   "cell_type": "code",
   "execution_count": 184,
   "id": "0df2dd3b-0230-4a70-82e1-ed6d03f04ac5",
   "metadata": {},
   "outputs": [
    {
     "data": {
      "text/plain": [
       "<tf.Tensor: shape=(4, 3), dtype=float32, numpy=\n",
       "array([[ 0.00903962, -0.02584442,  0.01680481],\n",
       "       [ 0.04218085, -0.1104816 ,  0.06830076],\n",
       "       [-0.01526111,  0.03166311, -0.01640197],\n",
       "       [-0.02490862,  0.0549377 , -0.03002904]], dtype=float32)>"
      ]
     },
     "execution_count": 184,
     "metadata": {},
     "output_type": "execute_result"
    }
   ],
   "source": [
    "grads[0]"
   ]
  },
  {
   "cell_type": "code",
   "execution_count": 185,
   "id": "9058c28a-b5a2-4803-8235-0958bcb076f8",
   "metadata": {},
   "outputs": [
    {
     "data": {
      "text/plain": [
       "<tf.Tensor: shape=(3,), dtype=float32, numpy=array([-0.02276498,  0.04890817, -0.02614314], dtype=float32)>"
      ]
     },
     "execution_count": 185,
     "metadata": {},
     "output_type": "execute_result"
    }
   ],
   "source": [
    "grads[1]"
   ]
  },
  {
   "cell_type": "markdown",
   "id": "f380ab94-58c0-44b0-9a12-796a872970a6",
   "metadata": {},
   "source": [
    "## 单输出感知器梯度"
   ]
  },
  {
   "cell_type": "code",
   "execution_count": 186,
   "id": "21212ad1-630b-4e72-a69f-38acf292ccd3",
   "metadata": {},
   "outputs": [],
   "source": [
    "x=tf.random.normal([1,3])\n",
    "w=tf.ones([3,1])\n",
    "b=tf.ones([1])\n",
    "y=tf.constant([1])"
   ]
  },
  {
   "cell_type": "code",
   "execution_count": 187,
   "id": "df45d54e-4e23-48f1-a468-5d9b27ef681f",
   "metadata": {},
   "outputs": [],
   "source": [
    "with tf.GradientTape() as tape:\n",
    "    tape.watch([w,b])\n",
    "    logits = tf.sigmoid(x@w+b)\n",
    "    loss = tf.reduce_mean(tf.losses.MSE(y,logits))"
   ]
  },
  {
   "cell_type": "code",
   "execution_count": 188,
   "id": "4ed48315-a553-4f11-a125-9ce26814af83",
   "metadata": {},
   "outputs": [
    {
     "data": {
      "text/plain": [
       "[<tf.Tensor: shape=(3, 1), dtype=float32, numpy=\n",
       " array([[0.42609313],\n",
       "        [0.06648573],\n",
       "        [0.11102436]], dtype=float32)>,\n",
       " <tf.Tensor: shape=(1,), dtype=float32, numpy=array([-0.27136573], dtype=float32)>]"
      ]
     },
     "execution_count": 188,
     "metadata": {},
     "output_type": "execute_result"
    }
   ],
   "source": [
    "grads = tape.gradient(loss,[w,b])\n",
    "grads"
   ]
  },
  {
   "cell_type": "markdown",
   "id": "b46ebe18-40bf-40fb-abb2-ffde9e335cda",
   "metadata": {},
   "source": [
    "## 多输出感知器的梯度"
   ]
  },
  {
   "cell_type": "code",
   "execution_count": 189,
   "id": "53aeb272-5776-498b-9453-1be0fa1635ac",
   "metadata": {},
   "outputs": [],
   "source": [
    "x = tf.random.normal([2,4])#两个样本\n",
    "w = tf.random.normal([4,3])\n",
    "b = tf.zeros([3])\n",
    "y = tf.constant([2,0])"
   ]
  },
  {
   "cell_type": "code",
   "execution_count": 190,
   "id": "111ab07f-ec1f-4818-95d6-ee1abeb108f7",
   "metadata": {},
   "outputs": [],
   "source": [
    "with tf.GradientTape() as tape:\n",
    "    tape.watch([w,b])\n",
    "    prob = tf.nn.softmax(x@w+b,axis=1)\n",
    "    loss = tf.reduce_mean(tf.losses.MSE(tf.one_hot(y,depth=3),prob))"
   ]
  },
  {
   "cell_type": "code",
   "execution_count": 191,
   "id": "519e8f22-c9e6-459a-a5c2-9e6e5b6e8e4d",
   "metadata": {},
   "outputs": [],
   "source": [
    "grads = tape.gradient(loss,[w,b])#loss对w,b求导"
   ]
  },
  {
   "cell_type": "code",
   "execution_count": 192,
   "id": "73ea6f9f-7a9b-47c2-959e-aba46e93cd41",
   "metadata": {},
   "outputs": [
    {
     "data": {
      "text/plain": [
       "(<tf.Tensor: shape=(4, 3), dtype=float32, numpy=\n",
       " array([[ 0.17480212, -0.02806984, -0.14673227],\n",
       "        [-0.09689691, -0.01027956,  0.10717646],\n",
       "        [ 0.03774267,  0.00248799, -0.04023065],\n",
       "        [ 0.0744014 , -0.00920267, -0.06519873]], dtype=float32)>,\n",
       " <tf.Tensor: shape=(3,), dtype=float32, numpy=array([-0.06824651,  0.0142503 ,  0.0539962 ], dtype=float32)>)"
      ]
     },
     "execution_count": 192,
     "metadata": {},
     "output_type": "execute_result"
    }
   ],
   "source": [
    "grads[0],grads[1]"
   ]
  },
  {
   "cell_type": "markdown",
   "id": "5deeab43-3493-4366-b598-34104be22e21",
   "metadata": {},
   "source": [
    "## 多层感知器的梯度"
   ]
  },
  {
   "cell_type": "markdown",
   "id": "4ce72cd5-9bb0-49ae-9117-f5ed2c77966b",
   "metadata": {},
   "source": [
    "### plot"
   ]
  },
  {
   "cell_type": "code",
   "execution_count": 193,
   "id": "50dfc6cb-76f2-4daa-a70f-b20eab240095",
   "metadata": {},
   "outputs": [],
   "source": [
    "import matplotlib.pyplot as plt\n",
    "def himmelblau(x):\n",
    "    return (x[0] ** 2 +x[1]-11) ** 2 + (x[0] + x[1] ** 2 -7) ** 2"
   ]
  },
  {
   "cell_type": "code",
   "execution_count": 194,
   "id": "cbf5b026-391e-41cb-84df-eb9894249548",
   "metadata": {},
   "outputs": [],
   "source": [
    "x = np.arange(-6,6,0.1)\n",
    "y = np.arange(-6,6,0.1)"
   ]
  },
  {
   "cell_type": "code",
   "execution_count": 195,
   "id": "5aa612f0-eace-4128-bb31-1780d5fa68a9",
   "metadata": {},
   "outputs": [
    {
     "name": "stdout",
     "output_type": "stream",
     "text": [
      "x,y range: (120,) (120,)\n",
      "X,Y maps: (120, 120) (120, 120)\n"
     ]
    }
   ],
   "source": [
    "print('x,y range:',x.shape,y.shape)\n",
    "X,Y = np.meshgrid(x,y)\n",
    "print('X,Y maps:',X.shape,Y.shape)\n",
    "Z = himmelblau([X,Y])"
   ]
  },
  {
   "cell_type": "code",
   "execution_count": 196,
   "id": "6d759a22-288f-4f33-a10d-178ce4d776ab",
   "metadata": {},
   "outputs": [
    {
     "name": "stderr",
     "output_type": "stream",
     "text": [
      "/tmp/ipykernel_5876/3718272531.py:2: MatplotlibDeprecationWarning: Calling gca() with keyword arguments was deprecated in Matplotlib 3.4. Starting two minor releases later, gca() will take no keyword arguments. The gca() function should only be used to get the current axes, or if no axes exist, create new axes with default keyword arguments. To create a new axes with non-default arguments, use plt.axes() or plt.subplot().\n",
      "  ax = fig.gca(projection='3d')\n"
     ]
    },
    {
     "data": {
      "image/png": "[encoded data removed]",
      "text/plain": [
       "<Figure size 432x288 with 1 Axes>"
      ]
     },
     "metadata": {
      "needs_background": "light"
     },
     "output_type": "display_data"
    }
   ],
   "source": [
    "fig = plt.figure('himmelblau')\n",
    "ax = fig.gca(projection='3d')\n",
    "ax.plot_surface(X,Y,Z)\n",
    "ax.view_init(60,-30)\n",
    "ax.set_xlabel('x')\n",
    "ax.set_ylabel('y')\n",
    "plt.show()"
   ]
  },
  {
   "cell_type": "markdown",
   "id": "e7bc5d72-eb73-4e60-8cee-ea11b0ecb62f",
   "metadata": {},
   "source": [
    "### 计算梯度"
   ]
  },
  {
   "cell_type": "code",
   "execution_count": 197,
   "id": "f76aee44-0c47-4e47-8f1f-e821bfe9b63f",
   "metadata": {},
   "outputs": [
    {
     "name": "stdout",
     "output_type": "stream",
     "text": [
      "step0:x = [-2.98       -0.09999999],f(x)=146.0\n",
      "step1:x = [-3.0451765  -0.09548798],f(x)=104.32752990722656\n",
      "step2:x = [-3.066435   -0.09737314],f(x)=104.04356384277344\n",
      "step3:x = [-3.0731204  -0.10265726],f(x)=104.01313018798828\n",
      "step4:x = [-3.0757504  -0.11080538],f(x)=104.0064697265625\n",
      "step5:x = [-3.07755    -0.12239755],f(x)=103.99784851074219\n",
      "step6:x = [-3.0795503  -0.13864122],f(x)=103.98136901855469\n",
      "step7:x = [-3.0822113  -0.16133206],f(x)=103.94928741455078\n",
      "step8:x = [-3.0859075  -0.19300133],f(x)=103.88674926757812\n",
      "step9:x = [-3.0910947  -0.23717397],f(x)=103.76502227783203\n",
      "step10:x = [-3.0984046 -0.298728 ],f(x)=103.52823638916016\n",
      "step11:x = [-3.1087415  -0.38435638],f(x)=103.06871795654297\n",
      "step12:x = [-3.1234128 -0.5030979],f(x)=102.18043518066406\n",
      "step13:x = [-3.1443195 -0.6667793],f(x)=100.47628784179688\n",
      "step14:x = [-3.1742048 -0.8898816],f(x)=97.25318908691406\n",
      "step15:x = [-3.2169178 -1.1875615],f(x)=91.3195571899414\n",
      "step16:x = [-3.2774222 -1.5691173],f(x)=80.93840789794922\n",
      "step17:x = [-3.3607118 -2.0230894],f(x)=64.41900634765625\n",
      "step18:x = [-3.4677427 -2.4957297],f(x)=42.27400588989258\n",
      "step19:x = [-3.5869324 -2.8895032],f(x)=20.132104873657227\n",
      "step20:x = [-3.6890159 -3.1276689],f(x)=6.054703235626221\n",
      "step21:x = [-3.7474408 -3.230727 ],f(x)=1.0912970304489136\n",
      "step22:x = [-3.769337  -3.2670195],f(x)=0.13112768530845642\n",
      "step23:x = [-3.776332 -3.278372],f(x)=0.01269572414457798\n",
      "step24:x = [-3.7784317 -3.2817698],f(x)=0.0011313280556350946\n",
      "step25:x = [-3.7790527 -3.2827704],f(x)=9.817273530643433e-05\n",
      "step26:x = [-3.7792346 -3.2830644],f(x)=8.448574590147473e-06\n",
      "step27:x = [-3.7792883 -3.2831502],f(x)=7.251837814692408e-07\n",
      "step28:x = [-3.7793036 -3.2831755],f(x)=6.205027602845803e-08\n",
      "step29:x = [-3.7793083 -3.2831829],f(x)=5.446963768918067e-09\n",
      "step30:x = [-3.7793097 -3.2831852],f(x)=4.94765117764473e-10\n",
      "step31:x = [-3.77931   -3.2831857],f(x)=2.660272002685815e-11\n",
      "step32:x = [-3.7793102 -3.283186 ],f(x)=7.275957614183426e-12\n",
      "step33:x = [-3.7793102 -3.283186 ],f(x)=0.0\n",
      "step34:x = [-3.7793102 -3.283186 ],f(x)=0.0\n",
      "step35:x = [-3.7793102 -3.283186 ],f(x)=0.0\n",
      "step36:x = [-3.7793102 -3.283186 ],f(x)=0.0\n",
      "step37:x = [-3.7793102 -3.283186 ],f(x)=0.0\n",
      "step38:x = [-3.7793102 -3.283186 ],f(x)=0.0\n",
      "step39:x = [-3.7793102 -3.283186 ],f(x)=0.0\n",
      "step40:x = [-3.7793102 -3.283186 ],f(x)=0.0\n",
      "step41:x = [-3.7793102 -3.283186 ],f(x)=0.0\n",
      "step42:x = [-3.7793102 -3.283186 ],f(x)=0.0\n",
      "step43:x = [-3.7793102 -3.283186 ],f(x)=0.0\n",
      "step44:x = [-3.7793102 -3.283186 ],f(x)=0.0\n",
      "step45:x = [-3.7793102 -3.283186 ],f(x)=0.0\n",
      "step46:x = [-3.7793102 -3.283186 ],f(x)=0.0\n",
      "step47:x = [-3.7793102 -3.283186 ],f(x)=0.0\n",
      "step48:x = [-3.7793102 -3.283186 ],f(x)=0.0\n",
      "step49:x = [-3.7793102 -3.283186 ],f(x)=0.0\n",
      "step50:x = [-3.7793102 -3.283186 ],f(x)=0.0\n",
      "step51:x = [-3.7793102 -3.283186 ],f(x)=0.0\n",
      "step52:x = [-3.7793102 -3.283186 ],f(x)=0.0\n",
      "step53:x = [-3.7793102 -3.283186 ],f(x)=0.0\n",
      "step54:x = [-3.7793102 -3.283186 ],f(x)=0.0\n",
      "step55:x = [-3.7793102 -3.283186 ],f(x)=0.0\n",
      "step56:x = [-3.7793102 -3.283186 ],f(x)=0.0\n",
      "step57:x = [-3.7793102 -3.283186 ],f(x)=0.0\n",
      "step58:x = [-3.7793102 -3.283186 ],f(x)=0.0\n",
      "step59:x = [-3.7793102 -3.283186 ],f(x)=0.0\n",
      "step60:x = [-3.7793102 -3.283186 ],f(x)=0.0\n",
      "step61:x = [-3.7793102 -3.283186 ],f(x)=0.0\n",
      "step62:x = [-3.7793102 -3.283186 ],f(x)=0.0\n",
      "step63:x = [-3.7793102 -3.283186 ],f(x)=0.0\n",
      "step64:x = [-3.7793102 -3.283186 ],f(x)=0.0\n",
      "step65:x = [-3.7793102 -3.283186 ],f(x)=0.0\n",
      "step66:x = [-3.7793102 -3.283186 ],f(x)=0.0\n",
      "step67:x = [-3.7793102 -3.283186 ],f(x)=0.0\n",
      "step68:x = [-3.7793102 -3.283186 ],f(x)=0.0\n",
      "step69:x = [-3.7793102 -3.283186 ],f(x)=0.0\n",
      "step70:x = [-3.7793102 -3.283186 ],f(x)=0.0\n",
      "step71:x = [-3.7793102 -3.283186 ],f(x)=0.0\n",
      "step72:x = [-3.7793102 -3.283186 ],f(x)=0.0\n",
      "step73:x = [-3.7793102 -3.283186 ],f(x)=0.0\n",
      "step74:x = [-3.7793102 -3.283186 ],f(x)=0.0\n",
      "step75:x = [-3.7793102 -3.283186 ],f(x)=0.0\n",
      "step76:x = [-3.7793102 -3.283186 ],f(x)=0.0\n",
      "step77:x = [-3.7793102 -3.283186 ],f(x)=0.0\n",
      "step78:x = [-3.7793102 -3.283186 ],f(x)=0.0\n",
      "step79:x = [-3.7793102 -3.283186 ],f(x)=0.0\n",
      "step80:x = [-3.7793102 -3.283186 ],f(x)=0.0\n",
      "step81:x = [-3.7793102 -3.283186 ],f(x)=0.0\n",
      "step82:x = [-3.7793102 -3.283186 ],f(x)=0.0\n",
      "step83:x = [-3.7793102 -3.283186 ],f(x)=0.0\n",
      "step84:x = [-3.7793102 -3.283186 ],f(x)=0.0\n",
      "step85:x = [-3.7793102 -3.283186 ],f(x)=0.0\n",
      "step86:x = [-3.7793102 -3.283186 ],f(x)=0.0\n",
      "step87:x = [-3.7793102 -3.283186 ],f(x)=0.0\n",
      "step88:x = [-3.7793102 -3.283186 ],f(x)=0.0\n",
      "step89:x = [-3.7793102 -3.283186 ],f(x)=0.0\n",
      "step90:x = [-3.7793102 -3.283186 ],f(x)=0.0\n",
      "step91:x = [-3.7793102 -3.283186 ],f(x)=0.0\n",
      "step92:x = [-3.7793102 -3.283186 ],f(x)=0.0\n",
      "step93:x = [-3.7793102 -3.283186 ],f(x)=0.0\n",
      "step94:x = [-3.7793102 -3.283186 ],f(x)=0.0\n",
      "step95:x = [-3.7793102 -3.283186 ],f(x)=0.0\n",
      "step96:x = [-3.7793102 -3.283186 ],f(x)=0.0\n",
      "step97:x = [-3.7793102 -3.283186 ],f(x)=0.0\n",
      "step98:x = [-3.7793102 -3.283186 ],f(x)=0.0\n",
      "step99:x = [-3.7793102 -3.283186 ],f(x)=0.0\n",
      "step100:x = [-3.7793102 -3.283186 ],f(x)=0.0\n",
      "step101:x = [-3.7793102 -3.283186 ],f(x)=0.0\n",
      "step102:x = [-3.7793102 -3.283186 ],f(x)=0.0\n",
      "step103:x = [-3.7793102 -3.283186 ],f(x)=0.0\n",
      "step104:x = [-3.7793102 -3.283186 ],f(x)=0.0\n",
      "step105:x = [-3.7793102 -3.283186 ],f(x)=0.0\n",
      "step106:x = [-3.7793102 -3.283186 ],f(x)=0.0\n",
      "step107:x = [-3.7793102 -3.283186 ],f(x)=0.0\n",
      "step108:x = [-3.7793102 -3.283186 ],f(x)=0.0\n",
      "step109:x = [-3.7793102 -3.283186 ],f(x)=0.0\n",
      "step110:x = [-3.7793102 -3.283186 ],f(x)=0.0\n",
      "step111:x = [-3.7793102 -3.283186 ],f(x)=0.0\n",
      "step112:x = [-3.7793102 -3.283186 ],f(x)=0.0\n",
      "step113:x = [-3.7793102 -3.283186 ],f(x)=0.0\n",
      "step114:x = [-3.7793102 -3.283186 ],f(x)=0.0\n",
      "step115:x = [-3.7793102 -3.283186 ],f(x)=0.0\n",
      "step116:x = [-3.7793102 -3.283186 ],f(x)=0.0\n",
      "step117:x = [-3.7793102 -3.283186 ],f(x)=0.0\n",
      "step118:x = [-3.7793102 -3.283186 ],f(x)=0.0\n",
      "step119:x = [-3.7793102 -3.283186 ],f(x)=0.0\n",
      "step120:x = [-3.7793102 -3.283186 ],f(x)=0.0\n",
      "step121:x = [-3.7793102 -3.283186 ],f(x)=0.0\n",
      "step122:x = [-3.7793102 -3.283186 ],f(x)=0.0\n",
      "step123:x = [-3.7793102 -3.283186 ],f(x)=0.0\n",
      "step124:x = [-3.7793102 -3.283186 ],f(x)=0.0\n",
      "step125:x = [-3.7793102 -3.283186 ],f(x)=0.0\n",
      "step126:x = [-3.7793102 -3.283186 ],f(x)=0.0\n",
      "step127:x = [-3.7793102 -3.283186 ],f(x)=0.0\n",
      "step128:x = [-3.7793102 -3.283186 ],f(x)=0.0\n",
      "step129:x = [-3.7793102 -3.283186 ],f(x)=0.0\n",
      "step130:x = [-3.7793102 -3.283186 ],f(x)=0.0\n",
      "step131:x = [-3.7793102 -3.283186 ],f(x)=0.0\n",
      "step132:x = [-3.7793102 -3.283186 ],f(x)=0.0\n",
      "step133:x = [-3.7793102 -3.283186 ],f(x)=0.0\n",
      "step134:x = [-3.7793102 -3.283186 ],f(x)=0.0\n",
      "step135:x = [-3.7793102 -3.283186 ],f(x)=0.0\n",
      "step136:x = [-3.7793102 -3.283186 ],f(x)=0.0\n",
      "step137:x = [-3.7793102 -3.283186 ],f(x)=0.0\n",
      "step138:x = [-3.7793102 -3.283186 ],f(x)=0.0\n",
      "step139:x = [-3.7793102 -3.283186 ],f(x)=0.0\n",
      "step140:x = [-3.7793102 -3.283186 ],f(x)=0.0\n",
      "step141:x = [-3.7793102 -3.283186 ],f(x)=0.0\n",
      "step142:x = [-3.7793102 -3.283186 ],f(x)=0.0\n",
      "step143:x = [-3.7793102 -3.283186 ],f(x)=0.0\n",
      "step144:x = [-3.7793102 -3.283186 ],f(x)=0.0\n",
      "step145:x = [-3.7793102 -3.283186 ],f(x)=0.0\n",
      "step146:x = [-3.7793102 -3.283186 ],f(x)=0.0\n",
      "step147:x = [-3.7793102 -3.283186 ],f(x)=0.0\n",
      "step148:x = [-3.7793102 -3.283186 ],f(x)=0.0\n",
      "step149:x = [-3.7793102 -3.283186 ],f(x)=0.0\n",
      "step150:x = [-3.7793102 -3.283186 ],f(x)=0.0\n",
      "step151:x = [-3.7793102 -3.283186 ],f(x)=0.0\n",
      "step152:x = [-3.7793102 -3.283186 ],f(x)=0.0\n",
      "step153:x = [-3.7793102 -3.283186 ],f(x)=0.0\n",
      "step154:x = [-3.7793102 -3.283186 ],f(x)=0.0\n",
      "step155:x = [-3.7793102 -3.283186 ],f(x)=0.0\n",
      "step156:x = [-3.7793102 -3.283186 ],f(x)=0.0\n",
      "step157:x = [-3.7793102 -3.283186 ],f(x)=0.0\n",
      "step158:x = [-3.7793102 -3.283186 ],f(x)=0.0\n",
      "step159:x = [-3.7793102 -3.283186 ],f(x)=0.0\n",
      "step160:x = [-3.7793102 -3.283186 ],f(x)=0.0\n",
      "step161:x = [-3.7793102 -3.283186 ],f(x)=0.0\n",
      "step162:x = [-3.7793102 -3.283186 ],f(x)=0.0\n",
      "step163:x = [-3.7793102 -3.283186 ],f(x)=0.0\n",
      "step164:x = [-3.7793102 -3.283186 ],f(x)=0.0\n",
      "step165:x = [-3.7793102 -3.283186 ],f(x)=0.0\n",
      "step166:x = [-3.7793102 -3.283186 ],f(x)=0.0\n",
      "step167:x = [-3.7793102 -3.283186 ],f(x)=0.0\n",
      "step168:x = [-3.7793102 -3.283186 ],f(x)=0.0\n",
      "step169:x = [-3.7793102 -3.283186 ],f(x)=0.0\n",
      "step170:x = [-3.7793102 -3.283186 ],f(x)=0.0\n",
      "step171:x = [-3.7793102 -3.283186 ],f(x)=0.0\n",
      "step172:x = [-3.7793102 -3.283186 ],f(x)=0.0\n",
      "step173:x = [-3.7793102 -3.283186 ],f(x)=0.0\n",
      "step174:x = [-3.7793102 -3.283186 ],f(x)=0.0\n",
      "step175:x = [-3.7793102 -3.283186 ],f(x)=0.0\n",
      "step176:x = [-3.7793102 -3.283186 ],f(x)=0.0\n",
      "step177:x = [-3.7793102 -3.283186 ],f(x)=0.0\n",
      "step178:x = [-3.7793102 -3.283186 ],f(x)=0.0\n",
      "step179:x = [-3.7793102 -3.283186 ],f(x)=0.0\n",
      "step180:x = [-3.7793102 -3.283186 ],f(x)=0.0\n",
      "step181:x = [-3.7793102 -3.283186 ],f(x)=0.0\n",
      "step182:x = [-3.7793102 -3.283186 ],f(x)=0.0\n",
      "step183:x = [-3.7793102 -3.283186 ],f(x)=0.0\n",
      "step184:x = [-3.7793102 -3.283186 ],f(x)=0.0\n",
      "step185:x = [-3.7793102 -3.283186 ],f(x)=0.0\n",
      "step186:x = [-3.7793102 -3.283186 ],f(x)=0.0\n",
      "step187:x = [-3.7793102 -3.283186 ],f(x)=0.0\n",
      "step188:x = [-3.7793102 -3.283186 ],f(x)=0.0\n",
      "step189:x = [-3.7793102 -3.283186 ],f(x)=0.0\n",
      "step190:x = [-3.7793102 -3.283186 ],f(x)=0.0\n",
      "step191:x = [-3.7793102 -3.283186 ],f(x)=0.0\n",
      "step192:x = [-3.7793102 -3.283186 ],f(x)=0.0\n",
      "step193:x = [-3.7793102 -3.283186 ],f(x)=0.0\n",
      "step194:x = [-3.7793102 -3.283186 ],f(x)=0.0\n",
      "step195:x = [-3.7793102 -3.283186 ],f(x)=0.0\n",
      "step196:x = [-3.7793102 -3.283186 ],f(x)=0.0\n",
      "step197:x = [-3.7793102 -3.283186 ],f(x)=0.0\n",
      "step198:x = [-3.7793102 -3.283186 ],f(x)=0.0\n",
      "step199:x = [-3.7793102 -3.283186 ],f(x)=0.0\n"
     ]
    }
   ],
   "source": [
    "x = tf.constant([-4.,0.])\n",
    "for step in range(200):\n",
    "    with tf.GradientTape() as tape:\n",
    "        tape.watch([x])\n",
    "        y = himmelblau(x)\n",
    "    grads = tape.gradient(y,[x])[0]   \n",
    "    x-=0.01*grads\n",
    "    print('step{}:x = {},f(x)={}'.format(step,x,y))"
   ]
  },
  {
   "cell_type": "markdown",
   "id": "5d25cff9-33af-4e2d-a5e5-c4683f5fa23f",
   "metadata": {},
   "source": [
    "# 自定义层或网络"
   ]
  },
  {
   "cell_type": "markdown",
   "id": "842fdcfb-c6fe-4fdd-8a4b-251f6e1eaa73",
   "metadata": {},
   "source": [
    "## 自定义Dense"
   ]
  },
  {
   "cell_type": "code",
   "execution_count": 198,
   "id": "a3981765-34fc-45ed-b4da-757680894081",
   "metadata": {},
   "outputs": [],
   "source": [
    "class MyDense(tf.keras.layers.Layer):\n",
    "    def __init_(self,inp_dim,outp_dim):\n",
    "        super(MyDense,self).__init__()\n",
    "        \n",
    "        self.kernel = self.add_variable('w',[inp_dim,outp_dim])#必须使用add_variable，不能用tf.constant\n",
    "        self.bias = self.add_variable('b',[outp_dim])\n",
    "        \n",
    "    def call(self,inputs,training=None):#training逻辑or test逻辑\n",
    "        out = inputs @ self.kernel +self.bias\n",
    "        return out"
   ]
  },
  {
   "cell_type": "code",
   "execution_count": 199,
   "id": "c6d7a8dc-0cc2-4a51-9e97-105736619bd9",
   "metadata": {},
   "outputs": [],
   "source": [
    "class MyModel(tf.keras.Model):\n",
    "    def __init_(self):\n",
    "        super(MyModel,self).__init__()#使用母类方法初始化\n",
    "        self.fc1 = MyDense(28*28,256)\n",
    "        self.fc2 = MyDense(256,128)\n",
    "        self.fc3 = MyDense(128,64)\n",
    "        self.fc4 = MyDense(64,32)\n",
    "        self.fc5 = MyDense(32,10)\n",
    "    def call(self,input,training=None):\n",
    "        x = self.fc1(inputs)\n",
    "        x = tf.nn.relu(x)\n",
    "        x = self.fc2(x)\n",
    "        x = tf.nn.relu(x)\n",
    "        x = self.fc3(x)\n",
    "        x = tf.nn.relu(x)\n",
    "        x = self.fc4(x)\n",
    "        x = tf.nn.relu(x)\n",
    "        x = self.f(x)\n",
    "        return xc5\n",
    "        "
   ]
  },
  {
   "cell_type": "markdown",
   "id": "0fed0833-700b-4977-a3ca-c2e30827c30e",
   "metadata": {},
   "source": [
    "# 模型保存和加载"
   ]
  },
  {
   "cell_type": "markdown",
   "id": "2465114e-6a10-43dd-b5e7-26e1fd090971",
   "metadata": {},
   "source": [
    "## 保存"
   ]
  },
  {
   "cell_type": "code",
   "execution_count": 200,
   "id": "c421c26b-f3cf-4a25-8ab2-f181b8a770f7",
   "metadata": {},
   "outputs": [],
   "source": [
    "#创建模型\n",
    "def make_network():\n",
    "    model = tf.keras.models.Sequential([tf.keras.layers.Dense(units=256,activation=tf.nn.relu),\n",
    "                                       tf.keras.layers.Dense(units=128,activation=tf.nn.relu),\n",
    "                                       tf.keras.layers.Dense(units=64,activation=tf.nn.relu),\n",
    "                                       tf.keras.layers.Dense(units=32,activation=tf.nn.relu),\n",
    "                                       tf.keras.layers.Dense(units=10)])\n",
    "    model.build(input_shape=[None,28*28])\n",
    "    model.compile(optimizer=tf.keras.optimizers.Adam(lr = 0.01),\n",
    "                 loss=tf.losses.CategoricalCrossentropy(from_logits=True),\n",
    "                 metrics=['accuracy'])\n",
    "    return model"
   ]
  },
  {
   "cell_type": "code",
   "execution_count": 201,
   "id": "b9ba2d10-0bae-4cf6-8b92-68408476eb6d",
   "metadata": {},
   "outputs": [],
   "source": [
    "#数据加载\n",
    "(train_x,train_y),(test_x,test_y) = tf.keras.datasets.fashion_mnist.load_data()\n",
    "train_x = tf.reshape(train_x,shape=[-1,28*28])\n",
    "train_y = tf.one_hot(train_y,depth=10)\n",
    "test_x = tf.reshape(test_x,shape=[-1,28*28])\n",
    "test_y = tf.one_hot(test_y,depth=10)\n",
    "def preprocess(x,y):\n",
    "    x = tf.cast(x,dtype=tf.float32)/255.\n",
    "    y = tf.cast(y,dtype=tf.int32)\n",
    "    return x,y\n",
    "db = tf.data.Dataset.from_tensor_slices((train_x,train_y))\n",
    "db = db.map(preprocess).shuffle(10000).batch(128)#传入数据预处理进行预处理,.batch是dataset中的一种分类方法，.shuffle表示打乱，10000是打乱的随机数\n",
    "\n",
    "db_test = tf.data.Dataset.from_tensor_slices((test_x,test_y))\n",
    "db_test = db_test.map(preprocess).batch(128)"
   ]
  },
  {
   "cell_type": "code",
   "execution_count": 202,
   "id": "f9570206-e087-4759-a1e7-c632fc11b1cc",
   "metadata": {},
   "outputs": [
    {
     "name": "stdout",
     "output_type": "stream",
     "text": [
      "Epoch 1/3\n"
     ]
    },
    {
     "name": "stderr",
     "output_type": "stream",
     "text": [
      "2021-11-02 10:27:03.035748: I tensorflow/compiler/mlir/mlir_graph_optimization_pass.cc:116] None of the MLIR optimization passes are enabled (registered 2)\n",
      "2021-11-02 10:27:03.057743: I tensorflow/core/platform/profile_utils/cpu_utils.cc:112] CPU Frequency: 3600000000 Hz\n"
     ]
    },
    {
     "name": "stdout",
     "output_type": "stream",
     "text": [
      "469/469 [==============================] - 5s 9ms/step - loss: 0.8183 - accuracy: 0.7095\n",
      "Epoch 2/3\n",
      "469/469 [==============================] - 7s 15ms/step - loss: 0.4142 - accuracy: 0.8501 - val_loss: 0.4446 - val_accuracy: 0.8441\n",
      "Epoch 3/3\n",
      "469/469 [==============================] - 5s 11ms/step - loss: 0.3806 - accuracy: 0.8624\n",
      "79/79 [==============================] - 1s 7ms/step - loss: 0.4252 - accuracy: 0.8444\n"
     ]
    },
    {
     "data": {
      "text/plain": [
       "[0.42522329092025757, 0.8443999886512756]"
      ]
     },
     "execution_count": 202,
     "metadata": {},
     "output_type": "execute_result"
    }
   ],
   "source": [
    "#训练模型\n",
    "model = make_network()\n",
    "# model.summary()\n",
    "model.fit(db,epochs=3,validation_data=db_test,validation_freq=2)#validation_freq=2表示没测试两批输出一个精确度\n",
    "model.evaluate(db_test)"
   ]
  },
  {
   "cell_type": "markdown",
   "id": "558a724c-a1cb-4566-80e7-3c9707bb8375",
   "metadata": {},
   "source": [
    "### model.save.weights('weights.ckpt')"
   ]
  },
  {
   "cell_type": "code",
   "execution_count": 203,
   "id": "3122df9e-91aa-47c5-abac-b32b112125e2",
   "metadata": {},
   "outputs": [
    {
     "name": "stdout",
     "output_type": "stream",
     "text": [
      "saved weights\n"
     ]
    }
   ],
   "source": [
    "model.save_weights('weights.ckpt')#在当前目录保存\n",
    "print('saved weights')\n",
    "del model"
   ]
  },
  {
   "cell_type": "markdown",
   "id": "d28f26f4-583e-4fbc-889a-d853cbf79c6c",
   "metadata": {},
   "source": [
    "### new_model.load_weights（）加载"
   ]
  },
  {
   "cell_type": "code",
   "execution_count": 204,
   "id": "60eaf604-8e22-4d6c-b6f0-440527a066a3",
   "metadata": {},
   "outputs": [
    {
     "name": "stdout",
     "output_type": "stream",
     "text": [
      "loaded weights!\n",
      "79/79 [==============================] - 1s 8ms/step - loss: 0.4231 - accuracy: 0.8430\n"
     ]
    },
    {
     "data": {
      "text/plain": [
       "[0.42522329092025757, 0.8443999886512756]"
      ]
     },
     "execution_count": 204,
     "metadata": {},
     "output_type": "execute_result"
    }
   ],
   "source": [
    "model = make_network()\n",
    "model.load_weights('weights.ckpt')\n",
    "print('loaded weights!')\n",
    "model.evaluate(db_test)"
   ]
  },
  {
   "cell_type": "markdown",
   "id": "e22d6827-b768-4ffa-82da-5e65c850f506",
   "metadata": {},
   "source": [
    "### model.save()"
   ]
  },
  {
   "cell_type": "code",
   "execution_count": 205,
   "id": "ac2d9ea9-9af9-4f28-afdd-739c6a182e5c",
   "metadata": {},
   "outputs": [
    {
     "name": "stdout",
     "output_type": "stream",
     "text": [
      "saved total model\n"
     ]
    }
   ],
   "source": [
    "model.save('model.h5')\n",
    "print('saved total model')\n",
    "del model"
   ]
  },
  {
   "cell_type": "code",
   "execution_count": 206,
   "id": "1ca7fea4-35f0-4bd4-b2ec-5a71719ee1c2",
   "metadata": {},
   "outputs": [
    {
     "name": "stdout",
     "output_type": "stream",
     "text": [
      "WARNING:tensorflow:Error in loading the saved optimizer state. As a result, your model is starting with a freshly initialized optimizer.\n",
      "79/79 [==============================] - 1s 8ms/step - loss: 0.4252 - accuracy: 0.8444\n"
     ]
    },
    {
     "data": {
      "text/plain": [
       "[0.42522329092025757, 0.8443999886512756]"
      ]
     },
     "execution_count": 206,
     "metadata": {},
     "output_type": "execute_result"
    }
   ],
   "source": [
    "model = tf.keras.models.load_model('model.h5')\n",
    "model.evaluate(db_test)"
   ]
  },
  {
   "cell_type": "markdown",
   "id": "56eb7ca3-2e88-494f-a75f-0bd63578e301",
   "metadata": {},
   "source": [
    "### tf.saved_model.save() 通用方法,保存的模型可以被c++、pytorch使用"
   ]
  },
  {
   "cell_type": "code",
   "execution_count": 207,
   "id": "8d485e74-2391-44d0-90f9-2702c4d6f689",
   "metadata": {},
   "outputs": [
    {
     "name": "stdout",
     "output_type": "stream",
     "text": [
      "WARNING:tensorflow:Unresolved object in checkpoint: (root).optimizer.iter\n",
      "WARNING:tensorflow:Unresolved object in checkpoint: (root).optimizer.beta_1\n",
      "WARNING:tensorflow:Unresolved object in checkpoint: (root).optimizer.beta_2\n",
      "WARNING:tensorflow:Unresolved object in checkpoint: (root).optimizer.decay\n",
      "WARNING:tensorflow:Unresolved object in checkpoint: (root).optimizer.learning_rate\n",
      "WARNING:tensorflow:A checkpoint was restored (e.g. tf.train.Checkpoint.restore or tf.keras.Model.load_weights) but not all checkpointed values were used. See above for specific issues. Use expect_partial() on the load status object, e.g. tf.train.Checkpoint.restore(...).expect_partial(), to silence these warnings, or use assert_consumed() to make the check explicit. See https://www.tensorflow.org/guide/checkpoint#loading_mechanics for details.\n"
     ]
    },
    {
     "name": "stderr",
     "output_type": "stream",
     "text": [
      "2021-11-02 10:27:23.100687: W tensorflow/python/util/util.cc:348] Sets are not currently considered sequences, but this may change in the future, so consider avoiding using them.\n"
     ]
    },
    {
     "name": "stdout",
     "output_type": "stream",
     "text": [
      "INFO:tensorflow:Assets written to: model_all/assets\n"
     ]
    }
   ],
   "source": [
    "tf.saved_model.save(model,'model_all')\n",
    "del model"
   ]
  },
  {
   "cell_type": "code",
   "execution_count": 208,
   "id": "be0f201f-8d52-447a-b1d1-f25415a38e5b",
   "metadata": {},
   "outputs": [
    {
     "data": {
      "text/plain": [
       "{'dense_11': <tf.Tensor: shape=(1, 10), dtype=float32, numpy=\n",
       " array([[-2370.7434 , -2372.072  , -3476.7598 , -3198.3362 , -1991.9661 ,\n",
       "           508.01358, -2317.6155 ,  2202.2544 ,  -791.62897,  3251.2656 ]],\n",
       "       dtype=float32)>}"
      ]
     },
     "execution_count": 208,
     "metadata": {},
     "output_type": "execute_result"
    }
   ],
   "source": [
    "imported = tf.saved_model.load('model_all')\n",
    "model = imported.signatures['serving_default']\n",
    "x = train_x[0]\n",
    "x = tf.cast(x,dtype=tf.float32)\n",
    "x = tf.expand_dims(x,axis=0)\n",
    "model(x)#x是一个样本的张量,不能使用tf.evaluate"
   ]
  },
  {
   "cell_type": "markdown",
   "id": "fe4afc11-cf32-4b2a-b8f2-b69cd0c82081",
   "metadata": {},
   "source": [
    "# 交叉验证"
   ]
  },
  {
   "cell_type": "markdown",
   "id": "d849def2-b2a6-4a3a-b60f-8e5ba5a490eb",
   "metadata": {},
   "source": [
    "model.fit(db_train_val,epoch=6,validation_split=0.1,validation_freq=2)"
   ]
  },
  {
   "cell_type": "code",
   "execution_count": 209,
   "id": "e1d3d531-c24f-4508-90b9-1961dbd4768f",
   "metadata": {},
   "outputs": [
    {
     "data": {
      "text/plain": [
       "TensorShape([2])"
      ]
     },
     "execution_count": 209,
     "metadata": {},
     "output_type": "execute_result"
    }
   ],
   "source": [
    "a = tf.constant([1,0])\n",
    "b = tf.constant([])\n",
    "a.shape"
   ]
  },
  {
   "cell_type": "markdown",
   "id": "bcc96924-a49d-44c4-9ca6-9072746f3386",
   "metadata": {},
   "source": [
    "## tf.keras.layers.BatchNormalization() 可以把特定维度的值按照正态分布逐步逼近，类似于sigmod\n",
    "## tf.keras.layers.GlobalMaxPool2D()#用在不确定输出大小,会把所有的像素都均值化\n",
    "## 优化-动量梯度下降，让权值的变换基于之前变化影响\n",
    "## 损失函数-正则化，修剪损失函数的高阶项 防止过拟合\n",
    "## early stopping 、dropout层 防止过拟合\n",
    "## 动态学习率，越往后学习率越小，防止波动"
   ]
  },
  {
   "cell_type": "markdown",
   "id": "96893c50-1079-4d88-ac73-8440874bee04",
   "metadata": {},
   "source": [
    "# RNN"
   ]
  },
  {
   "cell_type": "code",
   "execution_count": 210,
   "id": "13d88143-7edc-42fc-b9f6-d6cf5f280269",
   "metadata": {},
   "outputs": [
    {
     "data": {
      "text/plain": [
       "<tensorflow.python.keras.layers.embeddings.Embedding at 0x7f24fc059610>"
      ]
     },
     "execution_count": 210,
     "metadata": {},
     "output_type": "execute_result"
    }
   ],
   "source": [
    "tf.keras.layers.Embedding(10,4)#10表示有多少样本，4表示每个样本的维度，这个层用语把非数字的npl转化为数字"
   ]
  },
  {
   "cell_type": "markdown",
   "id": "323f431a-6215-4eb6-bbcc-b55dfd399e2f",
   "metadata": {},
   "source": [
    "## Rnncell"
   ]
  },
  {
   "cell_type": "markdown",
   "id": "dcbb26cf-c345-4dad-b757-ecb717f660d7",
   "metadata": {},
   "source": [
    "## rnncell属性 tf.keras.layers.SimpleRNNcell层是需要自己管理每个时间戳的，tf.keras.layers.SimpleRNN不需要"
   ]
  },
  {
   "cell_type": "code",
   "execution_count": 214,
   "id": "e097f85a-435d-4d02-8a79-713c83743db5",
   "metadata": {},
   "outputs": [
    {
     "data": {
      "text/plain": [
       "[<tf.Variable 'kernel:0' shape=(4, 3) dtype=float32, numpy=\n",
       " array([[-0.38392437,  0.28266525,  0.07292658],\n",
       "        [ 0.45697188,  0.10429442, -0.40782553],\n",
       "        [ 0.73064077, -0.22349936, -0.34136516],\n",
       "        [-0.48606116, -0.08288205,  0.41117454]], dtype=float32)>,\n",
       " <tf.Variable 'recurrent_kernel:0' shape=(3, 3) dtype=float32, numpy=\n",
       " array([[ 0.3715576 , -0.4096899 , -0.8331261 ],\n",
       "        [ 0.120496  , -0.86849856,  0.48082316],\n",
       "        [ 0.9205572 ,  0.2790419 ,  0.27333128]], dtype=float32)>,\n",
       " <tf.Variable 'bias:0' shape=(3,) dtype=float32, numpy=array([0., 0., 0.], dtype=float32)>]"
      ]
     },
     "execution_count": 214,
     "metadata": {},
     "output_type": "execute_result"
    }
   ],
   "source": [
    "cell = tf.keras.layers.SimpleRNNCell(3)#3表示隐层的长度\n",
    "cell.build(input_shape=(None,4))\n",
    "cell.trainable_variables"
   ]
  },
  {
   "cell_type": "markdown",
   "id": "0ea0188d-4950-4be1-bdb2-0fa7dc286e36",
   "metadata": {},
   "source": [
    "## rnncell内部结构"
   ]
  },
  {
   "cell_type": "code",
   "execution_count": 231,
   "id": "060df5db-9c24-4252-82db-db46003407c6",
   "metadata": {},
   "outputs": [
    {
     "data": {
      "text/plain": [
       "(TensorShape([4, 64]), TensorShape([4, 64]))"
      ]
     },
     "execution_count": 231,
     "metadata": {},
     "output_type": "execute_result"
    }
   ],
   "source": [
    "x = tf.random.normal([4,80,100])#（【样本数，单词数，每个单词的维度】）\n",
    "xt0 = x[:,0,:]#表示取全部样本的第一个单词的\n",
    "cell = tf.keras.layers.SimpleRNNCell(64)\n",
    "out,xt1 =cell(xt0,[tf.zeros([4,64])])#当前的单词和上一个时间戳的状态（语义）获得下一个状态\n",
    "xt1[0].shape,out.shape#xt1是一个装在；列表中的tensor"
   ]
  },
  {
   "cell_type": "code",
   "execution_count": 233,
   "id": "838579f6-aa32-445a-a250-781ffedbf2c7",
   "metadata": {},
   "outputs": [
    {
     "data": {
      "text/plain": [
       "(139795034546768, 139795034546768)"
      ]
     },
     "execution_count": 233,
     "metadata": {},
     "output_type": "execute_result"
    }
   ],
   "source": [
    "id(out),id(xt1[0])#本质是一个值"
   ]
  },
  {
   "cell_type": "markdown",
   "id": "4376dd7c-d9d8-4448-84e2-57ba0ea758f9",
   "metadata": {},
   "source": [
    "## 多层Rnn"
   ]
  },
  {
   "cell_type": "code",
   "execution_count": 236,
   "id": "5b5acc0f-faad-4cbc-adce-7ef0337fed5b",
   "metadata": {},
   "outputs": [
    {
     "data": {
      "text/plain": [
       "(TensorShape([4, 64]),\n",
       " TensorShape([4, 64]),\n",
       " TensorShape([4, 64]),\n",
       " TensorShape([4, 64]))"
      ]
     },
     "execution_count": 236,
     "metadata": {},
     "output_type": "execute_result"
    }
   ],
   "source": [
    "x = tf.random.normal([4,80,100])\n",
    "xt0 = x[:,0,]\n",
    "cell1 = tf.keras.layers.SimpleRNNCell(64)\n",
    "cell2 = tf.keras.layers.SimpleRNNCell(64)\n",
    "state1 = [tf.zeros([4,64])]#第一层的0状态信息\n",
    "state2 = [tf.zeros([4,64])]#第二层的0状态信息\n",
    "out1,state1 = cell1(xt0,state1)\n",
    "out2,state2 = cell2(out1,state2)#更新\n",
    "\n",
    "out1.shape,out2.shape,state1[0].shape,state2[0].shape\n",
    "    "
   ]
  },
  {
   "cell_type": "code",
   "execution_count": null,
   "id": "1bb5724b-4f67-4db6-a7ed-111d4bb9e8f3",
   "metadata": {},
   "outputs": [],
   "source": []
  }
 ],
 "metadata": {
  "kernelspec": {
   "display_name": "Python 3 (ipykernel)",
   "language": "python",
   "name": "python3"
  },
  "language_info": {
   "codemirror_mode": {
    "name": "ipython",
    "version": 3
   },
   "file_extension": ".py",
   "mimetype": "text/x-python",
   "name": "python",
   "nbconvert_exporter": "python",
   "pygments_lexer": "ipython3",
   "version": "3.9.7"
  }
 },
 "nbformat": 4,
 "nbformat_minor": 5
}
