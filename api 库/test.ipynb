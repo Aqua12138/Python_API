{
 "cells": [
  {
   "cell_type": "code",
   "execution_count": 2,
   "id": "aae3eb72-10fc-4698-ab8e-96428a19fa1e",
   "metadata": {},
   "outputs": [
    {
     "data": {
      "text/plain": [
       "['-', '-', '-', '-', '-', 'T']"
      ]
     },
     "execution_count": 2,
     "metadata": {},
     "output_type": "execute_result"
    }
   ],
   "source": [
    "env_list = ['-']*5+['T']\n",
    "env_list"
   ]
  },
  {
   "cell_type": "code",
   "execution_count": 4,
   "id": "5420606a-607e-4c5b-8b4a-be5c20aa0d10",
   "metadata": {},
   "outputs": [
    {
     "data": {
      "text/plain": [
       "'-----T'"
      ]
     },
     "execution_count": 4,
     "metadata": {},
     "output_type": "execute_result"
    }
   ],
   "source": [
    "inter = ''.join(env_list)\n",
    "inter"
   ]
  },
  {
   "cell_type": "code",
   "execution_count": 8,
   "id": "bffbf1ed-b029-40fb-9efd-6d2438b08471",
   "metadata": {},
   "outputs": [
    {
     "name": "stdout",
     "output_type": "stream",
     "text": [
      "222"
     ]
    }
   ],
   "source": [
    "print('111',end='')\n",
    "print('\\r222',end='')"
   ]
  },
  {
   "cell_type": "code",
   "execution_count": null,
   "id": "b6e67e91-68f5-44a4-83b5-dc86f37ba0c1",
   "metadata": {},
   "outputs": [],
   "source": []
  }
 ],
 "metadata": {
  "kernelspec": {
   "display_name": "Python 3 (ipykernel)",
   "language": "python",
   "name": "python3"
  },
  "language_info": {
   "codemirror_mode": {
    "name": "ipython",
    "version": 3
   },
   "file_extension": ".py",
   "mimetype": "text/x-python",
   "name": "python",
   "nbconvert_exporter": "python",
   "pygments_lexer": "ipython3",
   "version": "3.9.7"
  }
 },
 "nbformat": 4,
 "nbformat_minor": 5
}
