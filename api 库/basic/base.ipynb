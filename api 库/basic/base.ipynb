{
 "cells": [
  {
   "cell_type": "markdown",
   "id": "4e1e9127-3fb5-4937-8ecd-5503ef72e02f",
   "metadata": {},
   "source": [
    "#  ''.join(list)\n",
    "用特定符号连接列表"
   ]
  },
  {
   "cell_type": "code",
   "execution_count": 2,
   "id": "5f7c21c6-db3b-4fb0-a69c-405474e8e60a",
   "metadata": {},
   "outputs": [
    {
     "data": {
      "text/plain": [
       "'-----T'"
      ]
     },
     "execution_count": 2,
     "metadata": {},
     "output_type": "execute_result"
    }
   ],
   "source": [
    "inter = ''.join(env_list)\n",
    "inter"
   ]
  },
  {
   "cell_type": "code",
   "execution_count": 1,
   "id": "d4889dd6-9f0c-4350-a102-596349d9f7ab",
   "metadata": {},
   "outputs": [
    {
     "data": {
      "text/plain": [
       "['-', '-', '-', '-', '-', 'T']"
      ]
     },
     "execution_count": 1,
     "metadata": {},
     "output_type": "execute_result"
    }
   ],
   "source": [
    "env_list = ['-']*5+['T']\n",
    "env_list"
   ]
  },
  {
   "cell_type": "code",
   "execution_count": 2,
   "id": "0a55bc15-824f-47d4-a888-a7f634c3b26a",
   "metadata": {},
   "outputs": [
    {
     "data": {
      "text/plain": [
       "'-----T'"
      ]
     },
     "execution_count": 2,
     "metadata": {},
     "output_type": "execute_result"
    }
   ],
   "source": [
    "inter = ''.join(env_list)\n",
    "inter"
   ]
  },
  {
   "cell_type": "markdown",
   "id": "84368462-c55c-4784-a831-485d90ab1a68",
   "metadata": {},
   "source": [
    "# \\r 、 end=''实现覆盖输出"
   ]
  },
  {
   "cell_type": "code",
   "execution_count": 3,
   "id": "87c337a1-a940-4528-94d6-bc0b1b71184a",
   "metadata": {},
   "outputs": [
    {
     "name": "stdout",
     "output_type": "stream",
     "text": [
      "222"
     ]
    }
   ],
   "source": [
    "print('111',end='')\n",
    "print('\\r222',end='')"
   ]
  },
  {
   "cell_type": "code",
   "execution_count": 1,
   "id": "19a7fd54-c9e1-463b-aab0-b96d7f0f9ed8",
   "metadata": {},
   "outputs": [],
   "source": [
    "import tensorflow as tf"
   ]
  },
  {
   "cell_type": "code",
   "execution_count": 6,
   "id": "909561b2-0940-4c94-943e-23ba61799071",
   "metadata": {},
   "outputs": [],
   "source": [
    "a = tf.random.normal([10,3,20])\n"
   ]
  },
  {
   "cell_type": "code",
   "execution_count": 7,
   "id": "f40ee928-3957-42b2-aee0-07ad74f3354c",
   "metadata": {},
   "outputs": [
    {
     "data": {
      "text/plain": [
       "tf.float32"
      ]
     },
     "execution_count": 7,
     "metadata": {},
     "output_type": "execute_result"
    }
   ],
   "source": [
    "a.dtype"
   ]
  },
  {
   "cell_type": "code",
   "execution_count": 29,
   "id": "ff6ddc86-eaf6-4f67-8a5c-cc0fdfb41c75",
   "metadata": {},
   "outputs": [
    {
     "data": {
      "text/plain": [
       "[1]"
      ]
     },
     "execution_count": 29,
     "metadata": {},
     "output_type": "execute_result"
    }
   ],
   "source": [
    "action_list = []\n"
   ]
  },
  {
   "cell_type": "code",
   "execution_count": 30,
   "id": "5800f356-e656-48c0-93cb-9f4f030d7adf",
   "metadata": {},
   "outputs": [],
   "source": [
    "for word in tf.unstack(a,axis=1):\n",
    "    action_list.append(word) "
   ]
  },
  {
   "cell_type": "code",
   "execution_count": 46,
   "id": "d90fd971-b843-42f4-a494-d7ff5e0767f7",
   "metadata": {},
   "outputs": [
    {
     "data": {
      "text/plain": [
       "<tf.Tensor: shape=(10, 20), dtype=float32, numpy=\n",
       "array([[ 3.7629873e-02, -6.5446687e-01, -8.8388628e-01,  1.5349996e+00,\n",
       "         1.2998645e-01,  3.6953852e-01, -1.3019300e+00,  4.5748931e-01,\n",
       "        -1.3680817e+00,  4.8307840e-02, -3.0296021e+00,  1.1530373e+00,\n",
       "         3.6523599e-02, -2.1668589e-01, -6.4138752e-01,  3.8512132e-01,\n",
       "         1.4332861e+00,  3.9287385e-01,  7.4111506e-02, -1.4671376e+00],\n",
       "       [ 1.3990581e+00, -5.8530843e-01,  4.4020784e-01, -7.1538246e-01,\n",
       "        -5.4726982e-01, -9.5970517e-01,  4.4815114e-01,  8.7333149e-01,\n",
       "        -8.6608231e-01,  1.6698888e-01,  1.3556565e+00,  1.1564947e+00,\n",
       "        -5.4348713e-01,  1.1002114e+00, -7.3710251e-01, -2.1593900e+00,\n",
       "        -1.3143424e+00,  1.0120332e+00,  7.1303928e-01, -4.4520106e-02],\n",
       "       [-3.9234808e-01,  7.6962268e-01, -2.1964607e+00,  1.2417575e+00,\n",
       "         6.3153231e-01, -4.6639669e-01,  1.4207443e-02,  1.3000301e+00,\n",
       "         1.6112968e+00,  1.4870752e-01, -1.2183000e+00, -2.1536455e+00,\n",
       "         5.1885253e-01,  1.5470556e+00,  3.6919046e-02,  7.5023168e-01,\n",
       "        -6.2686962e-01, -3.4060207e-01, -1.5575873e+00, -1.1652944e+00],\n",
       "       [ 2.3256251e-01,  8.8028854e-01,  4.7683367e-01, -1.1813500e-01,\n",
       "        -1.8203214e-01,  1.5692745e-01,  1.0900919e+00, -3.8703607e-04,\n",
       "         4.9372578e-01,  6.6177136e-01,  4.3697947e-01,  7.7126086e-01,\n",
       "        -2.3293935e-01, -1.3884127e+00, -3.5174653e-01,  1.8088175e+00,\n",
       "         5.2765751e-01, -1.8168837e-01, -1.0130345e-01,  1.5378684e+00],\n",
       "       [-9.7471279e-01, -4.8434627e-01, -8.3810800e-01,  2.4350470e-01,\n",
       "        -5.7964391e-01, -4.1677219e-01, -1.4650315e+00,  5.7319033e-01,\n",
       "        -8.8733411e-01,  1.1475142e-01,  1.1511433e+00, -6.4644676e-01,\n",
       "         7.5339168e-02,  9.7900891e-01,  5.3833175e-01, -5.7105058e-01,\n",
       "        -5.0051546e-01,  2.0045023e-01,  5.2145076e-01, -8.5762382e-02],\n",
       "       [ 7.5231232e-03, -3.3519360e-01, -2.3149014e-01,  1.5296469e-02,\n",
       "         1.6108449e+00, -2.3430187e-01, -3.8010696e-01,  3.4970561e-01,\n",
       "         1.1655731e-01,  1.9671617e-02, -1.2441267e-01,  1.9953265e+00,\n",
       "        -2.2295265e-01,  1.5210268e+00,  5.3152335e-01,  7.4853587e-01,\n",
       "        -2.5245428e+00,  4.3592465e-01, -3.3139732e-01, -1.9688178e+00],\n",
       "       [-5.2529329e-01,  6.8831944e-01,  1.1798426e+00,  1.0694693e+00,\n",
       "         7.9853159e-01,  2.1470241e-01,  5.4644585e-02,  1.5280098e+00,\n",
       "         2.9597288e-01,  2.8422341e-01, -2.3477521e+00,  1.3030653e+00,\n",
       "        -6.8203759e-01, -2.0629510e-02,  7.2713703e-01, -7.6576722e-01,\n",
       "         3.3220747e-01,  6.5834165e-01,  2.7327612e-01,  1.0008636e+00],\n",
       "       [ 2.1840987e+00, -1.6667588e-01,  1.1780156e+00,  1.6313824e-01,\n",
       "         3.4804192e-01, -9.0008539e-01, -2.3067094e-01, -5.3675622e-01,\n",
       "        -1.0372988e+00,  1.3734123e-01, -9.1092902e-01,  6.2314701e-01,\n",
       "         1.5989143e-01,  8.8105750e-01,  1.6831124e+00,  5.7339215e-01,\n",
       "        -1.0054348e+00, -1.9646318e-01, -6.8349335e-03, -1.5603653e+00],\n",
       "       [-8.3847386e-01, -2.3807713e-01, -1.5262686e-01, -1.9652717e+00,\n",
       "         2.5187773e-01,  6.9270915e-01, -1.0270122e+00,  6.9703972e-01,\n",
       "         1.3435425e+00, -1.9653510e-01,  1.9048451e+00, -9.3397349e-01,\n",
       "        -8.8160247e-01, -8.0851579e-01,  1.7938496e+00, -1.9097307e-01,\n",
       "         1.9441284e-01,  1.7416801e-01,  9.8979968e-01, -8.6893998e-02],\n",
       "       [-1.4217167e+00, -1.3846208e+00,  1.7566642e+00, -6.9916123e-01,\n",
       "        -1.5005724e-03,  8.0204356e-01,  1.2401065e+00, -7.2506070e-01,\n",
       "         1.1365869e+00,  5.6154740e-01, -8.1094831e-01,  1.0890158e-01,\n",
       "         2.5753016e+00,  1.7326224e+00, -1.1814896e+00, -1.0382309e+00,\n",
       "        -2.6843581e-01,  2.2885209e-01, -8.2011324e-01,  6.0046047e-01]],\n",
       "      dtype=float32)>"
      ]
     },
     "execution_count": 46,
     "metadata": {},
     "output_type": "execute_result"
    }
   ],
   "source": [
    "action_list[1]"
   ]
  },
  {
   "cell_type": "code",
   "execution_count": 43,
   "id": "d1c05088-fa53-4ed3-8a8a-c61b447447f9",
   "metadata": {},
   "outputs": [
    {
     "data": {
      "text/plain": [
       "TensorShape([10, 3, 3, 20])"
      ]
     },
     "execution_count": 43,
     "metadata": {},
     "output_type": "execute_result"
    }
   ],
   "source": [
    "b = tf.stack([a,a,a],axis=1)\n",
    "b.shape"
   ]
  },
  {
   "cell_type": "code",
   "execution_count": 47,
   "id": "894e85c5-b4dd-4406-8226-6f6fd3f9ce27",
   "metadata": {},
   "outputs": [],
   "source": [
    "a = tf.random.uniform([3,2,4])"
   ]
  },
  {
   "cell_type": "code",
   "execution_count": 50,
   "id": "4c481511-6b8b-42f6-b4d7-b51798ee4d62",
   "metadata": {},
   "outputs": [],
   "source": [
    "a = tf.keras.preprocessing.sequence.pad_sequences(a,1)"
   ]
  },
  {
   "cell_type": "code",
   "execution_count": 51,
   "id": "5ba0958d-a108-40b1-ba06-b9505ce55c72",
   "metadata": {},
   "outputs": [
    {
     "data": {
      "text/plain": [
       "(3, 1, 4)"
      ]
     },
     "execution_count": 51,
     "metadata": {},
     "output_type": "execute_result"
    }
   ],
   "source": [
    "a.shape"
   ]
  },
  {
   "cell_type": "code",
   "execution_count": null,
   "id": "b8ff3ca8-9a61-49b4-8520-fb5efb22e820",
   "metadata": {},
   "outputs": [],
   "source": [
    "\n"
   ]
  },
  {
   "cell_type": "code",
   "execution_count": 8,
   "id": "ad557c18-16de-460d-bd68-2f76922e7887",
   "metadata": {},
   "outputs": [],
   "source": [
    "#[]\n",
    "a = tf.random.normal([1,80])\n",
    "state0 = [tf.zeros([1,64]),tf.zeros([1,64])]\n",
    "cell = tf.keras.layers.LSTMCell(64)"
   ]
  },
  {
   "cell_type": "code",
   "execution_count": 9,
   "id": "c6bf768e-d317-4d39-8315-786717dcfcc9",
   "metadata": {},
   "outputs": [],
   "source": [
    "out,hidden = cell(a,state0)"
   ]
  },
  {
   "cell_type": "code",
   "execution_count": null,
   "id": "ab1cbca6-fd83-4838-b67f-a93916841a4a",
   "metadata": {},
   "outputs": [],
   "source": []
  }
 ],
 "metadata": {
  "kernelspec": {
   "display_name": "Python 3 (ipykernel)",
   "language": "python",
   "name": "python3"
  },
  "language_info": {
   "codemirror_mode": {
    "name": "ipython",
    "version": 3
   },
   "file_extension": ".py",
   "mimetype": "text/x-python",
   "name": "python",
   "nbconvert_exporter": "python",
   "pygments_lexer": "ipython3",
   "version": "3.9.7"
  }
 },
 "nbformat": 4,
 "nbformat_minor": 5
}
